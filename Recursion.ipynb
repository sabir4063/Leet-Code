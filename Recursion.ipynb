{
 "cells": [
  {
   "cell_type": "code",
   "execution_count": 27,
   "metadata": {},
   "outputs": [],
   "source": [
    "def word_split(phrase,list_of_words, output = None):\n",
    "    print(generate_solution(phrase,list_of_words,output, 0,0))"
   ]
  },
  {
   "cell_type": "code",
   "execution_count": 30,
   "metadata": {},
   "outputs": [],
   "source": [
    "def generate_solution(phrase,list_of_words,output, i,j):\n",
    "    \n",
    "    if output == None:\n",
    "        output= []\n",
    "        \n",
    "    print(phrase[i:j], i,j)\n",
    "    if phrase[i:j] in list_of_words:\n",
    "        output.append(phrase[i:j])\n",
    "        i = j\n",
    "        j += 1\n",
    "        print(output)\n",
    "        generate_solution(phrase,list_of_words,output, i,j)\n",
    "    elif j>=len(phrase):\n",
    "        return output \n",
    "    else:\n",
    "        j += 1\n",
    "        generate_solution(phrase,list_of_words,output, i,j)"
   ]
  },
  {
   "cell_type": "code",
   "execution_count": 32,
   "metadata": {},
   "outputs": [
    {
     "name": "stdout",
     "output_type": "stream",
     "text": [
      " 0 0\n",
      "i 0 1\n",
      "['i']\n",
      "l 1 2\n",
      "lo 1 3\n",
      "lov 1 4\n",
      "love 1 5\n",
      "['i', 'love']\n",
      "d 5 6\n",
      "do 5 7\n",
      "dog 5 8\n",
      "dogs 5 9\n",
      "['i', 'love', 'dogs']\n",
      "J 9 10\n",
      "Jo 9 11\n",
      "Joh 9 12\n",
      "John 9 13\n",
      "['i', 'love', 'dogs', 'John']\n",
      " 13 14\n",
      "None\n"
     ]
    }
   ],
   "source": [
    "word_split('ilovedogsJohn',['i','am','a','dogs','lover','love','John'])"
   ]
  },
  {
   "cell_type": "code",
   "execution_count": 49,
   "metadata": {},
   "outputs": [],
   "source": [
    "def reverse(s):\n",
    "    if(len(s)<=1):\n",
    "        return s\n",
    "    else:\n",
    "        m = int(len(s)/2)\n",
    "        return reverse(s[m:]) + (reverse((s[:m])))\n",
    "    pass"
   ]
  },
  {
   "cell_type": "code",
   "execution_count": 50,
   "metadata": {},
   "outputs": [
    {
     "data": {
      "text/plain": [
       "'dlrow olleh'"
      ]
     },
     "execution_count": 50,
     "metadata": {},
     "output_type": "execute_result"
    }
   ],
   "source": [
    "reverse('hello world')"
   ]
  },
  {
   "cell_type": "code",
   "execution_count": 56,
   "metadata": {},
   "outputs": [
    {
     "name": "stdout",
     "output_type": "stream",
     "text": [
      "['A', 'B', 'C'] 0 0 3\n",
      "['A', 'B', 'C'] 1 1 3\n",
      "ABC\n",
      "['A', 'C', 'B'] 2 1 3\n",
      "ACB\n",
      "['B', 'A', 'C'] 1 0 3\n",
      "['B', 'A', 'C'] 1 1 3\n",
      "BAC\n",
      "['B', 'C', 'A'] 2 1 3\n",
      "BCA\n",
      "['C', 'B', 'A'] 2 0 3\n",
      "['C', 'B', 'A'] 1 1 3\n",
      "CBA\n",
      "['C', 'A', 'B'] 2 1 3\n",
      "CAB\n"
     ]
    }
   ],
   "source": [
    "# Python program to print all permutations with \n",
    "# duplicates allowed \n",
    "  \n",
    "def toString(List): \n",
    "    return ''.join(List) \n",
    "  \n",
    "    \n",
    "# Function to print permutations of string \n",
    "# This function takes three parameters: \n",
    "# 1. String \n",
    "# 2. Starting index of the string \n",
    "# 3. Ending index of the string. \n",
    "def permute(a, l, r): \n",
    "    if l==r: \n",
    "        print(toString(a))\n",
    "    else: \n",
    "        for i in range(l,r+1): \n",
    "            a[l], a[i] = a[i], a[l] \n",
    "            print(a,i,l,r+1)\n",
    "            permute(a, l+1, r) \n",
    "            a[l], a[i] = a[i], a[l] # backtrack \n",
    "\n",
    "        \n",
    "#Driver program to test the above function \n",
    "string = \"ABC\"\n",
    "n = len(string) \n",
    "a = list(string) \n",
    "permute(a, 0, n-1) "
   ]
  },
  {
   "cell_type": "code",
   "execution_count": 18,
   "metadata": {},
   "outputs": [],
   "source": [
    "def coin_change(target, coins, res):\n",
    "    \n",
    "    #if target<0:\n",
    "    #    return\n",
    "    \n",
    "    if target==0:\n",
    "        print(res)\n",
    "        return \n",
    "    \n",
    "    for c in [coin for coin in coins if coin<=target]:\n",
    "        res.append(c)\n",
    "        print(res)\n",
    "        coin_change(target-c, coins, res)\n",
    "        res.pop()\n",
    "                \n",
    "    return "
   ]
  },
  {
   "cell_type": "code",
   "execution_count": 22,
   "metadata": {},
   "outputs": [
    {
     "name": "stdout",
     "output_type": "stream",
     "text": [
      "[2]\n",
      "[2, 2]\n",
      "[2, 2, 2]\n",
      "[2, 2, 2, 2]\n",
      "[2, 2, 2, 2]\n",
      "[2, 2, 3]\n",
      "[2, 2, 4]\n",
      "[2, 2, 4]\n",
      "[2, 3]\n",
      "[2, 3, 2]\n",
      "[2, 3, 3]\n",
      "[2, 3, 3]\n",
      "[2, 4]\n",
      "[2, 4, 2]\n",
      "[2, 4, 2]\n",
      "[3]\n",
      "[3, 2]\n",
      "[3, 2, 2]\n",
      "[3, 2, 3]\n",
      "[3, 2, 3]\n",
      "[3, 3]\n",
      "[3, 3, 2]\n",
      "[3, 3, 2]\n",
      "[3, 4]\n",
      "[4]\n",
      "[4, 2]\n",
      "[4, 2, 2]\n",
      "[4, 2, 2]\n",
      "[4, 3]\n",
      "[4, 4]\n",
      "[4, 4]\n",
      "[8]\n",
      "[8]\n"
     ]
    }
   ],
   "source": [
    "target = 8\n",
    "coins = [2,3,4,8]\n",
    "coin_change(target, coins, [])"
   ]
  }
 ],
 "metadata": {
  "kernelspec": {
   "display_name": "Python 3",
   "language": "python",
   "name": "python3"
  },
  "language_info": {
   "codemirror_mode": {
    "name": "ipython",
    "version": 3
   },
   "file_extension": ".py",
   "mimetype": "text/x-python",
   "name": "python",
   "nbconvert_exporter": "python",
   "pygments_lexer": "ipython3",
   "version": "3.6.4"
  }
 },
 "nbformat": 4,
 "nbformat_minor": 2
}
