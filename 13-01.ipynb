{
 "cells": [
  {
   "cell_type": "code",
   "execution_count": 31,
   "metadata": {},
   "outputs": [],
   "source": [
    "# Definition for singly-linked list.\n",
    "# class ListNode(object):\n",
    "#     def __init__(self, x):\n",
    "#         self.val = x\n",
    "#         self.next = None\n",
    "\n",
    "class Solution(object):\n",
    "    def rotateRight(self, head, k):\n",
    "        \"\"\"\n",
    "        :type head: ListNode\n",
    "        :type k: int\n",
    "        :rtype: ListNode\n",
    "        \"\"\"\n",
    "        \n",
    "        if head is None or k == 0 or head.next is None:\n",
    "            return head\n",
    "\n",
    "        count = 1\n",
    "        curr = head\n",
    "        tail = None\n",
    "        while curr.next:\n",
    "            curr = curr.next\n",
    "            count += 1\n",
    "            \n",
    "        tail = curr\n",
    "        if k >= count:\n",
    "            k = k%count\n",
    "        if k == 0:\n",
    "            return head\n",
    "        \n",
    "        ind = count - k\n",
    "        #print(ind, count)\n",
    "        \n",
    "        count = 0\n",
    "        curr = head\n",
    "        prev = None\n",
    "        while curr:\n",
    "            count += 1\n",
    "            if ind == count: \n",
    "                break\n",
    "            prev = curr\n",
    "            curr = curr.next\n",
    "        \n",
    "       # print(tail.val, head.val, prev.val, curr.val)\n",
    "        tail.next = head\n",
    "        head = curr.next\n",
    "        curr.next = None\n",
    "        \n",
    "#         c = head\n",
    "#         while(c):\n",
    "#             print(c.val)\n",
    "#             c = c.next\n",
    "        \n",
    "        return head"
   ]
  },
  {
   "cell_type": "code",
   "execution_count": 32,
   "metadata": {},
   "outputs": [
    {
     "name": "stdout",
     "output_type": "stream",
     "text": [
      "3\n",
      "4\n",
      "0\n",
      "1\n",
      "2\n"
     ]
    },
    {
     "data": {
      "text/plain": [
       "<__main__.ListNode at 0x219ce7ef7b8>"
      ]
     },
     "execution_count": 32,
     "metadata": {},
     "output_type": "execute_result"
    }
   ],
   "source": [
    "h = ListNode(0)\n",
    "a = ListNode(1)\n",
    "b = ListNode(2)\n",
    "c = ListNode(3)\n",
    "d = ListNode(4)\n",
    "\n",
    "h.next = a\n",
    "a.next = b\n",
    "b.next = c\n",
    "c.next = d\n",
    "\n",
    "S = Solution()\n",
    "S.rotateRight(h,2)"
   ]
  },
  {
   "cell_type": "code",
   "execution_count": null,
   "metadata": {},
   "outputs": [],
   "source": [
    "# Enter your code here. Read input from STDIN. Print output to STDOUT\n",
    "n = int(input())\n",
    "\n",
    "d = {}\n",
    "\n",
    "for i in range(n):\n",
    "    key = input().strip()\n",
    "    val = int(input())\n",
    "    d[key]=val\n",
    "    \n",
    "print(d)\n",
    "for i in range(n):\n",
    "    s = input()\n",
    "    if s in d:\n",
    "        print(s,'=',d[s])\n",
    "    else:\n",
    "        print('Not found')"
   ]
  }
 ],
 "metadata": {
  "kernelspec": {
   "display_name": "Python 3",
   "language": "python",
   "name": "python3"
  },
  "language_info": {
   "codemirror_mode": {
    "name": "ipython",
    "version": 3
   },
   "file_extension": ".py",
   "mimetype": "text/x-python",
   "name": "python",
   "nbconvert_exporter": "python",
   "pygments_lexer": "ipython3",
   "version": "3.6.4"
  }
 },
 "nbformat": 4,
 "nbformat_minor": 2
}
