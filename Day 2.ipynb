{
 "cells": [
  {
   "cell_type": "code",
   "execution_count": 14,
   "metadata": {},
   "outputs": [],
   "source": [
    "class Solution(object):\n",
    "    def judgeCircle(self, moves):\n",
    "        \"\"\"\n",
    "        :type moves: str\n",
    "        :rtype: bool\n",
    "        \"\"\"\n",
    "        x = 0\n",
    "        y = 0\n",
    "        \n",
    "        for i,c in enumerate(moves):\n",
    "            if c =='U':\n",
    "                y = y + 1\n",
    "            elif c =='D':\n",
    "                 y = y - 1\n",
    "            elif c == 'L':\n",
    "                 x = x + 1\n",
    "            else:\n",
    "                x = x - 1\n",
    "        \n",
    "        if x==0 and y==0:\n",
    "            return True\n",
    "        else:\n",
    "            return False"
   ]
  },
  {
   "cell_type": "code",
   "execution_count": 13,
   "metadata": {},
   "outputs": [
    {
     "name": "stdout",
     "output_type": "stream",
     "text": [
      "L\n",
      "R\n"
     ]
    },
    {
     "data": {
      "text/plain": [
       "0"
      ]
     },
     "execution_count": 13,
     "metadata": {},
     "output_type": "execute_result"
    }
   ],
   "source": [
    "solution = Solution()\n",
    "solution.judgeCircle(\"LR\")"
   ]
  },
  {
   "cell_type": "code",
   "execution_count": 77,
   "metadata": {},
   "outputs": [],
   "source": [
    "class Solution(object):\n",
    "    def flipAndInvertImage(self, A):\n",
    "        \"\"\"\n",
    "        :type A: List[List[int]]\n",
    "        :rtype: List[List[int]]\n",
    "        \"\"\"\n",
    "        B = []\n",
    "        for i,r in enumerate(A):\n",
    "            temp1 = A[i]\n",
    "            temp2 = []\n",
    "            for j,c in enumerate(temp1[::-1]):\n",
    "                temp2.append(c)\n",
    "            B.append(temp2)\n",
    "        \n",
    "        res = []\n",
    "        \n",
    "        for i,r in enumerate(B):\n",
    "            temp1 = B[i]\n",
    "            temp2 = []\n",
    "            for j,c in enumerate(temp1):\n",
    "                if c==1:\n",
    "                    temp2.append(0)\n",
    "                else:\n",
    "                    temp2.append(1)\n",
    "            res.append(temp2)\n",
    "            \n",
    "        #print(res)\n",
    "        return res"
   ]
  },
  {
   "cell_type": "code",
   "execution_count": 78,
   "metadata": {},
   "outputs": [
    {
     "data": {
      "text/plain": [
       "[[1, 0, 0], [0, 1, 0], [1, 1, 1]]"
      ]
     },
     "execution_count": 78,
     "metadata": {},
     "output_type": "execute_result"
    }
   ],
   "source": [
    "solution = Solution()\n",
    "solution.flipAndInvertImage([[1,1,0],[1,0,1],[0,0,0]])"
   ]
  }
 ],
 "metadata": {
  "kernelspec": {
   "display_name": "Python 3",
   "language": "python",
   "name": "python3"
  },
  "language_info": {
   "codemirror_mode": {
    "name": "ipython",
    "version": 3
   },
   "file_extension": ".py",
   "mimetype": "text/x-python",
   "name": "python",
   "nbconvert_exporter": "python",
   "pygments_lexer": "ipython3",
   "version": "3.6.4"
  }
 },
 "nbformat": 4,
 "nbformat_minor": 2
}
