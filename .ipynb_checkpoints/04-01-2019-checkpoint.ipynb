{
 "cells": [
  {
   "cell_type": "code",
   "execution_count": null,
   "metadata": {},
   "outputs": [],
   "source": [
    "class Solution:\n",
    "    def toHex(self, num):\n",
    "        \"\"\"\n",
    "        :type num: int\n",
    "        :rtype: str\n",
    "        \"\"\"\n",
    "        \n",
    "        if num < 0:\n",
    "            num += 2 ** 32\n",
    "        #print(num)\n",
    "        \n",
    "        d = {10:'a',11:'b',12:'c',13:'d',14:'e',15:'f',}\n",
    "        if num==0: return '0'\n",
    "        \n",
    "        hexa = ''\n",
    "            \n",
    "        while(num):\n",
    "            r = int(num/16)\n",
    "            m = int(num%16)\n",
    "            if m >=10:\n",
    "                hexa = hexa+d[m]\n",
    "            else:\n",
    "                hexa = hexa+str(m)\n",
    "            num = r\n",
    "            #print(num)\n",
    "        \n",
    "        hexa = hexa[::-1]\n",
    "        \n",
    "        return hexa"
   ]
  },
  {
   "cell_type": "code",
   "execution_count": null,
   "metadata": {},
   "outputs": [],
   "source": [
    "solution = Solution()\n",
    "solution.toHex(26)"
   ]
  },
  {
   "cell_type": "code",
   "execution_count": null,
   "metadata": {},
   "outputs": [],
   "source": [
    "class Solution(object):\n",
    "    def isPowerOfTwo(self, n):\n",
    "        \"\"\"\n",
    "        :type n: int\n",
    "        :rtype: bool\n",
    "        \"\"\"\n",
    "        \n",
    "        d = {1:True}\n",
    "        two = 2\n",
    "        \n",
    "        while(two<=pow(2,32)):\n",
    "            d[two]=True\n",
    "            two = two*2\n",
    "        \n",
    "        if n in d:\n",
    "            return True\n",
    "        return False\n",
    "    "
   ]
  },
  {
   "cell_type": "code",
   "execution_count": null,
   "metadata": {},
   "outputs": [],
   "source": [
    "solution = Solution()\n",
    "solution.isPowerOfTwo(16)"
   ]
  },
  {
   "cell_type": "code",
   "execution_count": null,
   "metadata": {},
   "outputs": [],
   "source": [
    "class Solution(object):\n",
    "    def getRow(self, rowIndex):\n",
    "        \"\"\"\n",
    "        :type rowIndex: int\n",
    "        :rtype: List[int]\n",
    "        \"\"\"\n",
    "        \n",
    "        triangle = []\n",
    "        \n",
    "        for i in range(0,rowIndex+1,1):\n",
    "            temp = []\n",
    "            for j in range(0,i+1,1):\n",
    "                #print(i,j)\n",
    "                if j==0 or j==i:\n",
    "                    temp.append(1)\n",
    "                else:\n",
    "                    temp.append(triangle[i-1][j-1]+triangle[i-1][j])\n",
    "            triangle.append(temp)\n",
    "            #print(triangle)\n",
    "        return temp"
   ]
  },
  {
   "cell_type": "code",
   "execution_count": null,
   "metadata": {},
   "outputs": [],
   "source": [
    "solution = Solution()\n",
    "solution.getRow(6)"
   ]
  },
  {
   "cell_type": "code",
   "execution_count": null,
   "metadata": {},
   "outputs": [],
   "source": [
    "class Solution(object):\n",
    "    def mostCommonWord(self, paragraph, banned):\n",
    "        \"\"\"\n",
    "        :type paragraph: str\n",
    "        :type banned: List[str]\n",
    "        :rtype: str\n",
    "        \"\"\"\n",
    "        \n",
    "        paragraph = paragraph.replace('.',' ').replace(',',' ').replace('?',' ').replace('!',' ').replace(';',' ').replace('\\'',' ')\n",
    "        \n",
    "        d = {}\n",
    "        for word in paragraph.split():\n",
    "            word = word.lower()\n",
    "            d[word] = d.get(word,0)+1\n",
    "        \n",
    "        #print(d)\n",
    "        sorted_list = sorted(d.items(), key=lambda kv:kv[1], reverse=True)\n",
    "        for kv in sorted_list:\n",
    "            if kv[0] not in banned:\n",
    "                return kv[0]"
   ]
  },
  {
   "cell_type": "code",
   "execution_count": null,
   "metadata": {},
   "outputs": [],
   "source": [
    "solution = Solution()\n",
    "solution.mostCommonWord(paragraph = \"L, P! X! C; u! P? w! P. G, S? l? X? D. w? m? f? v, x? i. z; x' m! U' M! j? V; l. S! j? r, K. O? k? p? p, H! t! z' X! v. u; F, h; s? X? K. y, Y! L; q! y? j, o? D' y? F' Z; E? W; W' W! n! p' U. N; w? V' y! Q; J, o! T? g? o! N' M? X? w! V. w? o' k. W. y, k; o' m! r; i, n. k, w; U? S? t; O' g' z. V. N? z, W? j! m? W! h; t! V' T! Z? R' w, w? y? y; O' w; r? q. G, V. x? n, Y; Q. s? S. G. f, s! U? l. o! i. L; Z' X! u. y, Q. q; Q, D; V. m. q. s? Y, U; p? u! q? h? O. W' y? Z! x! r. E, R, r' X' V, b. z, x! Q; y, g' j; j. q; W; v' X! J' H? i' o? n, Y. X! x? h? u; T? l! o? z. K' z' s; L? p? V' r. L? Y; V! V' S. t? Z' T' Y. s? i? Y! G? r; Y; T! h! K; M. k. U; A! V? R? C' x! X. M; z' V! w. N. T? Y' w? n, Z, Z? Y' R; V' f; V' I; t? X? Z; l? R, Q! Z. R. R, O. S! w; p' T. u? U! n, V, M. p? Q, O? q' t. B, k. u. H' T; T? S; Y! S! i? q! K' z' S! v; L. x; q; W? m? y, Z! x. y. j? N' R' I? r? V! Z; s, O? s; V, I, e? U' w! T? T! u; U! e? w? z; t! C! z? U, p' p! r. x; U! Z; u! j; T! X! N' F? n! P' t, X. s; q'\",\n",
    "banned = [\"m\",\"i\",\"s\",\"w\",\"y\",\"d\",\"q\",\"l\",\"a\",\"p\",\"n\",\"t\",\"u\",\"b\",\"o\",\"e\",\"f\",\"g\",\"c\",\"x\"])"
   ]
  },
  {
   "cell_type": "code",
   "execution_count": null,
   "metadata": {},
   "outputs": [],
   "source": [
    "class Solution(object):\n",
    "    def rob(self, nums):\n",
    "        \"\"\"\n",
    "        :type nums: List[int]\n",
    "        :rtype: int\n",
    "        \"\"\"\n",
    "        \n",
    "        mx = 0\n",
    "        prev = 0\n",
    "        prev_prev = 0\n",
    "        \n",
    "        for n in nums:\n",
    "            #print(n,prev,prev_prev,mx)\n",
    "            n = max(prev_prev+n, prev)\n",
    "            mx = max(mx,n)\n",
    "            prev_prev = prev\n",
    "            prev = n\n",
    "            \n",
    "        return mx"
   ]
  },
  {
   "cell_type": "code",
   "execution_count": null,
   "metadata": {},
   "outputs": [],
   "source": [
    "solution = Solution()\n",
    "solution.rob([2])"
   ]
  },
  {
   "cell_type": "code",
   "execution_count": null,
   "metadata": {},
   "outputs": [],
   "source": [
    "class Solution(object):\n",
    "    def reverseVowels(self, s):\n",
    "        \"\"\"\n",
    "        :type s: str\n",
    "        :rtype: str\n",
    "        \"\"\"\n",
    "        \n",
    "        res = list(s)\n",
    "        vowels = []\n",
    "        ind = []\n",
    "        for i,c in enumerate(s):\n",
    "            if c =='a' or c =='e'  or c =='i'  or c =='o'  or c =='u' or c =='A' or c =='E'  or c =='I'  or c =='O'  or c =='U':\n",
    "                vowels.append(c)\n",
    "                ind.append(i)\n",
    "                \n",
    "        j = len(vowels)-1\n",
    "        #print(ind)\n",
    "        \n",
    "        for i in ind:\n",
    "            res[i] = vowels[j]\n",
    "            j -= 1\n",
    "            \n",
    "        return ''.join(res)"
   ]
  },
  {
   "cell_type": "code",
   "execution_count": null,
   "metadata": {},
   "outputs": [],
   "source": [
    "solution = Solution()\n",
    "solution.reverseVowels(\"leetcode\")"
   ]
  },
  {
   "cell_type": "code",
   "execution_count": null,
   "metadata": {},
   "outputs": [],
   "source": [
    "class Solution(object):\n",
    "    def plusOne(self, digits):\n",
    "        \"\"\"\n",
    "        :type digits: List[int]\n",
    "        :rtype: List[int]\n",
    "        \"\"\"\n",
    "        \n",
    "        carry = 1\n",
    "        res = []\n",
    "        for i in range(len(digits)-1, -1, -1):\n",
    "            add = digits[i]+carry \n",
    "            if add > 9:\n",
    "                carry = 1\n",
    "            else:\n",
    "                carry= 0 \n",
    "                \n",
    "            res.append(add%10)\n",
    "        \n",
    "        if carry==1:\n",
    "            res.append(1)\n",
    "            \n",
    "        return res[::-1]"
   ]
  },
  {
   "cell_type": "code",
   "execution_count": null,
   "metadata": {},
   "outputs": [],
   "source": [
    "solution = Solution()\n",
    "solution.plusOne([4,3,2,1])"
   ]
  },
  {
   "cell_type": "code",
   "execution_count": null,
   "metadata": {},
   "outputs": [],
   "source": [
    "class Solution(object):\n",
    "    def isUgly(self, num):\n",
    "        \"\"\"\n",
    "        :type num: int\n",
    "        :rtype: bool\n",
    "        \"\"\"\n",
    "        \n",
    "        if num<1: return False\n",
    "\n",
    "        while num>1:\n",
    "            if num%2==0:\n",
    "                num = num/2\n",
    "            elif num%3==0:\n",
    "                num = num/3 \n",
    "            elif num%5==0:\n",
    "                num = num/5\n",
    "            else:\n",
    "                return False\n",
    "        \n",
    "        return True"
   ]
  },
  {
   "cell_type": "code",
   "execution_count": null,
   "metadata": {},
   "outputs": [],
   "source": [
    "solution = Solution()\n",
    "solution.isUgly(14)"
   ]
  },
  {
   "cell_type": "code",
   "execution_count": null,
   "metadata": {},
   "outputs": [],
   "source": [
    "class Solution(object):\n",
    "    def searchInsert(self, nums, target):\n",
    "        \"\"\"\n",
    "        :type nums: List[int]\n",
    "        :type target: int\n",
    "        :rtype: int\n",
    "        \"\"\"\n",
    "        \n",
    "        l = 0\n",
    "        h = len(nums)-1\n",
    "        \n",
    "        while(l<=h):\n",
    "            m = int(l + (h-l)/2)\n",
    "            if nums[m]==target:\n",
    "                return m\n",
    "            elif target>nums[m]:\n",
    "                l = m + 1\n",
    "            else:\n",
    "                h = m - 1\n",
    "        \n",
    "        if target>nums[len(nums)-1]: return len(nums)\n",
    "        if target<nums[0]: return 0\n",
    "        if target<nums[m]:\n",
    "            return m\n",
    "        if target>nums[m]:\n",
    "            return m+1"
   ]
  },
  {
   "cell_type": "code",
   "execution_count": null,
   "metadata": {},
   "outputs": [],
   "source": [
    "solution = Solution()\n",
    "solution.searchInsert([1,3,5,6], 4)"
   ]
  },
  {
   "cell_type": "code",
   "execution_count": null,
   "metadata": {},
   "outputs": [],
   "source": [
    "class Solution(object):\n",
    "    def findErrorNums(self, nums):\n",
    "        \"\"\"\n",
    "        :type nums: List[int]\n",
    "        :rtype: List[int]\n",
    "        \"\"\"\n",
    "        \n",
    "        d = {}\n",
    "        res = []\n",
    "        N = len(nums)\n",
    "        summation = int(N*(N+1)/2)\n",
    "        for i,n in enumerate(nums):\n",
    "            d[n] = d.get(n,0)+1\n",
    "            if d[n]==2:\n",
    "                res.append(n)\n",
    "                break\n",
    "        \n",
    "        nums.pop(i)\n",
    "        missing = summation - sum(nums)\n",
    "        res.append(missing)\n",
    "        \n",
    "        return res"
   ]
  },
  {
   "cell_type": "code",
   "execution_count": null,
   "metadata": {},
   "outputs": [],
   "source": [
    "solution = Solution()\n",
    "solution.findErrorNums(nums = [1,2,2,4])"
   ]
  },
  {
   "cell_type": "code",
   "execution_count": null,
   "metadata": {},
   "outputs": [],
   "source": [
    "class Solution(object):\n",
    "    def dominantIndex(self, nums):\n",
    "        \"\"\"\n",
    "        :type nums: List[int]\n",
    "        :rtype: int\n",
    "        \"\"\"\n",
    "        \n",
    "        mx = max(nums)\n",
    "        ind = -1\n",
    "        for i,n in enumerate(nums):\n",
    "            if n==mx: \n",
    "                ind = i\n",
    "                continue\n",
    "            if 2*n>mx:\n",
    "                return -1\n",
    "        \n",
    "        return ind"
   ]
  },
  {
   "cell_type": "code",
   "execution_count": null,
   "metadata": {},
   "outputs": [],
   "source": [
    "solution = Solution()\n",
    "solution.dominantIndex(nums = [3, 6, 1, 0])"
   ]
  },
  {
   "cell_type": "code",
   "execution_count": null,
   "metadata": {},
   "outputs": [],
   "source": [
    "class Solution(object):\n",
    "    def pivotIndex(self, nums):\n",
    "        \"\"\"\n",
    "        :type nums: List[int]\n",
    "        :rtype: int\n",
    "        \"\"\"\n",
    "        \n",
    "        summation = sum(nums)\n",
    "        l = r = 0\n",
    "        \n",
    "        for i, n in enumerate(nums):\n",
    "            r = summation - n - l\n",
    "            if l==r:\n",
    "                return i\n",
    "            l = l + n\n",
    "            \n",
    "        return -1"
   ]
  },
  {
   "cell_type": "code",
   "execution_count": null,
   "metadata": {},
   "outputs": [],
   "source": [
    "solution = Solution()\n",
    "solution.pivotIndex(nums = [1, 2, 3])"
   ]
  },
  {
   "cell_type": "code",
   "execution_count": null,
   "metadata": {},
   "outputs": [],
   "source": [
    "class Solution(object):\n",
    "    def isPowerOfFour(self, num):\n",
    "        \"\"\"\n",
    "        :type num: int\n",
    "        :rtype: bool\n",
    "        \"\"\"\n",
    "        \n",
    "        d = {}\n",
    "        four = 1\n",
    "        \n",
    "        while(four<pow(2,32)):\n",
    "            d[four] = True\n",
    "            four = four * 4\n",
    "            \n",
    "        if num in d:\n",
    "            return True\n",
    "        return False"
   ]
  },
  {
   "cell_type": "code",
   "execution_count": null,
   "metadata": {},
   "outputs": [],
   "source": [
    "solution = Solution()\n",
    "solution.isPowerOfFour(5)"
   ]
  },
  {
   "cell_type": "code",
   "execution_count": null,
   "metadata": {},
   "outputs": [],
   "source": [
    "class Solution(object):\n",
    "    def licenseKeyFormatting(self, S, K):\n",
    "        \"\"\"\n",
    "        :type S: str\n",
    "        :type K: int\n",
    "        :rtype: str\n",
    "        \"\"\"\n",
    "        \n",
    "        S = S.replace('-','')\n",
    "        res = []\n",
    "        j = 1\n",
    "        temp = ''\n",
    "        \n",
    "        for i in range(len(S)-1, -1, -1):\n",
    "            temp = S[i].upper() + temp\n",
    "            if j == K:\n",
    "                j = 0\n",
    "                res.append(temp)\n",
    "                temp = ''\n",
    "            j +=1\n",
    "            \n",
    "        if temp != '':\n",
    "            res.append(temp)\n",
    "        res = res[::-1]\n",
    "        return '-'.join(res)"
   ]
  },
  {
   "cell_type": "code",
   "execution_count": null,
   "metadata": {},
   "outputs": [],
   "source": [
    "solution = Solution()\n",
    "solution.licenseKeyFormatting(S = \"2-5g-3-J\", K = 2)"
   ]
  },
  {
   "cell_type": "code",
   "execution_count": null,
   "metadata": {},
   "outputs": [],
   "source": [
    "class Solution(object):\n",
    "    def isPerfectSquare(self, num):\n",
    "        \"\"\"\n",
    "        :type num: int\n",
    "        :rtype: bool\n",
    "        \"\"\"\n",
    "        \n",
    "        sqrt = int(pow(num,0.5))\n",
    "        if sqrt*sqrt==num: return True\n",
    "        return False"
   ]
  },
  {
   "cell_type": "code",
   "execution_count": null,
   "metadata": {},
   "outputs": [],
   "source": [
    "solution = Solution()\n",
    "solution.isPerfectSquare(16)"
   ]
  }
 ],
 "metadata": {
  "kernelspec": {
   "display_name": "Python 3",
   "language": "python",
   "name": "python3"
  },
  "language_info": {
   "codemirror_mode": {
    "name": "ipython",
    "version": 3
   },
   "file_extension": ".py",
   "mimetype": "text/x-python",
   "name": "python",
   "nbconvert_exporter": "python",
   "pygments_lexer": "ipython3",
   "version": "3.6.4"
  }
 },
 "nbformat": 4,
 "nbformat_minor": 2
}
