{
 "cells": [
  {
   "cell_type": "markdown",
   "metadata": {},
   "source": [
    "### Anagram"
   ]
  },
  {
   "cell_type": "code",
   "execution_count": 2,
   "metadata": {},
   "outputs": [],
   "source": [
    "def anagram(s1,s2):\n",
    "    \n",
    "    if sorted(s1)==sorted(s2):\n",
    "        return True\n",
    "    else:\n",
    "        return False"
   ]
  },
  {
   "cell_type": "code",
   "execution_count": 4,
   "metadata": {},
   "outputs": [
    {
     "name": "stdout",
     "output_type": "stream",
     "text": [
      "True\n",
      "False\n",
      "False\n"
     ]
    }
   ],
   "source": [
    "print(anagram('dog','god'))\n",
    "print(anagram('clint eastwood','old west action'))\n",
    "print(anagram('aa','bb'))"
   ]
  },
  {
   "cell_type": "markdown",
   "metadata": {},
   "source": [
    "### Pair Sequence"
   ]
  },
  {
   "cell_type": "code",
   "execution_count": 10,
   "metadata": {},
   "outputs": [],
   "source": [
    "def pair_sum(arr,k):\n",
    "    \n",
    "    res = 0\n",
    "    for i in range(0,len(arr)-1,1):\n",
    "        for j in range(i+1, len(arr), 1):\n",
    "            if arr[i]+arr[j]==k:\n",
    "                res =+ 1\n",
    "                print(arr[i],arr[j])"
   ]
  },
  {
   "cell_type": "code",
   "execution_count": 38,
   "metadata": {},
   "outputs": [],
   "source": [
    "def pair_sum(arr,k):\n",
    "    \n",
    "    res = 0\n",
    "    d = dict.fromkeys(range(max(arr)),0)\n",
    "    \n",
    "    for n in arr:\n",
    "        d[n] = d.get(n,0)+1\n",
    "    \n",
    "    for n in arr:\n",
    "        rem = k-n\n",
    "        if rem in d and d[rem]>=1 and d[n]>=1:\n",
    "            res += 1\n",
    "            d[rem] = d[rem]-1\n",
    "            d[n] = d[n]-1\n",
    "            print(n, rem)\n",
    "            \n",
    "    return (res)"
   ]
  },
  {
   "cell_type": "code",
   "execution_count": 39,
   "metadata": {},
   "outputs": [
    {
     "name": "stdout",
     "output_type": "stream",
     "text": [
      "1 2\n",
      "1\n"
     ]
    }
   ],
   "source": [
    "#print(pair_sum([1,9,2,8,3,7,4,6,5,5,13,14,11,13,-1],10))\n",
    "print(pair_sum([1,2,3,1],3))\n",
    "#print(pair_sum([1,3,2,2],4))"
   ]
  },
  {
   "cell_type": "markdown",
   "metadata": {},
   "source": [
    "### Find the missing element"
   ]
  },
  {
   "cell_type": "code",
   "execution_count": 48,
   "metadata": {},
   "outputs": [],
   "source": [
    "def finder(arr1,arr2):\n",
    "    \n",
    "    d2 = {}\n",
    "    for n in arr2:\n",
    "        d2[n] = d2.get(n,0)+1\n",
    "        \n",
    "    for n in arr1:\n",
    "        if n in d2 and d2[n]>=1:\n",
    "            d2[n] = d2[n]-1\n",
    "        else:\n",
    "            return n"
   ]
  },
  {
   "cell_type": "code",
   "execution_count": 49,
   "metadata": {},
   "outputs": [
    {
     "name": "stdout",
     "output_type": "stream",
     "text": [
      "5\n"
     ]
    }
   ],
   "source": [
    "arr1 = [1,2,3,4,5,6,7]\n",
    "arr2 = [3,7,2,1,4,6]\n",
    "print(finder(arr1,arr2))"
   ]
  },
  {
   "cell_type": "code",
   "execution_count": 52,
   "metadata": {},
   "outputs": [
    {
     "name": "stdout",
     "output_type": "stream",
     "text": [
      "5\n",
      "5\n",
      "6\n"
     ]
    }
   ],
   "source": [
    "print(finder([5,5,7,7],[5,7,7]))\n",
    "print(finder([1,2,3,4,5,6,7],[3,7,2,1,4,6]))\n",
    "print(finder([9,8,7,6,5,4,3,2,1],[9,8,7,5,4,3,2,1]))"
   ]
  },
  {
   "cell_type": "markdown",
   "metadata": {},
   "source": [
    "### Continuous Sum"
   ]
  },
  {
   "cell_type": "code",
   "execution_count": 5,
   "metadata": {},
   "outputs": [],
   "source": [
    "def large_cont_sum(arr): \n",
    "    cur_max = 0\n",
    "    mx = 0\n",
    "    \n",
    "    for num in arr:\n",
    "        cur_max = max(cur_max+num,num)\n",
    "        mx = max(cur_max, mx)\n",
    "        \n",
    "    return mx"
   ]
  },
  {
   "cell_type": "code",
   "execution_count": 6,
   "metadata": {},
   "outputs": [
    {
     "data": {
      "text/plain": [
       "29"
      ]
     },
     "execution_count": 6,
     "metadata": {},
     "output_type": "execute_result"
    }
   ],
   "source": [
    "large_cont_sum([1,2,-1,3,4,10,10,-10,-1])"
   ]
  },
  {
   "cell_type": "markdown",
   "metadata": {},
   "source": [
    "### Sentence Reversal"
   ]
  },
  {
   "cell_type": "code",
   "execution_count": 7,
   "metadata": {},
   "outputs": [],
   "source": [
    "def rev_word(s):\n",
    "    return \" \".join(reversed(s.split()))\n",
    "    pass"
   ]
  },
  {
   "cell_type": "code",
   "execution_count": 8,
   "metadata": {},
   "outputs": [
    {
     "data": {
      "text/plain": [
       "'go? to ready you are John, Hi'"
      ]
     },
     "execution_count": 8,
     "metadata": {},
     "output_type": "execute_result"
    }
   ],
   "source": [
    "rev_word('Hi John,   are you ready to go?')"
   ]
  },
  {
   "cell_type": "markdown",
   "metadata": {},
   "source": [
    "### String Compression"
   ]
  },
  {
   "cell_type": "code",
   "execution_count": 45,
   "metadata": {},
   "outputs": [],
   "source": [
    "def compress(s):\n",
    "    res = ''\n",
    "    cnt = 1\n",
    "    for i,c in enumerate(s[:-1]):\n",
    "        if s[i]==s[i+1]:\n",
    "             cnt += 1\n",
    "        else:\n",
    "            res = res+s[i]\n",
    "            res = res+str(cnt)\n",
    "            cnt=1\n",
    "            \n",
    "    if s[i]==s[i+1]:\n",
    "        cnt += 1\n",
    "        res = res+s[i]\n",
    "        res = res+str(cnt)\n",
    "    else:\n",
    "        res = res+s[i+1]\n",
    "        res = res+str(1)\n",
    "    return res"
   ]
  },
  {
   "cell_type": "code",
   "execution_count": 46,
   "metadata": {},
   "outputs": [
    {
     "name": "stdout",
     "output_type": "stream",
     "text": [
      "A5B4C5\n",
      "A3B1C2D6\n",
      "A5B4C5\n",
      "A3B1C2D5E1\n"
     ]
    }
   ],
   "source": [
    "print(compress('AAAAABBBBCCCC'))\n",
    "print(compress('AAABCCDDDDD'))\n",
    "print(compress('AAAAABBBBCCCC'))\n",
    "print(compress('AAABCCDDDDDE'))"
   ]
  },
  {
   "cell_type": "markdown",
   "metadata": {},
   "source": [
    "### Unique Characters in String"
   ]
  },
  {
   "cell_type": "code",
   "execution_count": 54,
   "metadata": {},
   "outputs": [],
   "source": [
    "def uni_char(s):\n",
    "    d = {}\n",
    "    for c in s:\n",
    "        if c in d:\n",
    "            return False\n",
    "        d[c]=True\n",
    "    return True"
   ]
  },
  {
   "cell_type": "code",
   "execution_count": 55,
   "metadata": {},
   "outputs": [
    {
     "name": "stdout",
     "output_type": "stream",
     "text": [
      "True\n",
      "False\n",
      "True\n"
     ]
    }
   ],
   "source": [
    "print(uni_char(''))\n",
    "print(uni_char('goo'))\n",
    "print(uni_char('abcdefg'))"
   ]
  }
 ],
 "metadata": {
  "kernelspec": {
   "display_name": "Python 3",
   "language": "python",
   "name": "python3"
  },
  "language_info": {
   "codemirror_mode": {
    "name": "ipython",
    "version": 3
   },
   "file_extension": ".py",
   "mimetype": "text/x-python",
   "name": "python",
   "nbconvert_exporter": "python",
   "pygments_lexer": "ipython3",
   "version": "3.6.4"
  }
 },
 "nbformat": 4,
 "nbformat_minor": 2
}
