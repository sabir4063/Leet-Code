{
 "cells": [
  {
   "cell_type": "code",
   "execution_count": 4,
   "metadata": {},
   "outputs": [],
   "source": [
    "class Solution:\n",
    "    def intersect(self, nums1, nums2):\n",
    "        \"\"\"\n",
    "        :type nums1: List[int]\n",
    "        :type nums2: List[int]\n",
    "        :rtype: List[int]\n",
    "        \"\"\"\n",
    "        d = {}\n",
    "        for n in nums1:\n",
    "            d[n] = d.get(n,0)+1\n",
    "            \n",
    "        ans = []\n",
    "        for n in nums2:\n",
    "            if n in nums1 and d[n]>0:\n",
    "                ans.append(n)\n",
    "                d[n] = d[n]-1\n",
    "        \n",
    "        return ans"
   ]
  },
  {
   "cell_type": "code",
   "execution_count": 5,
   "metadata": {},
   "outputs": [
    {
     "data": {
      "text/plain": [
       "[9, 4]"
      ]
     },
     "execution_count": 5,
     "metadata": {},
     "output_type": "execute_result"
    }
   ],
   "source": [
    "solution = Solution()\n",
    "solution.intersect(nums1 = [4,9,5], nums2 = [9,4,9,8,4])"
   ]
  },
  {
   "cell_type": "code",
   "execution_count": 39,
   "metadata": {},
   "outputs": [],
   "source": [
    "class Solution:\n",
    "    def maximumProduct(self, nums):\n",
    "        \"\"\"\n",
    "        :type nums: List[int]\n",
    "        :rtype: int\n",
    "        \"\"\"\n",
    "        pos = []\n",
    "        neg = []\n",
    "        for n in nums:\n",
    "            if n>=0:\n",
    "                pos.append(n)\n",
    "            else:\n",
    "                neg.append(n)\n",
    "        \n",
    "        pos = sorted(pos,reverse=True)\n",
    "        neg = sorted(neg,reverse=True)\n",
    "        \n",
    "        if len(neg)==0:\n",
    "            return pos[0]*pos[1]*pos[2]\n",
    "        elif len(pos)==0:\n",
    "            return neg[0]*neg[1]*neg[2]\n",
    "        elif len(pos)>=3 and pos[0]*pos[1]*pos[2]>pos[0]*neg[len(neg)-1]*neg[len(neg)-2]:\n",
    "            return pos[0]*pos[1]*pos[2]\n",
    "        else:\n",
    "            return pos[0]*neg[len(neg)-1]*neg[len(neg)-2]"
   ]
  },
  {
   "cell_type": "code",
   "execution_count": 40,
   "metadata": {},
   "outputs": [
    {
     "data": {
      "text/plain": [
       "720"
      ]
     },
     "execution_count": 40,
     "metadata": {},
     "output_type": "execute_result"
    }
   ],
   "source": [
    "solution = Solution()\n",
    "solution.maximumProduct([-4,-3,-2,-1,60])"
   ]
  },
  {
   "cell_type": "code",
   "execution_count": 66,
   "metadata": {},
   "outputs": [],
   "source": [
    "class Solution:\n",
    "    def checkRecord(self, s):\n",
    "        \"\"\"\n",
    "        :type s: str\n",
    "        :rtype: bool\n",
    "        \"\"\"\n",
    "        \n",
    "        absnt = 0\n",
    "        late = 0\n",
    "        for i,char in enumerate(s):\n",
    "            if char=='A':\n",
    "                absnt += 1\n",
    "            if i+2<len(s) and s[i]==s[i+1] and s[i]==s[i+2] and s[i]=='L':\n",
    "                late += 1\n",
    "        \n",
    "        if absnt>1 or late>=1:\n",
    "            return False\n",
    "        return True"
   ]
  },
  {
   "cell_type": "code",
   "execution_count": 67,
   "metadata": {},
   "outputs": [
    {
     "data": {
      "text/plain": [
       "False"
      ]
     },
     "execution_count": 67,
     "metadata": {},
     "output_type": "execute_result"
    }
   ],
   "source": [
    "solution = Solution()\n",
    "solution.checkRecord(\"PPALLLP\")"
   ]
  },
  {
   "cell_type": "code",
   "execution_count": 106,
   "metadata": {},
   "outputs": [],
   "source": [
    "class Solution:\n",
    "    def minCostClimbingStairs(self, cost):\n",
    "        \"\"\"\n",
    "        :type cost: List[int]\n",
    "        :rtype: int\n",
    "        \"\"\"\n",
    "        \n",
    "        cost.append(0)\n",
    "        step = [0]*len(cost)\n",
    "        step[0] = cost[0]\n",
    "        step[1] = cost[1]+min(step[0],0)\n",
    "        #print(step)\n",
    "        \n",
    "        for i in range(2,len(cost),1):\n",
    "            step[i]=cost[i]+min(step[i-1], step[i-2])\n",
    "            #print(step)\n",
    "            \n",
    "        return min(step[-1],step[-2])"
   ]
  },
  {
   "cell_type": "code",
   "execution_count": 108,
   "metadata": {},
   "outputs": [
    {
     "data": {
      "text/plain": [
       "1"
      ]
     },
     "execution_count": 108,
     "metadata": {},
     "output_type": "execute_result"
    }
   ],
   "source": [
    "solution = Solution()\n",
    "solution.minCostClimbingStairs(cost = [0, 0, 1, 1])"
   ]
  },
  {
   "cell_type": "code",
   "execution_count": 132,
   "metadata": {},
   "outputs": [],
   "source": [
    "class Solution:\n",
    "    def readBinaryWatch(self, num):\n",
    "        \"\"\"\n",
    "        :type num: int\n",
    "        :rtype: List[str]\n",
    "        \"\"\"\n",
    "        \n",
    "        hour = {}\n",
    "        minute = {}\n",
    "        \n",
    "        for i in range(0,12,1):\n",
    "            binary = bin(i)\n",
    "            hour[i]=binary.count('1')\n",
    "            \n",
    "        for i in range(0,60,1):\n",
    "            binary = bin(i)\n",
    "            minute[i]=binary.count('1')\n",
    "            \n",
    "        res = []\n",
    "        for h in hour.keys():\n",
    "            for m in minute.keys():\n",
    "                if hour[h]+minute[m]==num:\n",
    "                    H=str(h)\n",
    "                    M=str(m)\n",
    "                    if len(str(m))==1:\n",
    "                        M = '0'+str(m)\n",
    "                    \n",
    "                    res.append((H+\":\"+M))\n",
    "        return res"
   ]
  },
  {
   "cell_type": "code",
   "execution_count": 134,
   "metadata": {},
   "outputs": [
    {
     "data": {
      "text/plain": [
       "['0:01',\n",
       " '0:02',\n",
       " '0:04',\n",
       " '0:08',\n",
       " '0:16',\n",
       " '0:32',\n",
       " '1:00',\n",
       " '2:00',\n",
       " '4:00',\n",
       " '8:00']"
      ]
     },
     "execution_count": 134,
     "metadata": {},
     "output_type": "execute_result"
    }
   ],
   "source": [
    "solution = Solution()\n",
    "solution.readBinaryWatch(1)"
   ]
  },
  {
   "cell_type": "code",
   "execution_count": 192,
   "metadata": {},
   "outputs": [],
   "source": [
    "class Solution:\n",
    "    def isLongPressedName(self, name, typed):\n",
    "        \"\"\"\n",
    "        :type name: str\n",
    "        :type typed: str\n",
    "        :rtype: bool\n",
    "        \"\"\"\n",
    "        \n",
    "        j=0\n",
    "        i=0\n",
    "        while(True):\n",
    "            #print(name[i], i, typed[j],j)\n",
    "            if i < len(name) and j < len(typed) and name[i]==typed[j]:\n",
    "                j += 1\n",
    "                i += 1\n",
    "            elif j < len(typed) and typed[j]==typed[j-1]:\n",
    "                typed = typed[:j]+typed[j+1:]\n",
    "            else:\n",
    "                return False\n",
    "            #print(typed)\n",
    "            \n",
    "            if typed==name:\n",
    "                return True\n",
    "        \n",
    "        return False"
   ]
  },
  {
   "cell_type": "code",
   "execution_count": 193,
   "metadata": {},
   "outputs": [
    {
     "data": {
      "text/plain": [
       "False"
      ]
     },
     "execution_count": 193,
     "metadata": {},
     "output_type": "execute_result"
    }
   ],
   "source": [
    "solution = Solution()\n",
    "solution.isLongPressedName(name = \"pyplrz\", typed = \"ppyypllr\")"
   ]
  },
  {
   "cell_type": "code",
   "execution_count": null,
   "metadata": {},
   "outputs": [],
   "source": [
    "\"a##c\"\n",
    "\"#a#c\""
   ]
  },
  {
   "cell_type": "code",
   "execution_count": 33,
   "metadata": {},
   "outputs": [],
   "source": [
    "class Solution:\n",
    "    def backspaceCompare(self, S, T):\n",
    "        \"\"\"\n",
    "        :type S: str\n",
    "        :type T: str\n",
    "        :rtype: bool\n",
    "        \"\"\"\n",
    "        i = 0\n",
    "        while(True):\n",
    "            if S[i]=='#':\n",
    "                if i>=1:\n",
    "                    S = S[:i-1]+S[i+1:]\n",
    "                    i -= 2\n",
    "                else:\n",
    "                    S = S[:i]+S[i+1:]\n",
    "                    i -= 1\n",
    "            #print(S,i,len(S))\n",
    "            i+=1\n",
    "            if len(S)==i or i<0: break\n",
    "            \n",
    "        i = 0\n",
    "        while(True):\n",
    "            if T[i]=='#':\n",
    "                if i>=1:\n",
    "                    T = T[:i-1]+T[i+1:]\n",
    "                    i -= 2\n",
    "                else:\n",
    "                    T = T[:i]+T[i+1:]\n",
    "                    i -= 1\n",
    "            #print(T,i,len(T))\n",
    "            i+=1\n",
    "            if len(T)==i or i<0: break\n",
    "        \n",
    "        #print(S,T)\n",
    "        if S==T:return True\n",
    "        else: return False"
   ]
  },
  {
   "cell_type": "code",
   "execution_count": 34,
   "metadata": {},
   "outputs": [
    {
     "data": {
      "text/plain": [
       "True"
      ]
     },
     "execution_count": 34,
     "metadata": {},
     "output_type": "execute_result"
    }
   ],
   "source": [
    "solution = Solution()\n",
    "solution.backspaceCompare(\"ab##\", T = \"c#d#\")"
   ]
  },
  {
   "cell_type": "code",
   "execution_count": 62,
   "metadata": {},
   "outputs": [],
   "source": [
    "class Solution:\n",
    "    def convertToBase7(self, num):\n",
    "        \"\"\"\n",
    "        :type num: int\n",
    "        :rtype: str\n",
    "        \"\"\"\n",
    "        \n",
    "        if num==0: return '0'\n",
    "        \n",
    "        hep = ''\n",
    "        tag = True\n",
    "        if num<0:\n",
    "            num = num*-1\n",
    "            tag= False\n",
    "            \n",
    "        while(num):\n",
    "            r = int(num/7)\n",
    "            m = int(num%7)\n",
    "            hep = hep+str(m)\n",
    "            num = r\n",
    "            #print(num)\n",
    "        \n",
    "        hep = hep[::-1]\n",
    "        if tag==False:\n",
    "            return \"-\"+hep\n",
    "        return hep"
   ]
  },
  {
   "cell_type": "code",
   "execution_count": 63,
   "metadata": {},
   "outputs": [
    {
     "data": {
      "text/plain": [
       "'0'"
      ]
     },
     "execution_count": 63,
     "metadata": {},
     "output_type": "execute_result"
    }
   ],
   "source": [
    "solution = Solution()\n",
    "solution.convertToBase7(0)"
   ]
  },
  {
   "cell_type": "code",
   "execution_count": 75,
   "metadata": {},
   "outputs": [],
   "source": [
    "class Solution(object):\n",
    "    def isHappy(self, n):\n",
    "        \"\"\"\n",
    "        :type n: int\n",
    "        :rtype: bool\n",
    "        \"\"\"\n",
    "        \n",
    "        repeat = {}\n",
    "        n = str(n)\n",
    "        \n",
    "        while(True):\n",
    "            sum_n = 0\n",
    "            for c in n:\n",
    "                sum_n = sum_n+pow((ord(c)-48),2)\n",
    "            #print(sum_n)\n",
    "            n=str(sum_n)\n",
    "            if n in repeat:\n",
    "                return False\n",
    "            else:\n",
    "                repeat[n]=1\n",
    "            if n=='1':\n",
    "                return True\n",
    "            "
   ]
  },
  {
   "cell_type": "code",
   "execution_count": 76,
   "metadata": {},
   "outputs": [
    {
     "data": {
      "text/plain": [
       "False"
      ]
     },
     "execution_count": 76,
     "metadata": {},
     "output_type": "execute_result"
    }
   ],
   "source": [
    "solution = Solution()\n",
    "solution.isHappy(191)"
   ]
  },
  {
   "cell_type": "code",
   "execution_count": 97,
   "metadata": {},
   "outputs": [],
   "source": [
    "class Solution(object):\n",
    "    def generate(self, numRows):\n",
    "        \"\"\"\n",
    "        :type numRows: int\n",
    "        :rtype: List[List[int]]\n",
    "        \"\"\"\n",
    "        \n",
    "        res= []\n",
    "        for i in range(0,numRows,1):\n",
    "            temp = []\n",
    "            for j in range(0,i+1,1):\n",
    "                if j==0 or j==i:\n",
    "                    temp.append(1)\n",
    "                    n=1\n",
    "                else:\n",
    "                    n = res[i-1][j-1]+res[i-1][j]\n",
    "                    temp.append(n)\n",
    "                #print(i,j,n)\n",
    "            res.append(temp)\n",
    "        \n",
    "        return res"
   ]
  },
  {
   "cell_type": "code",
   "execution_count": 98,
   "metadata": {},
   "outputs": [
    {
     "data": {
      "text/plain": [
       "[[1], [1, 1], [1, 2, 1], [1, 3, 3, 1], [1, 4, 6, 4, 1]]"
      ]
     },
     "execution_count": 98,
     "metadata": {},
     "output_type": "execute_result"
    }
   ],
   "source": [
    "solution = Solution()\n",
    "solution.generate(5)"
   ]
  },
  {
   "cell_type": "code",
   "execution_count": 114,
   "metadata": {},
   "outputs": [],
   "source": [
    "class Solution(object):\n",
    "    def findLengthOfLCIS(self, nums):\n",
    "        \"\"\"\n",
    "        :type nums: List[int]\n",
    "        :rtype: int\n",
    "        \"\"\"\n",
    "        \n",
    "        if nums==[]:\n",
    "            return 0\n",
    "        cnt = 1\n",
    "        mx = 1\n",
    "        for i in range(1,len(nums),1):\n",
    "            if nums[i]>nums[i-1]:\n",
    "                cnt += 1\n",
    "            else:\n",
    "                cnt = 1\n",
    "            if cnt>mx:\n",
    "                mx=cnt\n",
    "                \n",
    "        return mx"
   ]
  },
  {
   "cell_type": "code",
   "execution_count": 115,
   "metadata": {},
   "outputs": [
    {
     "data": {
      "text/plain": [
       "3"
      ]
     },
     "execution_count": 115,
     "metadata": {},
     "output_type": "execute_result"
    }
   ],
   "source": [
    "solution = Solution()\n",
    "solution.findLengthOfLCIS([1,3,5,4,7])"
   ]
  },
  {
   "cell_type": "code",
   "execution_count": 205,
   "metadata": {},
   "outputs": [],
   "source": [
    "class Solution(object):\n",
    "    def nextGreatestLetter(self, letters, target):\n",
    "        \"\"\"\n",
    "        :type letters: List[str]\n",
    "        :type target: str\n",
    "        :rtype: str\n",
    "        \"\"\"\n",
    "        \n",
    "        d = {}\n",
    "        for i,l in enumerate(list(set(letters))):\n",
    "            d[l]=i\n",
    "        \n",
    "        start = ord(target)\n",
    "        if chr(start)=='z':\n",
    "            start=ord('a')\n",
    "            i = start\n",
    "        else:\n",
    "            i = start+1\n",
    "        mn = 27\n",
    "        res = ''\n",
    "        for c in range(0,26,1):\n",
    "            #print(chr(i))\n",
    "            if chr(i) in d:\n",
    "                dist = c\n",
    "                if c<mn:\n",
    "                    mn = c\n",
    "                    res = chr(i)\n",
    "            if chr(i)=='z':\n",
    "                i=ord('a')\n",
    "            #print(res)\n",
    "            i+=1\n",
    "        return res"
   ]
  },
  {
   "cell_type": "code",
   "execution_count": 206,
   "metadata": {},
   "outputs": [
    {
     "data": {
      "text/plain": [
       "'a'"
      ]
     },
     "execution_count": 206,
     "metadata": {},
     "output_type": "execute_result"
    }
   ],
   "source": [
    "solution = Solution()\n",
    "solution.nextGreatestLetter(letters = [\"a\",\"b\",\"c\",\"d\",\"e\",\"f\",\"g\",\"h\",\"j\",\"k\",\"l\",\"m\",\"n\",\"o\",\"p\",\"q\",\"r\",\"s\",\"t\",\"u\",\"v\",\"w\",\"x\",\"y\",\"z\"],target = \"z\")"
   ]
  },
  {
   "cell_type": "code",
   "execution_count": 209,
   "metadata": {},
   "outputs": [],
   "source": [
    "class Solution(object):\n",
    "    def search(self, nums, target):\n",
    "        \"\"\"\n",
    "        :type nums: List[int]\n",
    "        :type target: int\n",
    "        :rtype: int\n",
    "        \"\"\"\n",
    "        \n",
    "        l = 0\n",
    "        h = len(nums)-1\n",
    "        \n",
    "        while(l<=h):\n",
    "            mid = int(l + (h-l)/2)\n",
    "            if nums[mid]==target:\n",
    "                return mid\n",
    "            elif target>nums[mid]:\n",
    "                l=mid+1\n",
    "            else:\n",
    "                h=mid-1\n",
    "            \n",
    "        return -1"
   ]
  },
  {
   "cell_type": "code",
   "execution_count": 210,
   "metadata": {},
   "outputs": [
    {
     "data": {
      "text/plain": [
       "4"
      ]
     },
     "execution_count": 210,
     "metadata": {},
     "output_type": "execute_result"
    }
   ],
   "source": [
    "solution = Solution()\n",
    "solution.search(nums = [-1,0,3,5,9,12], target = 9)"
   ]
  },
  {
   "cell_type": "code",
   "execution_count": 234,
   "metadata": {},
   "outputs": [],
   "source": [
    "class Solution(object):\n",
    "    def removeElement(self, nums, val):\n",
    "        \"\"\"\n",
    "        :type nums: List[int]\n",
    "        :type val: int\n",
    "        :rtype: int\n",
    "        \"\"\"\n",
    "        \n",
    "        if nums==[]: return 0\n",
    "        i = 0\n",
    "        while(True):\n",
    "            if nums[i]==val:\n",
    "                nums.remove(val)\n",
    "                i -= 1\n",
    "            #print(nums, i)\n",
    "            i += 1\n",
    "            if len(nums)==i:\n",
    "                return i"
   ]
  },
  {
   "cell_type": "code",
   "execution_count": 235,
   "metadata": {},
   "outputs": [
    {
     "data": {
      "text/plain": [
       "0"
      ]
     },
     "execution_count": 235,
     "metadata": {},
     "output_type": "execute_result"
    }
   ],
   "source": [
    "solution = Solution()\n",
    "solution.removeElement(nums = [], val = 0)"
   ]
  },
  {
   "cell_type": "code",
   "execution_count": 242,
   "metadata": {},
   "outputs": [],
   "source": [
    "class Solution(object):\n",
    "    def climbStairs(self, n):\n",
    "        \"\"\"\n",
    "        :type n: int\n",
    "        :rtype: int\n",
    "        \"\"\"\n",
    "        step=[]\n",
    "        step.append(0)\n",
    "        step.append(1)\n",
    "        step.append(2)\n",
    "        \n",
    "        for i in range(3,n+1,1):\n",
    "            step.append(step[i-1]+step[i-2])\n",
    "            \n",
    "        return step[n]"
   ]
  },
  {
   "cell_type": "code",
   "execution_count": 243,
   "metadata": {},
   "outputs": [
    {
     "data": {
      "text/plain": [
       "5"
      ]
     },
     "execution_count": 243,
     "metadata": {},
     "output_type": "execute_result"
    }
   ],
   "source": [
    "solution = Solution()\n",
    "solution.climbStairs(4)"
   ]
  },
  {
   "cell_type": "code",
   "execution_count": 280,
   "metadata": {},
   "outputs": [],
   "source": [
    "class Solution(object):\n",
    "    def addStrings(self, num1, num2):\n",
    "        \"\"\"\n",
    "        :type num1: str\n",
    "        :type num2: str\n",
    "        :rtype: str\n",
    "        \"\"\"\n",
    "        carry = 0\n",
    "        summ = 0\n",
    "        \n",
    "        len1 = len(num1)\n",
    "        len2 = len(num2)\n",
    "        \n",
    "        if len1 > len2:\n",
    "            extra = len1-len2\n",
    "            num2 = \"0\"*extra+num2\n",
    "        elif len2 > len1:\n",
    "            extra = len2-len1\n",
    "            num1 = \"0\"*extra+num1\n",
    "        \n",
    "        #print(num1,num2)\n",
    "        res = ''\n",
    "        for i in range(len(num1)-1,-1,-1):\n",
    "            #print(num1[i],num2[i],carry)\n",
    "            add = int(num1[i])+int(num2[i])+carry\n",
    "            add = str(add)\n",
    "            if len(add)>1:\n",
    "                carry=1\n",
    "            else:\n",
    "                carry=0\n",
    "            res = add[-1:]+res \n",
    "            #print(res)\n",
    "            \n",
    "        if carry == 1:\n",
    "            res = '1' + res\n",
    "    \n",
    "        return res"
   ]
  },
  {
   "cell_type": "code",
   "execution_count": 284,
   "metadata": {},
   "outputs": [
    {
     "data": {
      "text/plain": [
       "'10000'"
      ]
     },
     "execution_count": 284,
     "metadata": {},
     "output_type": "execute_result"
    }
   ],
   "source": [
    "solution = Solution()\n",
    "solution.addStrings(\"9\",\"9991\")"
   ]
  },
  {
   "cell_type": "code",
   "execution_count": 291,
   "metadata": {},
   "outputs": [],
   "source": [
    "class Solution(object):\n",
    "    def findLHS(self, nums):\n",
    "        \"\"\"\n",
    "        :type nums: List[int]\n",
    "        :rtype: int\n",
    "        \"\"\"\n",
    "        \n",
    "        d = {}\n",
    "        for n in nums:\n",
    "            d[n] = d.get(n,0)+1\n",
    "        \n",
    "        sorted_value = sorted(d.items(), key=lambda kv: kv[0])\n",
    "        mx = 0\n",
    "        \n",
    "        for i in range(1,len(sorted_value),1):\n",
    "            #print(sorted_value[i][0],sorted_value[i-1][0])\n",
    "            if sorted_value[i][0]-sorted_value[i-1][0]==1:\n",
    "                add = sorted_value[i][1]+sorted_value[i-1][1]\n",
    "                if add>mx:\n",
    "                    mx=add\n",
    "        \n",
    "        return mx"
   ]
  },
  {
   "cell_type": "code",
   "execution_count": 293,
   "metadata": {},
   "outputs": [
    {
     "data": {
      "text/plain": [
       "2"
      ]
     },
     "execution_count": 293,
     "metadata": {},
     "output_type": "execute_result"
    }
   ],
   "source": [
    "solution = Solution()\n",
    "solution.findLHS([1,2,3,4])"
   ]
  },
  {
   "cell_type": "code",
   "execution_count": 307,
   "metadata": {},
   "outputs": [],
   "source": [
    "class Solution(object):\n",
    "    def maxSubArray(self, nums):\n",
    "        \"\"\"\n",
    "        :type nums: List[int]\n",
    "        :rtype: int\n",
    "        \"\"\"\n",
    "        \n",
    "        mx = nums[0]\n",
    "        curr_sum = nums[0]\n",
    "        nums.pop(0)\n",
    "        \n",
    "        for n in nums:\n",
    "            curr_sum = max(curr_sum+n,n)\n",
    "            mx = max(mx,curr_sum)\n",
    "            #print(n,curr_sum,mx)\n",
    "        return mx"
   ]
  },
  {
   "cell_type": "code",
   "execution_count": 309,
   "metadata": {},
   "outputs": [
    {
     "data": {
      "text/plain": [
       "1"
      ]
     },
     "execution_count": 309,
     "metadata": {},
     "output_type": "execute_result"
    }
   ],
   "source": [
    "solution = Solution()\n",
    "solution.maxSubArray( [1])"
   ]
  }
 ],
 "metadata": {
  "kernelspec": {
   "display_name": "Python 3",
   "language": "python",
   "name": "python3"
  },
  "language_info": {
   "codemirror_mode": {
    "name": "ipython",
    "version": 3
   },
   "file_extension": ".py",
   "mimetype": "text/x-python",
   "name": "python",
   "nbconvert_exporter": "python",
   "pygments_lexer": "ipython3",
   "version": "3.6.4"
  }
 },
 "nbformat": 4,
 "nbformat_minor": 2
}
