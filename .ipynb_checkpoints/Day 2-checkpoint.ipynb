{
 "cells": [
  {
   "cell_type": "code",
   "execution_count": 14,
   "metadata": {},
   "outputs": [],
   "source": [
    "class Solution(object):\n",
    "    def judgeCircle(self, moves):\n",
    "        \"\"\"\n",
    "        :type moves: str\n",
    "        :rtype: bool\n",
    "        \"\"\"\n",
    "        x = 0\n",
    "        y = 0\n",
    "        \n",
    "        for i,c in enumerate(moves):\n",
    "            if c =='U':\n",
    "                y = y + 1\n",
    "            elif c =='D':\n",
    "                 y = y - 1\n",
    "            elif c == 'L':\n",
    "                 x = x + 1\n",
    "            else:\n",
    "                x = x - 1\n",
    "        \n",
    "        if x==0 and y==0:\n",
    "            return True\n",
    "        else:\n",
    "            return False"
   ]
  },
  {
   "cell_type": "code",
   "execution_count": 13,
   "metadata": {},
   "outputs": [
    {
     "name": "stdout",
     "output_type": "stream",
     "text": [
      "L\n",
      "R\n"
     ]
    },
    {
     "data": {
      "text/plain": [
       "0"
      ]
     },
     "execution_count": 13,
     "metadata": {},
     "output_type": "execute_result"
    }
   ],
   "source": [
    "solution = Solution()\n",
    "solution.judgeCircle(\"LR\")"
   ]
  },
  {
   "cell_type": "code",
   "execution_count": 77,
   "metadata": {},
   "outputs": [],
   "source": [
    "class Solution(object):\n",
    "    def flipAndInvertImage(self, A):\n",
    "        \"\"\"\n",
    "        :type A: List[List[int]]\n",
    "        :rtype: List[List[int]]\n",
    "        \"\"\"\n",
    "        B = []\n",
    "        for i,r in enumerate(A):\n",
    "            temp1 = A[i]\n",
    "            temp2 = []\n",
    "            for j,c in enumerate(temp1[::-1]):\n",
    "                temp2.append(c)\n",
    "            B.append(temp2)\n",
    "        \n",
    "        res = []\n",
    "        \n",
    "        for i,r in enumerate(B):\n",
    "            temp1 = B[i]\n",
    "            temp2 = []\n",
    "            for j,c in enumerate(temp1):\n",
    "                if c==1:\n",
    "                    temp2.append(0)\n",
    "                else:\n",
    "                    temp2.append(1)\n",
    "            res.append(temp2)\n",
    "            \n",
    "        #print(res)\n",
    "        return res"
   ]
  },
  {
   "cell_type": "code",
   "execution_count": 78,
   "metadata": {},
   "outputs": [
    {
     "data": {
      "text/plain": [
       "[[1, 0, 0], [0, 1, 0], [1, 1, 1]]"
      ]
     },
     "execution_count": 78,
     "metadata": {},
     "output_type": "execute_result"
    }
   ],
   "source": [
    "solution = Solution()\n",
    "solution.flipAndInvertImage([[1,1,0],[1,0,1],[0,0,0]])"
   ]
  },
  {
   "cell_type": "code",
   "execution_count": 92,
   "metadata": {},
   "outputs": [],
   "source": [
    "class Solution(object):\n",
    "    def arrayPairSum(self, nums):\n",
    "        \"\"\"\n",
    "        :type nums: List[int]\n",
    "        :rtype: int\n",
    "        \"\"\"\n",
    "        sort_sum = sorted(nums)\n",
    "        \n",
    "        sum_ = 0\n",
    "        for i in range(0,len(sort_sum),2):\n",
    "            a = sort_sum[i]\n",
    "            b = sort_sum[i+1]\n",
    "            sum_ = sum_ + min(a,b)\n",
    "            #print(sum_)\n",
    "            \n",
    "        print(sort_sum)"
   ]
  },
  {
   "cell_type": "code",
   "execution_count": 93,
   "metadata": {},
   "outputs": [
    {
     "name": "stdout",
     "output_type": "stream",
     "text": [
      "1\n",
      "4\n",
      "[1, 2, 3, 4]\n"
     ]
    }
   ],
   "source": [
    "solution = Solution()\n",
    "solution.arrayPairSum([1,4,3,2])"
   ]
  },
  {
   "cell_type": "code",
   "execution_count": 100,
   "metadata": {},
   "outputs": [],
   "source": [
    "class Solution(object):\n",
    "    def peakIndexInMountainArray(self, A):\n",
    "        \"\"\"\n",
    "        :type A: List[int]\n",
    "        :rtype: int\n",
    "        \"\"\"\n",
    "        m = max(A)\n",
    "        ind = A.index(m)\n",
    "        return ind"
   ]
  },
  {
   "cell_type": "code",
   "execution_count": 101,
   "metadata": {},
   "outputs": [
    {
     "data": {
      "text/plain": [
       "1"
      ]
     },
     "execution_count": 101,
     "metadata": {},
     "output_type": "execute_result"
    }
   ],
   "source": [
    "solution = Solution()\n",
    "solution.peakIndexInMountainArray([1,4,3,2])"
   ]
  },
  {
   "cell_type": "code",
   "execution_count": 178,
   "metadata": {},
   "outputs": [],
   "source": [
    "class Solution(object):\n",
    "    def findAndReplacePattern(self, words, pattern):\n",
    "        \"\"\"\n",
    "        :type words: List[str]\n",
    "        :type pattern: str\n",
    "        :rtype: List[str]\n",
    "        \"\"\"\n",
    "        pat_dic = {}\n",
    "        \n",
    "        count = 0\n",
    "        pat_temp = ''\n",
    "        \n",
    "        for j,p in enumerate(pattern):\n",
    "            if p not in pat_dic:\n",
    "                pat_dic[p]=str(count)\n",
    "                count = count + 1\n",
    "            pat_temp = pat_temp + pat_dic[p]\n",
    "        \n",
    "        res = []\n",
    "        \n",
    "        for word in words:\n",
    "            count = 0\n",
    "            wor_temp = ''\n",
    "            wor_dic = {}\n",
    "            for i,w in enumerate(word):\n",
    "                if w not in wor_dic:\n",
    "                    wor_dic[w] = str(count)\n",
    "                    count += 1\n",
    "                wor_temp = wor_temp + wor_dic[w]\n",
    "            if wor_temp==pat_temp:\n",
    "                res.append(word)\n",
    "                \n",
    "        return res"
   ]
  },
  {
   "cell_type": "code",
   "execution_count": 179,
   "metadata": {},
   "outputs": [
    {
     "data": {
      "text/plain": [
       "['mee', 'aqq']"
      ]
     },
     "execution_count": 179,
     "metadata": {},
     "output_type": "execute_result"
    }
   ],
   "source": [
    "solution = Solution()\n",
    "solution.findAndReplacePattern(words = [\"abc\",\"deq\",\"mee\",\"aqq\",\"dkd\",\"ccc\"], pattern = \"abb\")"
   ]
  }
 ],
 "metadata": {
  "kernelspec": {
   "display_name": "Python 3",
   "language": "python",
   "name": "python3"
  },
  "language_info": {
   "codemirror_mode": {
    "name": "ipython",
    "version": 3
   },
   "file_extension": ".py",
   "mimetype": "text/x-python",
   "name": "python",
   "nbconvert_exporter": "python",
   "pygments_lexer": "ipython3",
   "version": "3.6.4"
  }
 },
 "nbformat": 4,
 "nbformat_minor": 2
}
