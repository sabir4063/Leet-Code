{
 "cells": [
  {
   "cell_type": "code",
   "execution_count": 86,
   "metadata": {},
   "outputs": [],
   "source": [
    "class Node:\n",
    "    \n",
    "    def __init__(self, val):\n",
    "        \n",
    "        self.val = val\n",
    "        self.next = None\n",
    "        \n",
    "        \n",
    "class MyLinkedList:\n",
    "\n",
    "    def __init__(self):\n",
    "        \"\"\"\n",
    "        Initialize your data structure here.\n",
    "        \"\"\"\n",
    "        self.head = None\n",
    "        self.size = 0\n",
    "        \n",
    "\n",
    "    def get(self, index):\n",
    "        \"\"\"\n",
    "        Get the value of the index-th node in the linked list. If the index is invalid, return -1.\n",
    "        :type index: int\n",
    "        :rtype: int\n",
    "        \"\"\"\n",
    "        if index<0 or index >=self.size: return -1\n",
    "        \n",
    "        if self.head == None: return -1\n",
    "        \n",
    "        count = 0\n",
    "        current = self.head\n",
    "        while(count<index):\n",
    "            count += 1\n",
    "            current = current.next\n",
    "\n",
    "        return current.val\n",
    "        \n",
    "        \n",
    "    def addAtHead(self, val):\n",
    "        \"\"\"\n",
    "        Add a node of value val before the first element of the linked list. After the insertion, the new node will be the first node of the linked list.\n",
    "        :type val: int\n",
    "        :rtype: void\n",
    "        \"\"\"\n",
    "        \n",
    "        if self.head == None:\n",
    "            temp = Node(val)\n",
    "            self.head = temp\n",
    "            self.size += 1\n",
    "        else: \n",
    "            current = self.head\n",
    "\n",
    "            temp = Node(val)\n",
    "            temp.next = current\n",
    "\n",
    "            self.head = temp\n",
    "            self.size += 1\n",
    "        \n",
    "\n",
    "    def addAtTail(self, val):\n",
    "        \"\"\"\n",
    "        Append a node of value val to the last element of the linked list.\n",
    "        :type val: int\n",
    "        :rtype: void\n",
    "        \"\"\"\n",
    "        \n",
    "        if self.head == None:\n",
    "            self.head = Node(val)\n",
    "            self.size += 1\n",
    "            return \n",
    "            \n",
    "        current = self.head\n",
    "        while current.next:\n",
    "            current = current.next\n",
    "\n",
    "        current.next = Node(val)\n",
    "        self.size += 1\n",
    "        \n",
    "\n",
    "    def addAtIndex(self, index, val):\n",
    "        \"\"\"\n",
    "        Add a node of value val before the index-th node in the linked list. If index equals to the length of linked list, the node will be appended to the end of linked list. If index is greater than the length, the node will not be inserted.\n",
    "        :type index: int\n",
    "        :type val: int\n",
    "        :rtype: void\n",
    "        \"\"\"\n",
    "        \n",
    "        if index < 0 or index >self.size: \n",
    "            return \n",
    "        \n",
    "        if index == 0:\n",
    "            self.addAtHead(val)\n",
    "            return\n",
    "            \n",
    "        if index == self.size: \n",
    "            self.addAtTail(val)\n",
    "            return\n",
    "\n",
    "        current = self.head\n",
    "        count = 0\n",
    "        while count<index-1:\n",
    "            count += 1\n",
    "            current = current.next\n",
    "        \n",
    "        temp = Node(val)\n",
    "        temp.next = current.next\n",
    "        current.next = temp\n",
    "        \n",
    "        self.size += 1\n",
    "        #self.print_data()\n",
    "        \n",
    "\n",
    "    def deleteAtIndex(self, index):\n",
    "        \"\"\"\n",
    "        Delete the index-th node in the linked list, if the index is valid.\n",
    "        :type index: int\n",
    "        :rtype: void\n",
    "        \"\"\"\n",
    "        if index < 0 or index >= self.size: return \n",
    "        \n",
    "        if index == 0:\n",
    "            self.head = self.head.next\n",
    "            self.size -= 1\n",
    "            return\n",
    "        \n",
    "        current = self.head\n",
    "        count = 0\n",
    "        while count<index-1:\n",
    "            count += 1\n",
    "            current = current.next\n",
    "        \n",
    "        current.next = current.next.next\n",
    "        self.size -= 1\n",
    "        \n",
    "#     def print_data(self):\n",
    "#         print('--------')\n",
    "#         current = self.head\n",
    "#         while(current):\n",
    "#             print(current.val)\n",
    "#             current = current.next"
   ]
  },
  {
   "cell_type": "code",
   "execution_count": 88,
   "metadata": {},
   "outputs": [
    {
     "name": "stdout",
     "output_type": "stream",
     "text": [
      "2\n",
      "3\n"
     ]
    }
   ],
   "source": [
    "# Your MyLinkedList object will be instantiated and called as such:\n",
    "obj = MyLinkedList()\n",
    "obj.addAtHead(1)\n",
    "#obj.print_data()\n",
    "obj.addAtTail(3)\n",
    "#obj.print_data()\n",
    "obj.addAtIndex(1,2)\n",
    "#print('hi')\n",
    "#obj.print_data()\n",
    "#print('gi')\n",
    "print(obj.get(1))\n",
    "#print(obj.get(2))\n",
    "#print(obj.get(3))\n",
    "#obj.print_data()\n",
    "obj.deleteAtIndex(1)\n",
    "#obj.print_data()\n",
    "print(obj.get(1))\n",
    "#obj.print_data()\n"
   ]
  },
  {
   "cell_type": "code",
   "execution_count": 108,
   "metadata": {},
   "outputs": [],
   "source": [
    "def add_one(txt):\n",
    "    \n",
    "    d = {}\n",
    "    r = {}\n",
    "    k = 'A'\n",
    "    for i in range(26):\n",
    "        d[chr(ord(k)+i)] = i\n",
    "        r[i] = chr(ord(k)+i)\n",
    "    \n",
    "    txt = txt[::-1]\n",
    "    c = 1\n",
    "    res = ''\n",
    "    for i in range(len(txt)):\n",
    "        a = d[txt[i]] + c\n",
    "        if a >= 26:\n",
    "            c = 1\n",
    "            a = a%26\n",
    "        else:\n",
    "            c = 0\n",
    "        res = res + (r[a])\n",
    "        \n",
    "    return (res[::-1])"
   ]
  },
  {
   "cell_type": "code",
   "execution_count": 109,
   "metadata": {},
   "outputs": [
    {
     "name": "stdout",
     "output_type": "stream",
     "text": [
      "AZU\n",
      "AZV\n",
      "AZW\n",
      "AZX\n",
      "AZY\n",
      "AZZ\n",
      "BAA\n",
      "BAB\n",
      "BAC\n",
      "BAD\n",
      "BAE\n",
      "BAF\n",
      "BAG\n",
      "BAH\n",
      "BAI\n",
      "BAJ\n",
      "BAK\n",
      "BAL\n",
      "BAM\n",
      "BAN\n",
      "BAO\n",
      "BAP\n",
      "BAQ\n",
      "BAR\n",
      "BAS\n",
      "BAT\n"
     ]
    }
   ],
   "source": [
    "def simulate():\n",
    "    \n",
    "    start = \"AZT\"\n",
    "    \n",
    "    for i in range(26):\n",
    "        start = add_one(start)\n",
    "        print(start)\n",
    "        \n",
    "simulate()"
   ]
  },
  {
   "cell_type": "code",
   "execution_count": 129,
   "metadata": {},
   "outputs": [],
   "source": [
    "class Codec:\n",
    "    \n",
    "    link_map = {}\n",
    "    revr_map = {}\n",
    "    last_link = \"AAAAAA\"\n",
    "    \n",
    "    def add_one(self,txt):\n",
    "    \n",
    "        d = {}\n",
    "        r = {}\n",
    "\n",
    "        for i in range(26):\n",
    "            d[chr(ord(k)+i)] = i\n",
    "            r[i] = chr(ord(k)+i)\n",
    "\n",
    "        txt = txt[::-1]\n",
    "        c = 1\n",
    "        res = ''\n",
    "        for i in range(len(txt)):\n",
    "            a = d[txt[i]] + c\n",
    "            if a >= 26:\n",
    "                c = 1\n",
    "                a = a%26\n",
    "            else:\n",
    "                c = 0\n",
    "            res = res + (r[a])\n",
    "\n",
    "        return (res[::-1])\n",
    "\n",
    "    \n",
    "    def encode(self, longUrl):\n",
    "        \"\"\"Encodes a URL to a shortened URL.\n",
    "        \n",
    "        :type longUrl: str\n",
    "        :rtype: str\n",
    "        \"\"\"\n",
    "        link = longUrl.split('//')[1]\n",
    "        if link in self.link_map:\n",
    "            return \"https://\"+self.link_map[link]\n",
    "        else:\n",
    "            self.last_link = add_one(self.last_link)\n",
    "            self.revr_map[self.last_link] = \"https://\"+link\n",
    "            self.link_map[link] = self.last_link\n",
    "            return \"https://\"+self.link_map[link]\n",
    "            \n",
    "            \n",
    "    def decode(self, shortUrl):\n",
    "        \"\"\"Decodes a shortened URL to its original URL.\n",
    "        \n",
    "        :type shortUrl: str\n",
    "        :rtype: str\n",
    "        \"\"\"\n",
    "        #print(self.link_map)\n",
    "        link = shortUrl.split('//')[1]\n",
    "        return \"http://\"+self.revr_map[link]\n",
    "        "
   ]
  },
  {
   "cell_type": "code",
   "execution_count": 130,
   "metadata": {},
   "outputs": [
    {
     "name": "stdout",
     "output_type": "stream",
     "text": [
      "https://AAAAAB\n",
      "http://https://leetcode.com/problems/design-tinyurl\n"
     ]
    }
   ],
   "source": [
    "# Your Codec object will be instantiated and called as such:\n",
    "codec = Codec()\n",
    "print(codec.encode(\"https://leetcode.com/problems/design-tinyurl\"))\n",
    "print(codec.decode(codec.encode(\"https://leetcode.com/problems/design-tinyurl\")))"
   ]
  },
  {
   "cell_type": "code",
   "execution_count": 168,
   "metadata": {},
   "outputs": [],
   "source": [
    "class Solution(object):\n",
    "    def deckRevealedIncreasing(self, deck):\n",
    "        \"\"\"\n",
    "        :type deck: List[int]\n",
    "        :rtype: List[int]\n",
    "        \"\"\"\n",
    "        \n",
    "        deck = sorted(deck)\n",
    "        queue = [0]*len(deck)\n",
    "        toggle = 0\n",
    "        i = 0\n",
    "        \n",
    "        while(len(deck))>0:\n",
    "            n = deck.pop(0)\n",
    "            \n",
    "            while(queue.count(0)!=0):\n",
    "                #print(i, len(queue))\n",
    "                ind = queue[i]\n",
    "                if ind==0:\n",
    "                    if toggle == 0:\n",
    "                        queue[i] = n\n",
    "                        toggle = 1\n",
    "                        i += 1\n",
    "                        if i==len(queue):\n",
    "                            i=0\n",
    "                        break\n",
    "                    else:\n",
    "                        toggle = 0\n",
    "                        i += 1\n",
    "                else:\n",
    "                    i += 1\n",
    "                if i==len(queue):\n",
    "                    i=0\n",
    "            \n",
    "        return queue"
   ]
  },
  {
   "cell_type": "code",
   "execution_count": 169,
   "metadata": {},
   "outputs": [
    {
     "data": {
      "text/plain": [
       "[2, 13, 3, 11, 5, 17, 7]"
      ]
     },
     "execution_count": 169,
     "metadata": {},
     "output_type": "execute_result"
    }
   ],
   "source": [
    "solution = Solution()\n",
    "solution.deckRevealedIncreasing([17,13,11,2,3,5,7])"
   ]
  },
  {
   "cell_type": "code",
   "execution_count": 173,
   "metadata": {},
   "outputs": [],
   "source": [
    "class Solution:\n",
    "    def minAddToMakeValid(self, S):\n",
    "        \"\"\"\n",
    "        :type S: str\n",
    "        :rtype: int\n",
    "        \"\"\"\n",
    "        \n",
    "        stk = []\n",
    "        count = 0\n",
    "        \n",
    "        for p in S:\n",
    "            if p=='(':\n",
    "                stk.append('(')\n",
    "            else:\n",
    "                if len(stk)!=0:\n",
    "                    t = stk.pop()\n",
    "                else:\n",
    "                    count += 1\n",
    "        \n",
    "        while(len(stk)>0):\n",
    "            count += 1\n",
    "            stk.pop()\n",
    "            \n",
    "        return count"
   ]
  },
  {
   "cell_type": "code",
   "execution_count": 177,
   "metadata": {},
   "outputs": [
    {
     "data": {
      "text/plain": [
       "0"
      ]
     },
     "execution_count": 177,
     "metadata": {},
     "output_type": "execute_result"
    }
   ],
   "source": [
    "solution = Solution()\n",
    "solution.minAddToMakeValid(\"((()))\")"
   ]
  },
  {
   "cell_type": "code",
   "execution_count": 207,
   "metadata": {},
   "outputs": [],
   "source": [
    "class Solution:\n",
    "    def partitionLabels(self, S):\n",
    "        \"\"\"\n",
    "        :type S: str\n",
    "        :rtype: List[int]\n",
    "        \"\"\"\n",
    "        \n",
    "        d = {}\n",
    "        mx = 0\n",
    "        res = [0]\n",
    "        for i,c in enumerate(S):\n",
    "            ind = i\n",
    "            for j in range(i+1, len(S), 1):\n",
    "                if c==S[j]:\n",
    "                    ind = j\n",
    "            d[c] = ind\n",
    "            mx = max(mx,ind)\n",
    "            #print(d, mx)\n",
    "            if i==mx:\n",
    "                res.append(i-sum(res)+1)\n",
    "                #print(S[:i+1])\n",
    "                mx = 0\n",
    "                \n",
    "        return res[1:]"
   ]
  },
  {
   "cell_type": "code",
   "execution_count": 208,
   "metadata": {},
   "outputs": [
    {
     "data": {
      "text/plain": [
       "[1, 9]"
      ]
     },
     "execution_count": 208,
     "metadata": {},
     "output_type": "execute_result"
    }
   ],
   "source": [
    "solution = Solution()\n",
    "solution.partitionLabels(S = \"caedbdedda\")"
   ]
  },
  {
   "cell_type": "code",
   "execution_count": 285,
   "metadata": {},
   "outputs": [],
   "source": [
    "class Solution:\n",
    "    def pancakeSort(self, A):\n",
    "        \"\"\"\n",
    "        :type A: List[int]\n",
    "        :rtype: List[int]\n",
    "        \"\"\"\n",
    "        res = []\n",
    "        k = 0\n",
    "        while(len(A)>=1):\n",
    "            mx = max(A)\n",
    "            for i in range(len(A)-1,-1,-1):\n",
    "                #print(i)\n",
    "                if A[i]==mx:\n",
    "                    break\n",
    "            temp = A[:i+1]\n",
    "            temp = temp[::-1]\n",
    "            other = A[i+1:]\n",
    "            #print(temp, other)\n",
    "            temp.extend(other)\n",
    "            res.append(i+1)\n",
    "            A = temp\n",
    "            A = A[::-1]\n",
    "            res.append(len(A))\n",
    "            A.pop()\n",
    "            k += 1\n",
    "           \n",
    "            \n",
    "        return res"
   ]
  },
  {
   "cell_type": "code",
   "execution_count": 286,
   "metadata": {},
   "outputs": [
    {
     "data": {
      "text/plain": [
       "[3, 4, 2, 3, 1, 2, 1, 1]"
      ]
     },
     "execution_count": 286,
     "metadata": {},
     "output_type": "execute_result"
    }
   ],
   "source": [
    "solution = Solution()\n",
    "solution.pancakeSort([3,2,4,1])"
   ]
  },
  {
   "cell_type": "code",
   "execution_count": 283,
   "metadata": {},
   "outputs": [],
   "source": [
    "class Solution(object):\n",
    "    def pancakeSort(self, A):\n",
    "        ans = []\n",
    "\n",
    "        N = len(A)\n",
    "        B = sorted(range(1, N+1), key = lambda i: -A[i-1])\n",
    "        for i in B:\n",
    "            for f in ans:\n",
    "                if i <= f:\n",
    "                    i = f+1 - i\n",
    "            ans.extend([i, N])\n",
    "            N -= 1\n",
    "\n",
    "        return ans"
   ]
  },
  {
   "cell_type": "code",
   "execution_count": 284,
   "metadata": {},
   "outputs": [
    {
     "data": {
      "text/plain": [
       "[3, 4, 2, 3, 1, 2, 1, 1]"
      ]
     },
     "execution_count": 284,
     "metadata": {},
     "output_type": "execute_result"
    }
   ],
   "source": [
    "solution = Solution()\n",
    "solution.pancakeSort([3,2,4,1])"
   ]
  },
  {
   "cell_type": "code",
   "execution_count": 301,
   "metadata": {},
   "outputs": [],
   "source": [
    "import collections\n",
    "\n",
    "class Solution:\n",
    "    def customSortString(self, S, T):\n",
    "        \"\"\"\n",
    "        :type S: str\n",
    "        :type T: str\n",
    "        :rtype: str\n",
    "        \"\"\"\n",
    "        \n",
    "        d = collections.Counter(T)\n",
    "        res = []\n",
    "        for c in S[::-1]:\n",
    "            if c in d:\n",
    "                temp = c * d[c]\n",
    "                res.insert(0,temp)\n",
    "        \n",
    "        rest = set(T)-set(S)\n",
    "        for c in rest:\n",
    "            temp = c *d[c]\n",
    "            res.extend(temp)\n",
    "        \n",
    "        return ''.join(res)"
   ]
  },
  {
   "cell_type": "code",
   "execution_count": 302,
   "metadata": {},
   "outputs": [
    {
     "data": {
      "text/plain": [
       "'hhhhhuucccwroooozzzzzggggjjjjdddddkkkkffffnnnbbqqqqqqqqqqqsssaaaaaaaaaxxxxxmmmmpppvllllyyeiitttttttt'"
      ]
     },
     "execution_count": 302,
     "metadata": {},
     "output_type": "execute_result"
    }
   ],
   "source": [
    "solution = Solution()\n",
    "solution.customSortString(S = \"hucw\",T = \"utzoampdgkalexslxoqfkdjoczajxtuhqyxvlfatmptqdsochtdzgypsfkgqwbgqbcamdqnqztaqhqanirikahtmalzqjjxtqfnh\")"
   ]
  },
  {
   "cell_type": "code",
   "execution_count": 311,
   "metadata": {},
   "outputs": [],
   "source": [
    "class Solution:\n",
    "    def findDuplicates(self, nums):\n",
    "        \"\"\"\n",
    "        :type nums: List[int]\n",
    "        :rtype: List[int]\n",
    "        \"\"\"\n",
    "        \n",
    "        l = len(nums)\n",
    "        d = dict.fromkeys(range(l),0)\n",
    "        res = []\n",
    "        \n",
    "        for n in nums:\n",
    "            if n in d and d[n]==1:\n",
    "                res.append(n)\n",
    "            else:\n",
    "                d[n]=1\n",
    "                \n",
    "        return res"
   ]
  },
  {
   "cell_type": "code",
   "execution_count": 312,
   "metadata": {},
   "outputs": [
    {
     "data": {
      "text/plain": [
       "[2, 3]"
      ]
     },
     "execution_count": 312,
     "metadata": {},
     "output_type": "execute_result"
    }
   ],
   "source": [
    "solution = Solution()\n",
    "solution.findDuplicates([4,3,2,7,8,2,3,1])"
   ]
  },
  {
   "cell_type": "code",
   "execution_count": 365,
   "metadata": {},
   "outputs": [],
   "source": [
    "class Solution(object):\n",
    "    def reconstructQueue(self, people):\n",
    "        \"\"\"\n",
    "        :type people: List[List[int]]\n",
    "        :rtype: List[List[int]]\n",
    "        \"\"\"\n",
    "        people = sorted(people, key = lambda x: (x[1], x[0]))\n",
    "        #print(people)\n",
    "        \n",
    "        res = []\n",
    "        while(people):\n",
    "            temp = people.pop(0)\n",
    "            count = 0\n",
    "            n = 0\n",
    "            for n,i in enumerate(res):\n",
    "                #print(n,count)\n",
    "                if i[0]>=temp[0]:\n",
    "                    count += 1\n",
    "                if count>temp[1]:\n",
    "                    break\n",
    "            if count>temp[1]:\n",
    "                n-=1\n",
    "            n += 1\n",
    "            res.insert(n,temp)\n",
    "            #print(res)\n",
    "            \n",
    "        return res"
   ]
  },
  {
   "cell_type": "code",
   "execution_count": 366,
   "metadata": {},
   "outputs": [
    {
     "data": {
      "text/plain": [
       "[[5, 0], [7, 0], [5, 2], [6, 1], [4, 4], [7, 1]]"
      ]
     },
     "execution_count": 366,
     "metadata": {},
     "output_type": "execute_result"
    }
   ],
   "source": [
    "solution = Solution()\n",
    "solution.reconstructQueue(people = [[7,0], [4,4], [7,1], [5,0], [6,1], [5,2]])"
   ]
  }
 ],
 "metadata": {
  "kernelspec": {
   "display_name": "Python 3",
   "language": "python",
   "name": "python3"
  },
  "language_info": {
   "codemirror_mode": {
    "name": "ipython",
    "version": 3
   },
   "file_extension": ".py",
   "mimetype": "text/x-python",
   "name": "python",
   "nbconvert_exporter": "python",
   "pygments_lexer": "ipython3",
   "version": "3.6.4"
  }
 },
 "nbformat": 4,
 "nbformat_minor": 2
}
