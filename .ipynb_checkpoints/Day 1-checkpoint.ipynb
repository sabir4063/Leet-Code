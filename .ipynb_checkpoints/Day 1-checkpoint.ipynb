{
 "cells": [
  {
   "cell_type": "code",
   "execution_count": 22,
   "metadata": {},
   "outputs": [],
   "source": [
    "class Solution(object):\n",
    "    def addBinary(self, a, b):\n",
    "        \"\"\"\n",
    "        :type a: str\n",
    "        :type b: str\n",
    "        :rtype: str\n",
    "        \"\"\"\n",
    "        \n",
    "        maxlen = max(len(a), len(b))\n",
    "\n",
    "        #Normalize lengths\n",
    "        a = a.zfill(maxlen)\n",
    "        b = b.zfill(maxlen)\n",
    "        \n",
    "        res= ''\n",
    "        carry = 0\n",
    "        \n",
    "        for i in range(maxlen-1, -1, -1):\n",
    "            \n",
    "            add = carry\n",
    "            if a[i]=='1': \n",
    "                add+=1 \n",
    "            \n",
    "            if b[i]=='1':\n",
    "                add+=1\n",
    "            \n",
    "            if add>=2:\n",
    "                carry = 1\n",
    "            else:\n",
    "                carry = 0\n",
    "                \n",
    "            if add%2==1:\n",
    "                res = \"1\" + res\n",
    "            else:\n",
    "                res = \"0\" + res\n",
    "            #print(res, add, carry)\n",
    "                \n",
    "        if carry !=0 : res = '1' + res\n",
    "        \n",
    "        res = res.zfill(maxlen)\n",
    "        #print(res)\n",
    "        \n",
    "        return res"
   ]
  },
  {
   "cell_type": "code",
   "execution_count": 23,
   "metadata": {},
   "outputs": [
    {
     "data": {
      "text/plain": [
       "'10101'"
      ]
     },
     "execution_count": 23,
     "metadata": {},
     "output_type": "execute_result"
    }
   ],
   "source": [
    "solution = Solution()\n",
    "solution.addBinary(\"1010\",\"1011\")"
   ]
  },
  {
   "cell_type": "code",
   "execution_count": 87,
   "metadata": {},
   "outputs": [],
   "source": [
    "class Solution(object):\n",
    "    def maxIncreaseKeepingSkyline(self, grid):\n",
    "        \"\"\"\n",
    "        :type grid: List[List[int]]\n",
    "        :rtype: int\n",
    "        \"\"\"\n",
    "        \n",
    "        rows = len(grid)\n",
    "        cols = len(grid[0])\n",
    "        \n",
    "        max_r = []\n",
    "        for r in grid:\n",
    "            max_r.append(max(r))\n",
    "        \n",
    "        #print(max_r)\n",
    "        \n",
    "        max_c = []\n",
    "        \n",
    "        for i,r in enumerate(grid):\n",
    "            temp = []\n",
    "            for j,c in enumerate(grid):\n",
    "                temp.append(c[i])\n",
    "            max_c.append(max(temp))\n",
    "        #print(max_c)\n",
    "        \n",
    "        total = 0\n",
    "        for i,r in enumerate(grid):\n",
    "            for j,c in enumerate(grid):\n",
    "                d = grid[i][j]\n",
    "                total += (min(max_r[i],max_c[j])-grid[i][j])\n",
    "\n",
    "        #print(grid)\n",
    "        return total"
   ]
  },
  {
   "cell_type": "code",
   "execution_count": 88,
   "metadata": {},
   "outputs": [
    {
     "data": {
      "text/plain": [
       "35"
      ]
     },
     "execution_count": 88,
     "metadata": {},
     "output_type": "execute_result"
    }
   ],
   "source": [
    "solution = Solution()\n",
    "grid = [[3,0,8,4],[2,4,5,7],[9,2,6,3],[0,3,1,0]]\n",
    "solution.maxIncreaseKeepingSkyline(grid)"
   ]
  },
  {
   "cell_type": "code",
   "execution_count": 93,
   "metadata": {},
   "outputs": [],
   "source": [
    "class Solution(object):\n",
    "    def sortArrayByParity(self, A):\n",
    "        \"\"\"\n",
    "        :type A: List[int]\n",
    "        :rtype: List[int]\n",
    "        \"\"\"\n",
    "        e = []\n",
    "        o = []\n",
    "        for i in range(len(A)):\n",
    "            if A[i]%2==0:\n",
    "                e.append(A[i])\n",
    "            else:\n",
    "                o.append(A[i])\n",
    "        \n",
    "        for oo in o:\n",
    "            e.append(oo)\n",
    "        \n",
    "        #print(e)\n",
    "        return e"
   ]
  },
  {
   "cell_type": "code",
   "execution_count": 92,
   "metadata": {},
   "outputs": [
    {
     "name": "stdout",
     "output_type": "stream",
     "text": [
      "[2, 4, 3, 1]\n"
     ]
    },
    {
     "data": {
      "text/plain": [
       "[2, 4, 3, 1]"
      ]
     },
     "execution_count": 92,
     "metadata": {},
     "output_type": "execute_result"
    }
   ],
   "source": [
    "solution = Solution()\n",
    "solution.sortArrayByParity([3,1,2,4])"
   ]
  },
  {
   "cell_type": "code",
   "execution_count": 178,
   "metadata": {},
   "outputs": [],
   "source": [
    "class Solution(object):\n",
    "    def uniqueMorseRepresentations(self, words):\n",
    "        \"\"\"\n",
    "        :type words: List[str]\n",
    "        :rtype: int\n",
    "        \"\"\"\n",
    "        MORSE = [\".-\",\"-...\",\"-.-.\",\"-..\",\".\",\"..-.\",\"--.\",\"....\",\"..\",\".---\",\"-.-\",\".-..\",\"--\",\"-.\",\"---\",\".--.\",\"--.-\",\".-.\",\"...\",\"-\",\"..-\",\"...-\",\".--\",\"-..-\",\"-.--\",\"--..\"]\n",
    "        \n",
    "        morse_list = []\n",
    "        for word in words:\n",
    "            temp = \"\"\n",
    "            for c in word:\n",
    "                ind = (ord(c)-ord('a'))\n",
    "                temp = temp + MORSE[ind]\n",
    "            morse_list.append(temp)\n",
    "            #print(temp)\n",
    "            \n",
    "        return len(list(set(morse_list)))"
   ]
  },
  {
   "cell_type": "code",
   "execution_count": 177,
   "metadata": {},
   "outputs": [
    {
     "name": "stdout",
     "output_type": "stream",
     "text": [
      "--...-.\n",
      "--...-.\n",
      "--...--.\n",
      "--...--.\n"
     ]
    },
    {
     "data": {
      "text/plain": [
       "2"
      ]
     },
     "execution_count": 177,
     "metadata": {},
     "output_type": "execute_result"
    }
   ],
   "source": [
    "solution = Solution()\n",
    "words = [\"gin\", \"zen\", \"gig\", \"msg\"]\n",
    "solution.uniqueMorseRepresentations(words)"
   ]
  },
  {
   "cell_type": "code",
   "execution_count": 197,
   "metadata": {},
   "outputs": [],
   "source": [
    "class Solution(object):\n",
    "    def hammingDistance(self, x, y):\n",
    "        \"\"\"\n",
    "        :type x: int\n",
    "        :type y: int\n",
    "        :rtype: int\n",
    "        \"\"\"\n",
    "        \n",
    "        b_x = str(\"{0:b}\".format(x))\n",
    "        b_y = str(\"{0:b}\".format(y))\n",
    "        \n",
    "        maxlen = max(len(b_x), len(b_y))\n",
    "        \n",
    "        b_x = b_x.zfill(maxlen)\n",
    "        b_y = b_y.zfill(maxlen)\n",
    "        \n",
    "        count = 0\n",
    "        for i in range(maxlen):\n",
    "            if b_x[i]!=b_y[i]:\n",
    "                count += 1\n",
    "        #print(b_x, b_y)\n",
    "        \n",
    "        return count"
   ]
  },
  {
   "cell_type": "code",
   "execution_count": 196,
   "metadata": {},
   "outputs": [
    {
     "name": "stdout",
     "output_type": "stream",
     "text": [
      "001 100\n"
     ]
    },
    {
     "data": {
      "text/plain": [
       "2"
      ]
     },
     "execution_count": 196,
     "metadata": {},
     "output_type": "execute_result"
    }
   ],
   "source": [
    "solution = Solution()\n",
    "solution.hammingDistance(1,4)"
   ]
  },
  {
   "cell_type": "code",
   "execution_count": 202,
   "metadata": {},
   "outputs": [],
   "source": [
    "class Solution(object):\n",
    "    def hammingWeight(self, n):\n",
    "        \"\"\"\n",
    "        :type n: int\n",
    "        :rtype: int\n",
    "        \"\"\"\n",
    "        b_x = str(\"{0:b}\".format(n))\n",
    "        \n",
    "        count=0\n",
    "        for i in range(len(b_x)):\n",
    "            if b_x[i]=='1':\n",
    "                count += 1\n",
    "        \n",
    "        return count"
   ]
  },
  {
   "cell_type": "code",
   "execution_count": 203,
   "metadata": {},
   "outputs": [
    {
     "data": {
      "text/plain": [
       "3"
      ]
     },
     "execution_count": 203,
     "metadata": {},
     "output_type": "execute_result"
    }
   ],
   "source": [
    "solution = Solution()\n",
    "solution.hammingWeight(11)"
   ]
  },
  {
   "cell_type": "code",
   "execution_count": 210,
   "metadata": {},
   "outputs": [],
   "source": [
    "class Solution(object):\n",
    "    def countBits(self, num):\n",
    "        \"\"\"\n",
    "        :type num: int\n",
    "        :rtype: List[int]\n",
    "        \"\"\"\n",
    "        \n",
    "        res = []\n",
    "        for n in range(num+1):\n",
    "            b_x = str(\"{0:b}\".format(n))\n",
    "\n",
    "            count=0\n",
    "            for i in range(len(b_x)):\n",
    "                if b_x[i]=='1':\n",
    "                    count += 1\n",
    "            res.append(count)\n",
    "            \n",
    "        return res"
   ]
  },
  {
   "cell_type": "code",
   "execution_count": 211,
   "metadata": {},
   "outputs": [
    {
     "data": {
      "text/plain": [
       "[0, 1, 1, 2, 1, 2]"
      ]
     },
     "execution_count": 211,
     "metadata": {},
     "output_type": "execute_result"
    }
   ],
   "source": [
    "solution = Solution()\n",
    "solution.countBits(5)"
   ]
  }
 ],
 "metadata": {
  "kernelspec": {
   "display_name": "Python 3",
   "language": "python",
   "name": "python3"
  },
  "language_info": {
   "codemirror_mode": {
    "name": "ipython",
    "version": 3
   },
   "file_extension": ".py",
   "mimetype": "text/x-python",
   "name": "python",
   "nbconvert_exporter": "python",
   "pygments_lexer": "ipython3",
   "version": "3.6.4"
  }
 },
 "nbformat": 4,
 "nbformat_minor": 2
}
