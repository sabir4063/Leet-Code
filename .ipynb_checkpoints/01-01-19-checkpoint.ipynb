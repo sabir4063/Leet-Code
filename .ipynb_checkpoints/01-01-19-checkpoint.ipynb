{
 "cells": [
  {
   "cell_type": "code",
   "execution_count": 46,
   "metadata": {},
   "outputs": [],
   "source": [
    "class Solution:\n",
    "    def reorderLogFiles(self, logs):\n",
    "        \"\"\"\n",
    "        :type logs: List[str]\n",
    "        :rtype: List[str]\n",
    "        \"\"\"\n",
    "        ltr = []\n",
    "        dgt = []\n",
    "        \n",
    "        for l in logs:\n",
    "            if l.split()[1].isdigit():\n",
    "                dgt.append(l)\n",
    "            else:\n",
    "                ltr.append(l)\n",
    "\n",
    "        ltr.sort(key=lambda x:x.split()[1])\n",
    "        ltr.sort(key=lambda x:x.split()[1:])\n",
    "        \n",
    "        res =  ltr + dgt\n",
    "        \n",
    "        return res"
   ]
  },
  {
   "cell_type": "code",
   "execution_count": 47,
   "metadata": {},
   "outputs": [
    {
     "data": {
      "text/plain": [
       "['a8 aat zoo', 'g1 bat zzz', 'ab1 off key dog', 'a1 9 2 3 1', 'zo4 4 7']"
      ]
     },
     "execution_count": 47,
     "metadata": {},
     "output_type": "execute_result"
    }
   ],
   "source": [
    "solution = Solution()\n",
    "solution.reorderLogFiles([\"a1 9 2 3 1\",\"g1 bat zzz\",\"zo4 4 7\",\"ab1 off key dog\",\"a8 aat zoo\"])"
   ]
  },
  {
   "cell_type": "code",
   "execution_count": 73,
   "metadata": {},
   "outputs": [],
   "source": [
    "class Solution:\n",
    "    def letterCasePermutation(self, S):\n",
    "        \"\"\"\n",
    "        :type S: str\n",
    "        :rtype: List[str]\n",
    "        \"\"\"\n",
    "        \n",
    "        def backtrack(s,ind):\n",
    "            \n",
    "            if ind==len(S):\n",
    "                res.append(s)\n",
    "                return\n",
    "            \n",
    "            if S[ind].isdigit():\n",
    "                s = s+S[ind]\n",
    "                #print(s)\n",
    "                backtrack(s,ind+1)\n",
    "            else:\n",
    "                #s = s+(S[ind]).lower()\n",
    "                #print(s)\n",
    "                backtrack(s+(S[ind]).lower(),ind+1)\n",
    "                #s = s+(S[ind]).upper()\n",
    "                #print(s)\n",
    "                backtrack(s+(S[ind]).upper(),ind+1)\n",
    "                \n",
    "        res = []\n",
    "        backtrack('',0)\n",
    "        \n",
    "        return res"
   ]
  },
  {
   "cell_type": "code",
   "execution_count": 74,
   "metadata": {},
   "outputs": [
    {
     "data": {
      "text/plain": [
       "['3r4', '3R4']"
      ]
     },
     "execution_count": 74,
     "metadata": {},
     "output_type": "execute_result"
    }
   ],
   "source": [
    "solution = Solution()\n",
    "solution.letterCasePermutation(S = \"3r4\")"
   ]
  },
  {
   "cell_type": "code",
   "execution_count": 85,
   "metadata": {},
   "outputs": [],
   "source": [
    "class Solution:\n",
    "    def rotateString(self, A, B):\n",
    "        \"\"\"\n",
    "        :type A: str\n",
    "        :type B: str\n",
    "        :rtype: bool\n",
    "        \"\"\"\n",
    "        if A==B: return True\n",
    "        for i in range(len(A)):\n",
    "            if A[i:]+A[:i]==B:\n",
    "                return True\n",
    "        \n",
    "        return False"
   ]
  },
  {
   "cell_type": "code",
   "execution_count": 86,
   "metadata": {},
   "outputs": [
    {
     "data": {
      "text/plain": [
       "False"
      ]
     },
     "execution_count": 86,
     "metadata": {},
     "output_type": "execute_result"
    }
   ],
   "source": [
    "solution = Solution()\n",
    "solution.rotateString(A = '', B = 'cdeab')"
   ]
  },
  {
   "cell_type": "code",
   "execution_count": 103,
   "metadata": {},
   "outputs": [],
   "source": [
    "class Solution:\n",
    "    def minMoves(self, nums):\n",
    "        \"\"\"\n",
    "        :type nums: List[int]\n",
    "        :rtype: int\n",
    "        \"\"\"\n",
    "        \n",
    "        return sum(nums)-len(nums)*min(nums)"
   ]
  },
  {
   "cell_type": "code",
   "execution_count": 105,
   "metadata": {},
   "outputs": [
    {
     "data": {
      "text/plain": [
       "11"
      ]
     },
     "execution_count": 105,
     "metadata": {},
     "output_type": "execute_result"
    }
   ],
   "source": [
    "solution = Solution()\n",
    "solution.minMoves([1,6,7])"
   ]
  },
  {
   "cell_type": "code",
   "execution_count": 183,
   "metadata": {},
   "outputs": [],
   "source": [
    "class Solution:\n",
    "    def isOneBitCharacter(self, bits):\n",
    "        \"\"\"\n",
    "        :type bits: List[int]\n",
    "        :rtype: bool\n",
    "        \"\"\"\n",
    "        \n",
    "        res = []\n",
    "        def backtrack(bits, ind):\n",
    "                        \n",
    "            #print(bits[:ind], ind)\n",
    "\n",
    "            if ind==len(bits)-1:\n",
    "                res.append(bits[ind])\n",
    "                return \n",
    "            if ind==len(bits):\n",
    "                return\n",
    "\n",
    "            if bits[ind]==0:\n",
    "                backtrack(bits, ind+1)\n",
    "            if ind+1<len(bits):\n",
    "                if bits[ind]==1 and bits[ind+1]==1:\n",
    "                    backtrack(bits, ind+2)\n",
    "                if bits[ind]==1 and bits[ind+1]==0:\n",
    "                    backtrack(bits, ind+2)            \n",
    "            \n",
    "        backtrack(bits, 0)\n",
    "        if 0 in res:\n",
    "            return True\n",
    "        else:\n",
    "            return False"
   ]
  },
  {
   "cell_type": "code",
   "execution_count": 185,
   "metadata": {},
   "outputs": [
    {
     "data": {
      "text/plain": [
       "True"
      ]
     },
     "execution_count": 185,
     "metadata": {},
     "output_type": "execute_result"
    }
   ],
   "source": [
    "solution = Solution()\n",
    "solution.isOneBitCharacter([1, 1, 0, 0])"
   ]
  },
  {
   "cell_type": "code",
   "execution_count": 226,
   "metadata": {},
   "outputs": [
    {
     "name": "stdout",
     "output_type": "stream",
     "text": [
      "1.0\n"
     ]
    }
   ],
   "source": [
    "import math\n",
    "\n",
    "def nCr(n,r):\n",
    "    f = math.factorial\n",
    "    return f(n) / f(r) / f(n-r)\n",
    "\n",
    "if __name__ == '__main__':\n",
    "    print(nCr(2,2))"
   ]
  },
  {
   "cell_type": "code",
   "execution_count": 240,
   "metadata": {},
   "outputs": [],
   "source": [
    "class Solution:\n",
    "    def numberOfBoomerangs(self, points):\n",
    "        \"\"\"\n",
    "        :type points: List[List[int]]\n",
    "        :rtype: int\n",
    "        \"\"\"\n",
    "        \n",
    "        def factorial(n):\n",
    "            fact = 1\n",
    "            for i in range(1,n+1,1):\n",
    "                fact *= i\n",
    "            return fact\n",
    "        \n",
    "        def nCr(n,r):\n",
    "            f = factorial\n",
    "            return f(n) / f(r) / f(n-r)\n",
    "\n",
    "        def dist(a,b):\n",
    "            return pow((pow((a[0]-b[0]),2) + pow((a[1]-b[1]),2)),0.5)\n",
    "        \n",
    "        cnt = 0\n",
    "        for i in range(len(points)):\n",
    "            d = {}\n",
    "            for j in range(len(points)):\n",
    "                if i==j: continue\n",
    "                p1 = points[i]\n",
    "                p2 = points[j]\n",
    "                distance = dist(p1,p2)\n",
    "                d[distance] = d.get(distance,0)+1\n",
    "            \n",
    "            for k in d.keys():\n",
    "                #print(k,d[k])\n",
    "                if d[k]>=2:\n",
    "                    cnt += int(nCr(d[k],2)*2)\n",
    "                    #print(nCr(2,2))\n",
    "            #print('-------------')\n",
    "        return cnt"
   ]
  },
  {
   "cell_type": "code",
   "execution_count": 241,
   "metadata": {},
   "outputs": [
    {
     "data": {
      "text/plain": [
       "2"
      ]
     },
     "execution_count": 241,
     "metadata": {},
     "output_type": "execute_result"
    }
   ],
   "source": [
    "solution = Solution()\n",
    "solution.numberOfBoomerangs([[0,0],[1,0],[2,0]])"
   ]
  },
  {
   "cell_type": "code",
   "execution_count": 274,
   "metadata": {},
   "outputs": [
    {
     "name": "stdout",
     "output_type": "stream",
     "text": [
      "-1\n"
     ]
    }
   ],
   "source": [
    "def binarySearch(arr, l, r, x): \n",
    "  \n",
    "    while l <= r: \n",
    "  \n",
    "        mid = int(l + (r - l)/2); \n",
    "          \n",
    "        # Check if x is present at mid \n",
    "        if arr[mid] == x: \n",
    "            return mid \n",
    "  \n",
    "        # If x is greater, ignore left half \n",
    "        elif arr[mid] < x: \n",
    "            l = mid + 1\n",
    "  \n",
    "        # If x is smaller, ignore right half \n",
    "        else: \n",
    "            r = mid - 1\n",
    "      \n",
    "    # If we reach here, then the element \n",
    "    # was not present \n",
    "    return -1\n",
    "  \n",
    "#Test array \n",
    "arr = [ 2, 3, 4 ] \n",
    "x = 6\n",
    "  \n",
    "# Function call \n",
    "result = binarySearch(arr, 0, len(arr)-1, x) \n",
    "print(result)"
   ]
  },
  {
   "cell_type": "code",
   "execution_count": 369,
   "metadata": {},
   "outputs": [],
   "source": [
    "class Solution:\n",
    "    def twoSum(self, numbers, target):\n",
    "        \"\"\"\n",
    "        :type numbers: List[int]\n",
    "        :type target: int\n",
    "        :rtype: List[int]\n",
    "        \"\"\"\n",
    "        def binarySearch(arrays, item):\n",
    "            l = 0\n",
    "            h = len(arrays)-1\n",
    "            \n",
    "            while(l<=h):\n",
    "                m = int(l+(h-l)/2)\n",
    "                #print(l,m,h)\n",
    "                if item==arrays[m]:\n",
    "                    return item\n",
    "                elif arrays[m] < item:\n",
    "                    l = m + 1\n",
    "                else:\n",
    "                    h = m - 1\n",
    "            return -1\n",
    "        \n",
    "        num_to_ind = {}\n",
    "        num_count = {}\n",
    "        for i,number in enumerate(numbers):\n",
    "            num_to_ind[number]=i\n",
    "            num_count[number] = num_count.get(number,0) + 1\n",
    "        \n",
    "        temp = sorted(list(set(numbers)))\n",
    "        \n",
    "        filtered_numbers = []\n",
    "        \n",
    "        for number in temp:\n",
    "            if num_count[number]>1:\n",
    "                filtered_numbers.append(number)\n",
    "                filtered_numbers.append(number)\n",
    "            else:\n",
    "                filtered_numbers.append(number)\n",
    "                \n",
    "        for i,n in enumerate(filtered_numbers):\n",
    "            temp = filtered_numbers[:i] + filtered_numbers[i+1:]\n",
    "            if n <= target:\n",
    "                srch = binarySearch(temp,target-n)\n",
    "                if srch > -1:\n",
    "                    if n==srch:\n",
    "                        return [num_to_ind[n],num_to_ind[n]+1]\n",
    "                    else:\n",
    "                        return [num_to_ind[n]+1,num_to_ind[srch]+1]"
   ]
  },
  {
   "cell_type": "code",
   "execution_count": 370,
   "metadata": {},
   "outputs": [
    {
     "data": {
      "text/plain": [
       "[1, 2]"
      ]
     },
     "execution_count": 370,
     "metadata": {},
     "output_type": "execute_result"
    }
   ],
   "source": [
    "solution = Solution()\n",
    "solution.twoSum(numbers = [0,0,3,4], target = 0)"
   ]
  },
  {
   "cell_type": "code",
   "execution_count": 376,
   "metadata": {},
   "outputs": [],
   "source": [
    "class Solution:\n",
    "    def firstUniqChar(self, s):\n",
    "        \"\"\"\n",
    "        :type s: str\n",
    "        :rtype: int\n",
    "        \"\"\"\n",
    "        count_char = {}\n",
    "        \n",
    "        for c in s:\n",
    "            count_char[c] = count_char.get(c,0)+1\n",
    "        \n",
    "        tag = False\n",
    "        for i,c in enumerate(s):\n",
    "            if count_char[c]==1:\n",
    "                tag = True\n",
    "                return i\n",
    "            \n",
    "        if tag==False:\n",
    "            return -1"
   ]
  },
  {
   "cell_type": "code",
   "execution_count": 382,
   "metadata": {},
   "outputs": [],
   "source": [
    "class Solution:\n",
    "    def firstUniqChar(self, s):\n",
    "        \"\"\"\n",
    "        :type s: str\n",
    "        :rtype: int\n",
    "        \"\"\"\n",
    "        char_set = set(s)\n",
    "        \n",
    "        ind = [s.index(c) for c in char_set if s.count(c)==1]\n",
    "        print(min(ind))"
   ]
  },
  {
   "cell_type": "code",
   "execution_count": 383,
   "metadata": {},
   "outputs": [
    {
     "name": "stdout",
     "output_type": "stream",
     "text": [
      "2\n"
     ]
    }
   ],
   "source": [
    "solution = Solution()\n",
    "solution.firstUniqChar(s = \"loveleetcode\")"
   ]
  },
  {
   "cell_type": "code",
   "execution_count": 412,
   "metadata": {},
   "outputs": [],
   "source": [
    "class Solution:\n",
    "    def maxCount(self, m, n, ops):\n",
    "        \"\"\"\n",
    "        :type m: int\n",
    "        :type n: int\n",
    "        :type ops: List[List[int]]\n",
    "        :rtype: int\n",
    "        \"\"\"\n",
    "        rows = []\n",
    "        cols = []\n",
    "        \n",
    "        for op in ops:\n",
    "            rows.append(op[0])\n",
    "            cols.append(op[1])\n",
    "        \n",
    "        #print(rows)\n",
    "        #print(cols)\n",
    "        if rows==[] and cols==[]:\n",
    "            return m*n\n",
    "        \n",
    "        min_row = min(rows)\n",
    "        min_col = min(cols)\n",
    "        \n",
    "        return min_row*min_col"
   ]
  },
  {
   "cell_type": "code",
   "execution_count": 413,
   "metadata": {},
   "outputs": [
    {
     "data": {
      "text/plain": [
       "9"
      ]
     },
     "execution_count": 413,
     "metadata": {},
     "output_type": "execute_result"
    }
   ],
   "source": [
    "solution = Solution()\n",
    "solution.maxCount(m = 3, n = 3, ops = [])"
   ]
  },
  {
   "cell_type": "code",
   "execution_count": 435,
   "metadata": {},
   "outputs": [],
   "source": [
    "class Solution:\n",
    "    def constructRectangle(self, area):\n",
    "        \"\"\"\n",
    "        :type area: int\n",
    "        :rtype: List[int]\n",
    "        \"\"\"\n",
    "        sqrt = int(pow(area,0.5))\n",
    "        \n",
    "        for i in range(sqrt,0,-1):\n",
    "            if area%i==0:\n",
    "                break\n",
    "        \n",
    "        if i>int(area/i):\n",
    "            return [i, int(area/i)]\n",
    "        else:\n",
    "            return [int(area/i), i]"
   ]
  },
  {
   "cell_type": "code",
   "execution_count": 436,
   "metadata": {},
   "outputs": [
    {
     "data": {
      "text/plain": [
       "[7, 1]"
      ]
     },
     "execution_count": 436,
     "metadata": {},
     "output_type": "execute_result"
    }
   ],
   "source": [
    "solution = Solution()\n",
    "solution.constructRectangle(7)"
   ]
  },
  {
   "cell_type": "code",
   "execution_count": 449,
   "metadata": {},
   "outputs": [],
   "source": [
    "class Solution:\n",
    "    def findContentChildren(self, g, s):\n",
    "        \"\"\"\n",
    "        :type g: List[int]\n",
    "        :type s: List[int]\n",
    "        :rtype: int\n",
    "        \"\"\"\n",
    "        \n",
    "        g = sorted(g)\n",
    "        s = sorted(s)\n",
    "        cnt = 0\n",
    "        \n",
    "        for grd in g:\n",
    "            tag = False\n",
    "            for i,scr in enumerate(s):\n",
    "                if scr>=grd:\n",
    "                    tag =True\n",
    "                    cnt += 1\n",
    "                    break\n",
    "            if tag == True:\n",
    "                s.pop(i)\n",
    "            \n",
    "        return cnt"
   ]
  },
  {
   "cell_type": "code",
   "execution_count": 451,
   "metadata": {},
   "outputs": [
    {
     "data": {
      "text/plain": [
       "2"
      ]
     },
     "execution_count": 451,
     "metadata": {},
     "output_type": "execute_result"
    }
   ],
   "source": [
    "solution = Solution()\n",
    "solution.findContentChildren([1,2], [1,2,3])"
   ]
  },
  {
   "cell_type": "code",
   "execution_count": 512,
   "metadata": {},
   "outputs": [],
   "source": [
    "class Solution:\n",
    "    def findRelativeRanks(self, nums):\n",
    "        \"\"\"\n",
    "        :type nums: List[int]\n",
    "        :rtype: List[str]\n",
    "        \"\"\"\n",
    "            \n",
    "        sorted_by_value = sorted(nums, reverse=True)\n",
    "        #print(sorted_by_value)\n",
    "        \n",
    "        res = []\n",
    "        for n in nums:\n",
    "            kv = sorted_by_value.index(n)\n",
    "            if kv==0:\n",
    "                res.append('Gold Medal')\n",
    "            elif kv==1:\n",
    "                res.append('Silver Medal')\n",
    "            elif kv==2:\n",
    "                res.append('Bronze Medal')\n",
    "            else:\n",
    "                res.append(str(kv+1))\n",
    "        \n",
    "        return res"
   ]
  },
  {
   "cell_type": "code",
   "execution_count": 514,
   "metadata": {},
   "outputs": [
    {
     "data": {
      "text/plain": [
       "['Gold Medal', 'Silver Medal', 'Bronze Medal', '4', '5']"
      ]
     },
     "execution_count": 514,
     "metadata": {},
     "output_type": "execute_result"
    }
   ],
   "source": [
    "solution = Solution()\n",
    "solution.findRelativeRanks([5,4,3,2,1])"
   ]
  },
  {
   "cell_type": "code",
   "execution_count": 525,
   "metadata": {},
   "outputs": [],
   "source": [
    "class Solution:\n",
    "    def imageSmoother(self, M):\n",
    "        \"\"\"\n",
    "        :type M: List[List[int]]\n",
    "        :rtype: List[List[int]]\n",
    "        \"\"\"\n",
    "        R,C = len(M), len(M[0])\n",
    "        ans = [[0] * C for _ in M]\n",
    "        \n",
    "        for i in range(R):\n",
    "            for j in range(C):\n",
    "                count = 0\n",
    "                for r in range(i-1,i+2,1):\n",
    "                    for c in range(j-1,j+2,1):\n",
    "                        if (r>=0 and r<R) and (c>=0 and c<C):\n",
    "                            ans[i][j] += M[r][c]\n",
    "                            count+= 1\n",
    "                ans[i][j]= int(ans[i][j]/count)\n",
    "        \n",
    "        return ans"
   ]
  },
  {
   "cell_type": "code",
   "execution_count": 526,
   "metadata": {},
   "outputs": [
    {
     "data": {
      "text/plain": [
       "[[0, 0, 0], [0, 0, 0], [0, 0, 0]]"
      ]
     },
     "execution_count": 526,
     "metadata": {},
     "output_type": "execute_result"
    }
   ],
   "source": [
    "solution = Solution()\n",
    "solution.imageSmoother([[1,1,1],\n",
    "                         [1,0,1],\n",
    "                         [1,1,1]])"
   ]
  },
  {
   "cell_type": "code",
   "execution_count": 549,
   "metadata": {},
   "outputs": [],
   "source": [
    "class Solution:\n",
    "    def longestPalindrome(self, s):\n",
    "        \"\"\"\n",
    "        :type s: str\n",
    "        :rtype: int\n",
    "        \"\"\"\n",
    "        \n",
    "        char_count = {}\n",
    "        for c in s:\n",
    "            char_count[c] = char_count.get(c,0)+1\n",
    "        \n",
    "        count = 0\n",
    "        odd = 0\n",
    "        for k in char_count.keys():\n",
    "            if char_count[k]%2==0:\n",
    "                count = count + char_count[k]\n",
    "            else:\n",
    "                count = count + char_count[k]-1\n",
    "                odd = 1\n",
    "        \n",
    "        count = count + odd\n",
    "        \n",
    "        return count"
   ]
  },
  {
   "cell_type": "code",
   "execution_count": 550,
   "metadata": {},
   "outputs": [
    {
     "data": {
      "text/plain": [
       "983"
      ]
     },
     "execution_count": 550,
     "metadata": {},
     "output_type": "execute_result"
    }
   ],
   "source": [
    "solution = Solution()\n",
    "solution.longestPalindrome(\"civilwartestingwhetherthatnaptionoranynartionsoconceivedandsodedicatedcanlongendureWeareqmetonagreatbattlefiemldoftzhatwarWehavecometodedicpateaportionofthatfieldasafinalrestingplaceforthosewhoheregavetheirlivesthatthatnationmightliveItisaltogetherfangandproperthatweshoulddothisButinalargersensewecannotdedicatewecannotconsecratewecannothallowthisgroundThebravelmenlivinganddeadwhostruggledherehaveconsecrateditfaraboveourpoorponwertoaddordetractTgheworldadswfilllittlenotlenorlongrememberwhatwesayherebutitcanneverforgetwhattheydidhereItisforusthelivingrathertobededicatedheretotheulnfinishedworkwhichtheywhofoughtherehavethusfarsonoblyadvancedItisratherforustobeherededicatedtothegreattdafskremainingbeforeusthatfromthesehonoreddeadwetakeincreaseddevotiontothatcauseforwhichtheygavethelastpfullmeasureofdevotionthatweherehighlyresolvethatthesedeadshallnothavediedinvainthatthisnationunsderGodshallhaveanewbirthoffreedomandthatgovernmentofthepeoplebythepeopleforthepeopleshallnotperishfromtheearth\")"
   ]
  },
  {
   "cell_type": "code",
   "execution_count": 581,
   "metadata": {},
   "outputs": [],
   "source": [
    "class Solution:\n",
    "    def missingNumber(self, nums):\n",
    "        \"\"\"\n",
    "        :type nums: List[int]\n",
    "        :rtype: int\n",
    "        \"\"\"\n",
    "        \n",
    "        n = len(nums)\n",
    "        \n",
    "        sum_n = n*(n+1)/2\n",
    "        \n",
    "        sum_nums = sum(nums)\n",
    "        \n",
    "        return int(sum_n - sum_nums)"
   ]
  },
  {
   "cell_type": "code",
   "execution_count": 582,
   "metadata": {},
   "outputs": [
    {
     "data": {
      "text/plain": [
       "8"
      ]
     },
     "execution_count": 582,
     "metadata": {},
     "output_type": "execute_result"
    }
   ],
   "source": [
    "solution = Solution()\n",
    "solution.missingNumber([9,6,4,2,3,5,7,0,1])"
   ]
  },
  {
   "cell_type": "code",
   "execution_count": 597,
   "metadata": {},
   "outputs": [],
   "source": [
    "class Solution:\n",
    "    def largeGroupPositions(self, S):\n",
    "        \"\"\"\n",
    "        :type S: str\n",
    "        :rtype: List[List[int]]\n",
    "        \"\"\"\n",
    "        tag = False\n",
    "        start = -1\n",
    "        end = -1\n",
    "        res = []\n",
    "        got = False\n",
    "        \n",
    "        for i in range(len(S)-2):\n",
    "            if S[i]==S[i+1] and S[i+1]==S[i+2]:\n",
    "                got = True\n",
    "                if tag==False:\n",
    "                    start = i\n",
    "                    end = i+2\n",
    "                    tag = True\n",
    "                    res.append([start,end])\n",
    "                else:\n",
    "                    end = i+2\n",
    "                    res.pop()\n",
    "                    res.append([start,end])\n",
    "            elif got==True:\n",
    "                got = False\n",
    "                tag = False\n",
    "        \n",
    "        return res"
   ]
  },
  {
   "cell_type": "code",
   "execution_count": 599,
   "metadata": {},
   "outputs": [
    {
     "data": {
      "text/plain": [
       "[[3, 5], [6, 9], [12, 14]]"
      ]
     },
     "execution_count": 599,
     "metadata": {},
     "output_type": "execute_result"
    }
   ],
   "source": [
    "solution = Solution()\n",
    "solution.largeGroupPositions(\"abcdddeeeeaabbbcd\")"
   ]
  },
  {
   "cell_type": "code",
   "execution_count": 620,
   "metadata": {},
   "outputs": [],
   "source": [
    "class Solution:\n",
    "    def findRestaurant(self, list1, list2):\n",
    "        \"\"\"\n",
    "        :type list1: List[str]\n",
    "        :type list2: List[str]\n",
    "        :rtype: List[str]\n",
    "        \"\"\"\n",
    "        \n",
    "        ind1 = {}\n",
    "        for i,item in enumerate(list1):\n",
    "            ind1[item]=i\n",
    "        \n",
    "        ind2 = {}\n",
    "        for i,item in enumerate(list2):\n",
    "            ind2[item]=i\n",
    "            \n",
    "        all_items = list1\n",
    "        all_items.extend(list2)\n",
    "        \n",
    "        all_items = list(set(all_items))\n",
    "        \n",
    "        mn = 1000000\n",
    "        ans = []\n",
    "        ind_sum = {}\n",
    "        \n",
    "        for item in all_items:\n",
    "            if item in ind1 and item in ind2:\n",
    "                if(ind1[item]+ind2[item])<mn:\n",
    "                    mn = ind1[item]+ind2[item]\n",
    "                ind_sum[item]=ind1[item]+ind2[item]\n",
    "        \n",
    "        for item in ind_sum.keys():\n",
    "            if ind_sum[item]==mn:\n",
    "                ans.append(item)\n",
    "                \n",
    "        return ans"
   ]
  },
  {
   "cell_type": "code",
   "execution_count": 621,
   "metadata": {},
   "outputs": [
    {
     "data": {
      "text/plain": [
       "['Tapioca Express', 'KFC', 'Burger King', 'Shogun']"
      ]
     },
     "execution_count": 621,
     "metadata": {},
     "output_type": "execute_result"
    }
   ],
   "source": [
    "solution = Solution()\n",
    "solution.findRestaurant([\"Shogun\",\"Tapioca Express\",\"Burger King\",\"KFC\"],\n",
    "[\"KFC\",\"Burger King\",\"Tapioca Express\",\"Shogun\"])"
   ]
  }
 ],
 "metadata": {
  "kernelspec": {
   "display_name": "Python 3",
   "language": "python",
   "name": "python3"
  },
  "language_info": {
   "codemirror_mode": {
    "name": "ipython",
    "version": 3
   },
   "file_extension": ".py",
   "mimetype": "text/x-python",
   "name": "python",
   "nbconvert_exporter": "python",
   "pygments_lexer": "ipython3",
   "version": "3.6.4"
  }
 },
 "nbformat": 4,
 "nbformat_minor": 2
}
