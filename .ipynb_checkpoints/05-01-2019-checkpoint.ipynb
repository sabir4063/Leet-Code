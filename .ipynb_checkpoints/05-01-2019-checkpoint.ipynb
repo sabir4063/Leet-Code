{
 "cells": [
  {
   "cell_type": "code",
   "execution_count": 160,
   "metadata": {},
   "outputs": [],
   "source": [
    "class Solution(object):\n",
    "    def repeatedSubstringPattern(self, s):\n",
    "        \"\"\"\n",
    "        :type s: str\n",
    "        :rtype: bool\n",
    "        \"\"\"\n",
    "        \n",
    "        l = len(s)\n",
    "        i=0\n",
    "        \n",
    "        while(i<int(l/2)):\n",
    "            cnt = int(l/(i+1))\n",
    "            temp = s[0:i+1]*cnt\n",
    "            if temp==s:\n",
    "                return True\n",
    "            i+=1\n",
    "        \n",
    "        return False"
   ]
  },
  {
   "cell_type": "code",
   "execution_count": 164,
   "metadata": {},
   "outputs": [
    {
     "data": {
      "text/plain": [
       "False"
      ]
     },
     "execution_count": 164,
     "metadata": {},
     "output_type": "execute_result"
    }
   ],
   "source": [
    "solution = Solution()\n",
    "solution.repeatedSubstringPattern(\"abcdabc\")"
   ]
  },
  {
   "cell_type": "code",
   "execution_count": 188,
   "metadata": {},
   "outputs": [],
   "source": [
    "class Solution(object):\n",
    "    def removeDuplicates(self, nums):\n",
    "        \"\"\"\n",
    "        :type nums: List[int]\n",
    "        :rtype: int\n",
    "        \"\"\"\n",
    "        \n",
    "        if nums == []:\n",
    "            return 0\n",
    "        \n",
    "        prev = nums[0]\n",
    "        i = 1\n",
    "        N = len(nums)\n",
    "        \n",
    "        while(i<N):\n",
    "            if prev==nums[i]:\n",
    "                nums.pop(i)\n",
    "                N = len(nums)\n",
    "                i -= 1\n",
    "            else:\n",
    "                prev = nums[i]\n",
    "            i += 1\n",
    "            #print(nums)\n",
    "        \n",
    "        return len(nums)"
   ]
  },
  {
   "cell_type": "code",
   "execution_count": 190,
   "metadata": {},
   "outputs": [
    {
     "data": {
      "text/plain": [
       "0"
      ]
     },
     "execution_count": 190,
     "metadata": {},
     "output_type": "execute_result"
    }
   ],
   "source": [
    "solution = Solution()\n",
    "solution.removeDuplicates(nums = [],)"
   ]
  },
  {
   "cell_type": "code",
   "execution_count": 335,
   "metadata": {},
   "outputs": [],
   "source": [
    "class Solution(object):\n",
    "    def countAndSay(self, n):\n",
    "        \"\"\"\n",
    "        :type n: int\n",
    "        :rtype: str\n",
    "        \"\"\"\n",
    "        \n",
    "        if n==1: return \"1\"\n",
    "        \n",
    "        count = \"1\"\n",
    "        res = []\n",
    "        for i in range(1,n+1,1):\n",
    "            s = count[0]\n",
    "            d = []\n",
    "            cnt = 1\n",
    "            for j in range(1, len(count), 1):\n",
    "                #print(s)\n",
    "                if count[j-1]!=count[j]:\n",
    "                    d.append((s[0],cnt))\n",
    "                    s = count[j]\n",
    "                    cnt = 1\n",
    "                else:\n",
    "                    s = s + count[j]\n",
    "                    cnt += 1\n",
    "            \n",
    "            d.append((s[0],cnt))\n",
    "            #print(d)\n",
    "            count = ''\n",
    "            for k in d:\n",
    "                count = count + str(k[1]) + str(k[0]) \n",
    "                #print(count)\n",
    "                \n",
    "            #print(count)\n",
    "            res.append(count)\n",
    "            #print('res',res)\n",
    "            \n",
    "        return res[n-2] "
   ]
  },
  {
   "cell_type": "code",
   "execution_count": 337,
   "metadata": {},
   "outputs": [
    {
     "data": {
      "text/plain": [
       "'1113213211'"
      ]
     },
     "execution_count": 337,
     "metadata": {},
     "output_type": "execute_result"
    }
   ],
   "source": [
    "solution = Solution()\n",
    "solution.countAndSay(8)"
   ]
  },
  {
   "cell_type": "code",
   "execution_count": 396,
   "metadata": {},
   "outputs": [],
   "source": [
    "class Solution(object):\n",
    "    def findMaxAverage(self, nums, k):\n",
    "        \"\"\"\n",
    "        :type nums: List[int]\n",
    "        :type k: int\n",
    "        :rtype: float\n",
    "        \"\"\"\n",
    "        \n",
    "        if k==len(nums):\n",
    "            return sum(nums)/k\n",
    "        N = len(nums)\n",
    "        mx = min(nums)\n",
    "        add = []\n",
    "        a = 0\n",
    "        for j,i in enumerate(nums):\n",
    "            a = (a+i)\n",
    "            add.append(a)\n",
    "        \n",
    "        #print(add)\n",
    "        for i in range(0, N-k+1, 1):\n",
    "            #print(i,i+k)\n",
    "            if i-1<0:\n",
    "                av = (add[i+k-1])/k\n",
    "            else:\n",
    "                av = (add[i+k-1]-add[i-1])/k\n",
    "            mx = max(av,mx)\n",
    "            #print(av)\n",
    "            \n",
    "        return mx"
   ]
  },
  {
   "cell_type": "code",
   "execution_count": 397,
   "metadata": {},
   "outputs": [
    {
     "data": {
      "text/plain": [
       "2.0"
      ]
     },
     "execution_count": 397,
     "metadata": {},
     "output_type": "execute_result"
    }
   ],
   "source": [
    "solution = Solution()\n",
    "solution.findMaxAverage([0,1,1,3,3], k = 4)"
   ]
  },
  {
   "cell_type": "code",
   "execution_count": 398,
   "metadata": {},
   "outputs": [],
   "source": [
    "class Solution(object):\n",
    "    def arrangeCoins(self, n):\n",
    "        \"\"\"\n",
    "        :type n: int\n",
    "        :rtype: int\n",
    "        \"\"\"\n",
    "        \n",
    "        ans = (-1 + pow((1+8*n),0.5))/2\n",
    "        ans = int(ans)\n",
    "        \n",
    "        return ans"
   ]
  },
  {
   "cell_type": "code",
   "execution_count": 402,
   "metadata": {},
   "outputs": [
    {
     "data": {
      "text/plain": [
       "5"
      ]
     },
     "execution_count": 402,
     "metadata": {},
     "output_type": "execute_result"
    }
   ],
   "source": [
    "solution = Solution()\n",
    "solution.arrangeCoins(15)"
   ]
  },
  {
   "cell_type": "code",
   "execution_count": 432,
   "metadata": {},
   "outputs": [],
   "source": [
    "class Solution(object):\n",
    "    def trailingZeroes(self, n):\n",
    "        \"\"\"\n",
    "        :type n: int\n",
    "        :rtype: int\n",
    "        \"\"\"\n",
    "        \n",
    "        cnt = 0\n",
    "        i = n\n",
    "        while(i!=0):\n",
    "            cnt += int(i / 5)\n",
    "            i = i / 5\n",
    "\n",
    "        return int(cnt) "
   ]
  },
  {
   "cell_type": "code",
   "execution_count": 433,
   "metadata": {},
   "outputs": [
    {
     "data": {
      "text/plain": [
       "0"
      ]
     },
     "execution_count": 433,
     "metadata": {},
     "output_type": "execute_result"
    }
   ],
   "source": [
    "solution = Solution()\n",
    "solution.trailingZeroes(4)"
   ]
  },
  {
   "cell_type": "code",
   "execution_count": null,
   "metadata": {},
   "outputs": [],
   "source": [
    "class Solution:\n",
    "    def countSegments(self, s):\n",
    "        \"\"\"\n",
    "        :type s: str\n",
    "        :rtype: int\n",
    "        \"\"\"\n",
    "        \n",
    "        return len(s.split())"
   ]
  },
  {
   "cell_type": "code",
   "execution_count": null,
   "metadata": {},
   "outputs": [],
   "source": [
    "solution = Solution()\n",
    "solution.countSegments(\"\")"
   ]
  },
  {
   "cell_type": "code",
   "execution_count": 601,
   "metadata": {},
   "outputs": [],
   "source": [
    "class Solution:\n",
    "    def compress(self, chars):\n",
    "        \"\"\"\n",
    "        :type chars: List[str]\n",
    "        :rtype: int\n",
    "        \"\"\"\n",
    "        \n",
    "        ans = []\n",
    "        N = len(chars)\n",
    "        if N==1:\n",
    "            return 1\n",
    "        i = 0\n",
    "        \n",
    "        while(i<N):\n",
    "            pivot = chars[i]\n",
    "            #print(pivot)\n",
    "            j = i+1\n",
    "            count = 1\n",
    "            while(j<N):\n",
    "                if chars[i]==chars[j]:\n",
    "                    chars.pop(j)\n",
    "                    count += 1           \n",
    "                else:\n",
    "                    break\n",
    "                N = len(chars)\n",
    "            \n",
    "            #print('Count', count)\n",
    "            \n",
    "            if count>1:\n",
    "                k=0\n",
    "                count = str(count)\n",
    "                while k<len(count):\n",
    "                    chars.insert(i+1+k, count[k])\n",
    "                    k += 1\n",
    "                    j += 1\n",
    "            N = len(chars)\n",
    "            i = j\n",
    "        \n",
    "        #print(chars)\n",
    "        return len(chars)"
   ]
  },
  {
   "cell_type": "code",
   "execution_count": 602,
   "metadata": {},
   "outputs": [
    {
     "data": {
      "text/plain": [
       "4"
      ]
     },
     "execution_count": 602,
     "metadata": {},
     "output_type": "execute_result"
    }
   ],
   "source": [
    "solution = Solution()\n",
    "solution.compress([\"a\",\"c\",\"d\",\"d\",\"d\"])"
   ]
  },
  {
   "cell_type": "code",
   "execution_count": 630,
   "metadata": {},
   "outputs": [],
   "source": [
    "class Solution:\n",
    "    def isIsomorphic(self, s, t):\n",
    "        \"\"\"\n",
    "        :type s: str\n",
    "        :type t: str\n",
    "        :rtype: bool\n",
    "        \"\"\"\n",
    "        \n",
    "        if len(s)!=len(t): return False\n",
    "        d = {}\n",
    "        r = {}\n",
    "        for i in range(len(s)):\n",
    "            a = s[i]\n",
    "            b = t[i]\n",
    "            if a in d:\n",
    "                if b!=d[a] or a!=r[b]:\n",
    "                    return False\n",
    "            else:\n",
    "                if b in r:\n",
    "                    return False\n",
    "                d[a]=b\n",
    "                r[b]=a\n",
    "            #print(d)\n",
    "        return True"
   ]
  },
  {
   "cell_type": "code",
   "execution_count": 631,
   "metadata": {},
   "outputs": [
    {
     "data": {
      "text/plain": [
       "True"
      ]
     },
     "execution_count": 631,
     "metadata": {},
     "output_type": "execute_result"
    }
   ],
   "source": [
    "\n",
    "solution = Solution()\n",
    "solution.isIsomorphic(s = \"paper\", t = \"title\")"
   ]
  },
  {
   "cell_type": "code",
   "execution_count": 700,
   "metadata": {},
   "outputs": [],
   "source": [
    "class Solution:\n",
    "    def findAnagrams(self, s, p):\n",
    "        \"\"\"\n",
    "        :type s: str\n",
    "        :type p: str\n",
    "        :rtype: List[int]\n",
    "        \"\"\"\n",
    "        \n",
    "        n = len(p)\n",
    "        p = sorted(p)\n",
    "        N = len(s)\n",
    "        res = []\n",
    "        \n",
    "        d1 ={}\n",
    "        for c in p:\n",
    "            d1[c] = d1.get(c,0)+1\n",
    "        \n",
    "        d2 = {}\n",
    "        for c in s[0:n]:\n",
    "            d2[c] = d2.get(c,0)+1\n",
    "        \n",
    "        if d1==d2:\n",
    "            res.append(0)\n",
    "\n",
    "        for i in range(n+1,N+1,1):\n",
    "            c = s[i-1]\n",
    "            d = s[i-n-1]\n",
    "            temp = s[i-n:i]\n",
    "            #print(i,temp,c,d)\n",
    "            d2[c] = d2.get(c,0)+1\n",
    "            \n",
    "            if d in temp:\n",
    "                d2[d] = d2[d] - 1\n",
    "            else:\n",
    "                d2.pop(d,None)\n",
    "                    \n",
    "            #print(d1,d2)\n",
    "            if d1==d2:\n",
    "                res.append(i-n)\n",
    "            \n",
    "        return res"
   ]
  },
  {
   "cell_type": "code",
   "execution_count": 701,
   "metadata": {},
   "outputs": [
    {
     "data": {
      "text/plain": [
       "[0, 6]"
      ]
     },
     "execution_count": 701,
     "metadata": {},
     "output_type": "execute_result"
    }
   ],
   "source": [
    "solution = Solution()\n",
    "solution.findAnagrams(s= \"cbaebabacd\", p= \"abc\")"
   ]
  },
  {
   "cell_type": "code",
   "execution_count": 746,
   "metadata": {},
   "outputs": [],
   "source": [
    "class Solution:\n",
    "    def validMountainArray(self, A):\n",
    "        \"\"\"\n",
    "        :type A: List[int]\n",
    "        :rtype: bool\n",
    "        \"\"\"\n",
    "        \n",
    "        N = len(A)\n",
    "        if N<=2: return False\n",
    "        \n",
    "        mx = max(A)\n",
    "        ind = 0\n",
    "        left = 0\n",
    "        right = 0\n",
    "        for i in range(N):\n",
    "            if A[i]==mx:\n",
    "                ind = i\n",
    "                break\n",
    "            if i+1<N and A[i+1]<=A[i]:\n",
    "                return False\n",
    "            left += 1\n",
    "\n",
    "        for i in range(ind,N-1,1):\n",
    "            if i+1<N and A[i+1]>=A[i]:\n",
    "                return False\n",
    "            right+=1\n",
    "        \n",
    "        #print(left,right)\n",
    "        if left>0 and right>0 and left+right+1==N:\n",
    "            return True\n",
    "        return False"
   ]
  },
  {
   "cell_type": "code",
   "execution_count": 747,
   "metadata": {},
   "outputs": [
    {
     "name": "stdout",
     "output_type": "stream",
     "text": [
      "9 0\n"
     ]
    },
    {
     "data": {
      "text/plain": [
       "False"
      ]
     },
     "execution_count": 747,
     "metadata": {},
     "output_type": "execute_result"
    }
   ],
   "source": [
    "solution = Solution()\n",
    "solution.validMountainArray([0,1,2,3,4,5,6,7,8,9])"
   ]
  },
  {
   "cell_type": "code",
   "execution_count": 799,
   "metadata": {},
   "outputs": [],
   "source": [
    "class Solution:\n",
    "    def numMagicSquaresInside(self, grid):\n",
    "        \"\"\"\n",
    "        :type grid: List[List[int]]\n",
    "        :rtype: int\n",
    "        \"\"\"\n",
    "        \n",
    "        r = len(grid)\n",
    "        c = len(grid[0])\n",
    "        count = 0\n",
    "        \n",
    "        for i in range(1,r-1,1):\n",
    "            for j in range(1,c-1,1):\n",
    "                temp = []\n",
    "                tag = True\n",
    "                for x in [-1,0,1]:\n",
    "                    temp_temp = []\n",
    "                    for y in [-1,0,1]:\n",
    "                        temp_temp.append(grid[i+x][j+y])\n",
    "                    \n",
    "                    temp.append(temp_temp)\n",
    "                \n",
    "                print(temp)\n",
    "                save = {}\n",
    "                \n",
    "                for x in range(0,3,1):\n",
    "                    for y in range(0,3,1):\n",
    "                        d = temp[x][y]\n",
    "                        if d<1 or d >9:\n",
    "                            tag = False\n",
    "                            break\n",
    "                        if d in save:\n",
    "                            tag = False\n",
    "                            break\n",
    "                        save[d] = d\n",
    "                #print(tag)\n",
    "                for x in range(0,3,1):\n",
    "                    if sum(temp[x])!=15:\n",
    "                        tag = False\n",
    "                        break\n",
    "                #print(tag)\n",
    "                for x in range(3):\n",
    "                    if temp[0][x]+temp[1][x]+temp[2][x]!=15:\n",
    "                        tag = False\n",
    "                        break\n",
    "                #print(tag)\n",
    "                s = 0\n",
    "                for x in range(3):\n",
    "                    s = s + temp[x][x]\n",
    "                if s != 15:\n",
    "                    tag= False\n",
    "                #print(tag)\n",
    "                s = 0\n",
    "                for x in range(3):\n",
    "                    s = s + temp[x][2-x]\n",
    "                if s != 15:\n",
    "                    tag= False\n",
    "                #print(tag)\n",
    "                if tag == True:\n",
    "                    #print('hi')\n",
    "                    #print(temp)\n",
    "                    count += 1\n",
    "                    \n",
    "        return count"
   ]
  },
  {
   "cell_type": "code",
   "execution_count": 800,
   "metadata": {},
   "outputs": [
    {
     "name": "stdout",
     "output_type": "stream",
     "text": [
      "[[1, 8, 6], [10, 5, 0], [4, 2, 9]]\n"
     ]
    },
    {
     "data": {
      "text/plain": [
       "0"
      ]
     },
     "execution_count": 800,
     "metadata": {},
     "output_type": "execute_result"
    }
   ],
   "source": [
    "solution = Solution()\n",
    "solution.numMagicSquaresInside([[1,8,6],[10,5,0],[4,2,9]])"
   ]
  },
  {
   "cell_type": "code",
   "execution_count": 820,
   "metadata": {},
   "outputs": [],
   "source": [
    "class Solution:\n",
    "    def wordPattern(self, pattern, str):\n",
    "        \"\"\"\n",
    "        :type pattern: str\n",
    "        :type str: str\n",
    "        :rtype: bool\n",
    "        \"\"\"\n",
    "        \n",
    "        d = {}\n",
    "        r = {}\n",
    "        n = len(pattern)\n",
    "        str = str.split()\n",
    "        N = len(str)\n",
    "        #print(n,N)\n",
    "        if n!= N: return False\n",
    "        \n",
    "        for i,c in enumerate(pattern):\n",
    "            #print(c, str[i])\n",
    "            if c in d:\n",
    "                temp = d[c]\n",
    "                if temp!= str[i]:\n",
    "                    return False\n",
    "            else:\n",
    "                if str[i] in r:\n",
    "                    return False\n",
    "                d[c] = str[i]\n",
    "                r[str[i]] = c\n",
    "                \n",
    "        return True"
   ]
  },
  {
   "cell_type": "code",
   "execution_count": 821,
   "metadata": {},
   "outputs": [
    {
     "data": {
      "text/plain": [
       "True"
      ]
     },
     "execution_count": 821,
     "metadata": {},
     "output_type": "execute_result"
    }
   ],
   "source": [
    "solution = Solution()\n",
    "solution.wordPattern(pattern = \"abbd\", str = \"dog cat cat doog\")"
   ]
  },
  {
   "cell_type": "code",
   "execution_count": 862,
   "metadata": {},
   "outputs": [],
   "source": [
    "class Solution:\n",
    "    def merge(self, nums1, m, nums2, n):\n",
    "        \"\"\"\n",
    "        :type nums1: List[int]\n",
    "        :type m: int\n",
    "        :type nums2: List[int]\n",
    "        :type n: int\n",
    "        :rtype: void Do not return anything, modify nums1 in-place instead.\n",
    "        \"\"\"\n",
    "        \n",
    "        i = j = 0\n",
    "            \n",
    "        while(i < m and j < n):\n",
    "            if nums2[j]<=nums1[i]:\n",
    "                nums1.pop()\n",
    "                nums1.insert(i,nums2[j])\n",
    "                j+=1\n",
    "                i+=1\n",
    "                m+=1\n",
    "            else:\n",
    "                i+=1\n",
    "            #print(nums1,i)\n",
    "            \n",
    "        while(j<n):\n",
    "            nums1.pop()\n",
    "            nums1.insert(i,nums2[j])\n",
    "            i+=1\n",
    "            j+=1\n",
    "            \n",
    "        #print(nums1)"
   ]
  },
  {
   "cell_type": "code",
   "execution_count": 863,
   "metadata": {},
   "outputs": [
    {
     "name": "stdout",
     "output_type": "stream",
     "text": [
      "[1, 2, 2, 3, 5, 6]\n"
     ]
    }
   ],
   "source": [
    "solution = Solution()\n",
    "solution.merge(nums1 = [1,2,3,0,0,0], m = 3, nums2 = [2,5,6],       n = 3)"
   ]
  }
 ],
 "metadata": {
  "kernelspec": {
   "display_name": "Python 3",
   "language": "python",
   "name": "python3"
  },
  "language_info": {
   "codemirror_mode": {
    "name": "ipython",
    "version": 3
   },
   "file_extension": ".py",
   "mimetype": "text/x-python",
   "name": "python",
   "nbconvert_exporter": "python",
   "pygments_lexer": "ipython3",
   "version": "3.6.4"
  }
 },
 "nbformat": 4,
 "nbformat_minor": 2
}
