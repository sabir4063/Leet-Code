{
 "cells": [
  {
   "cell_type": "code",
   "execution_count": 18,
   "metadata": {},
   "outputs": [],
   "source": [
    "class Solution(object):\n",
    "    def shortestToChar(self, S, C):\n",
    "        \"\"\"\n",
    "        :type S: str\n",
    "        :type C: str\n",
    "        :rtype: List[int]\n",
    "        \"\"\"\n",
    "        dist = {}\n",
    "        min_d = {}\n",
    "        loc_c = []\n",
    "        \n",
    "        for i,s in enumerate(S):\n",
    "            min_d[i] = 10010\n",
    "            if s==C:\n",
    "                loc_c.append(i)\n",
    "\n",
    "        for i,s in enumerate(S):\n",
    "            for l in loc_c:\n",
    "                d = abs(i-l)\n",
    "                if min_d[i] > d:\n",
    "                    min_d[i] = d\n",
    "        ans = []\n",
    "        for k in min_d:\n",
    "            ans.append(min_d[k])\n",
    "        return ans"
   ]
  },
  {
   "cell_type": "code",
   "execution_count": 19,
   "metadata": {},
   "outputs": [
    {
     "data": {
      "text/plain": [
       "[3, 2, 1, 0, 1, 0, 0, 1, 2, 2, 1, 0]"
      ]
     },
     "execution_count": 19,
     "metadata": {},
     "output_type": "execute_result"
    }
   ],
   "source": [
    "solution = Solution()\n",
    "solution.shortestToChar( S = \"loveleetcode\", C = 'e')"
   ]
  },
  {
   "cell_type": "code",
   "execution_count": 57,
   "metadata": {},
   "outputs": [],
   "source": [
    "class Solution(object):\n",
    "    def findWords(self, words):\n",
    "        \"\"\"\n",
    "        :type words: List[str]\n",
    "        :rtype: List[str]\n",
    "        \"\"\"\n",
    "        maping = {}\n",
    "        row1 = 'qwertyuiop'\n",
    "        for c in row1:\n",
    "            maping[c]=1\n",
    "            \n",
    "        row2 = 'asdfghjkl'\n",
    "        for c in row2:\n",
    "            maping[c]=2\n",
    "        \n",
    "        row3 = 'zxcvbnm'\n",
    "        for c in row3:\n",
    "            maping[c]=3\n",
    "        \n",
    "        ans = []\n",
    "        \n",
    "        for word in words:\n",
    "            temp = word\n",
    "            word = word.lower()\n",
    "            f = maping[word[0]]\n",
    "            tag = 0\n",
    "            for c in word:\n",
    "                if maping[c]!=f:\n",
    "                    tag = 1\n",
    "                    break\n",
    "            if tag==0:\n",
    "                ans.append(temp)\n",
    "        return ans"
   ]
  },
  {
   "cell_type": "code",
   "execution_count": 58,
   "metadata": {},
   "outputs": [
    {
     "data": {
      "text/plain": [
       "['Alaska', 'Dad']"
      ]
     },
     "execution_count": 58,
     "metadata": {},
     "output_type": "execute_result"
    }
   ],
   "source": [
    "solution = Solution()\n",
    "solution.findWords([\"Hello\", \"Alaska\", \"Dad\", \"Peace\"])"
   ]
  },
  {
   "cell_type": "code",
   "execution_count": 75,
   "metadata": {},
   "outputs": [],
   "source": [
    "class Solution(object):\n",
    "    def uncommonFromSentences(self, A, B):\n",
    "        \"\"\"\n",
    "        :type A: str\n",
    "        :type B: str\n",
    "        :rtype: List[str]\n",
    "        \"\"\"\n",
    "        words_a = {}\n",
    "        words_b = {}\n",
    "        \n",
    "        for word in A.split():\n",
    "            if word in words_a:\n",
    "                words_a[word] = words_a[word] + 1\n",
    "            else:\n",
    "                words_a[word] = 1\n",
    "                \n",
    "        for word in B.split():\n",
    "            if word in words_b:\n",
    "                words_b[word] = words_b[word] + 1\n",
    "            else:\n",
    "                words_b[word] = 1\n",
    "        \n",
    "        all_can = []\n",
    "        all_can.append(list(set(words_a) - set(words_b)))\n",
    "        all_can.append(list(set(words_b) - set(words_a)))\n",
    "        \n",
    "        all_can = [item for sublist in all_can for item in sublist] \n",
    "        ans = []\n",
    "        \n",
    "        for w in all_can:\n",
    "            if w in words_a:\n",
    "                if words_a[w]==1:\n",
    "                    ans.append(w)\n",
    "            if w in words_b:\n",
    "                if words_b[w]==1:\n",
    "                    ans.append(w)\n",
    "                \n",
    "        return ans"
   ]
  },
  {
   "cell_type": "code",
   "execution_count": 77,
   "metadata": {},
   "outputs": [
    {
     "data": {
      "text/plain": [
       "['banana']"
      ]
     },
     "execution_count": 77,
     "metadata": {},
     "output_type": "execute_result"
    }
   ],
   "source": [
    "solution = Solution()\n",
    "solution.uncommonFromSentences(A = \"apple apple\", B = \"banana\")"
   ]
  },
  {
   "cell_type": "code",
   "execution_count": 169,
   "metadata": {},
   "outputs": [],
   "source": [
    "class Solution(object):\n",
    "    def customSortString(self, S, T):\n",
    "        \"\"\"\n",
    "        :type S: str\n",
    "        :type T: str\n",
    "        :rtype: str\n",
    "        \"\"\"\n",
    "        s = []\n",
    "        t = []\n",
    "        \n",
    "        for i,w in enumerate(S):\n",
    "            s.append(w)\n",
    "            \n",
    "        for i,w in enumerate(T):\n",
    "            t.append(w)\n",
    "        \n",
    "        cmn = ''.join(list(set(t).intersection(set(s))))\n",
    "        \n",
    "        diff = ''\n",
    "        temp = cmn\n",
    "        \n",
    "        for i,w in enumerate(T): \n",
    "            if w in cmn:\n",
    "                cmn = cmn.replace(w,'')\n",
    "            else:\n",
    "                diff = diff+w\n",
    "        \n",
    "        cmn = temp\n",
    "        ans = ''\n",
    "        for i,w in enumerate(S):\n",
    "            if w in cmn:\n",
    "                ans = ans + w\n",
    "        temp_ans = ans + diff\n",
    "        \n",
    "        print(cmn)\n",
    "        print(diff)\n",
    "        \n",
    "        ans = ''\n",
    "        for i,w in enumerate(S):\n",
    "            for j,x in enumerate(temp_ans):\n",
    "                if w==x:\n",
    "                    ans = ans + w\n",
    "\n",
    "        return ans + diff"
   ]
  },
  {
   "cell_type": "code",
   "execution_count": 170,
   "metadata": {},
   "outputs": [
    {
     "name": "stdout",
     "output_type": "stream",
     "text": [
      "pkqe\n",
      "e\n"
     ]
    },
    {
     "data": {
      "text/plain": [
       "'kqeepe'"
      ]
     },
     "execution_count": 170,
     "metadata": {},
     "output_type": "execute_result"
    }
   ],
   "source": [
    "solution = Solution()\n",
    "solution.customSortString(S = \"kqep\", T = \"pekeq\")"
   ]
  },
  {
   "cell_type": "code",
   "execution_count": 305,
   "metadata": {},
   "outputs": [],
   "source": [
    "class Solution(object):\n",
    "    def isToeplitzMatrix(self, matrix):\n",
    "        \"\"\"\n",
    "        :type matrix: List[List[int]]\n",
    "        :rtype: bool\n",
    "        \"\"\"\n",
    "        start = []\n",
    "        R = len(matrix)\n",
    "        C = len(matrix[0])\n",
    "        #print(R,C)\n",
    "        \n",
    "        for i in range(C):\n",
    "            #print(0,i)\n",
    "            start.append((0,i))\n",
    "        \n",
    "        for i in range(1,R,1):\n",
    "            #print(i,C-1)\n",
    "            start.append((i,C-1))\n",
    "        \n",
    "        #print(start)\n",
    "        \n",
    "        rev_matrx = [] \n",
    "        for row in matrix:\n",
    "            rev_matrx.append(row[::-1])\n",
    "        \n",
    "        for loc in start:\n",
    "            tag = 0\n",
    "            x = loc[0]\n",
    "            y = loc[1]\n",
    "            #print(\"S\" ,x,y)\n",
    "            data = []\n",
    "            while x<R and y>=0:\n",
    "                if x<R and y>=0:\n",
    "                    #print(x,y)\n",
    "                    t = rev_matrx[x]\n",
    "                    data.append(t[y])\n",
    "                    #print(t[y])\n",
    "                x = x + 1\n",
    "                y = y - 1\n",
    "            #print(data)\n",
    "            l = len(list(set(data)))\n",
    "            if l >1:\n",
    "                tag = 1\n",
    "                break\n",
    "        \n",
    "        if tag==1:   \n",
    "            return False\n",
    "        else:\n",
    "            return True"
   ]
  },
  {
   "cell_type": "code",
   "execution_count": 306,
   "metadata": {},
   "outputs": [
    {
     "data": {
      "text/plain": [
       "False"
      ]
     },
     "execution_count": 306,
     "metadata": {},
     "output_type": "execute_result"
    }
   ],
   "source": [
    "solution = Solution()\n",
    "solution.isToeplitzMatrix([[36,59,71,15,26,82,87],\n",
    "                           [56,36,59,71,15,26,82],\n",
    "                           [15,0,36,59,71,15,26]])"
   ]
  }
 ],
 "metadata": {
  "kernelspec": {
   "display_name": "Python 3",
   "language": "python",
   "name": "python3"
  },
  "language_info": {
   "codemirror_mode": {
    "name": "ipython",
    "version": 3
   },
   "file_extension": ".py",
   "mimetype": "text/x-python",
   "name": "python",
   "nbconvert_exporter": "python",
   "pygments_lexer": "ipython3",
   "version": "3.6.4"
  }
 },
 "nbformat": 4,
 "nbformat_minor": 2
}
