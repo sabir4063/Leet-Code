{
 "cells": [
  {
   "cell_type": "code",
   "execution_count": 92,
   "metadata": {},
   "outputs": [],
   "source": [
    "class Solution:\n",
    "\n",
    "    def countPrimeSetBits(self, L, R):\n",
    "        \"\"\"\n",
    "        :type L: int\n",
    "        :type R: int\n",
    "        :rtype: int\n",
    "        \"\"\"\n",
    "        res = 0\n",
    "        for i in range(L,R+1,1):\n",
    "            b = bin(i)\n",
    "            cnt = b.count('1')\n",
    "            if cnt==2 or cnt==3 or cnt==5 or cnt==7 or cnt==11 or \\\n",
    "               cnt==13 or cnt==17 or cnt==19:\n",
    "                res += 1\n",
    "                \n",
    "        return res"
   ]
  },
  {
   "cell_type": "code",
   "execution_count": 93,
   "metadata": {},
   "outputs": [
    {
     "data": {
      "text/plain": [
       "5"
      ]
     },
     "execution_count": 93,
     "metadata": {},
     "output_type": "execute_result"
    }
   ],
   "source": [
    "solution = Solution()\n",
    "solution.countPrimeSetBits( L = 10, R = 15)"
   ]
  },
  {
   "cell_type": "code",
   "execution_count": 117,
   "metadata": {},
   "outputs": [],
   "source": [
    "class Solution:\n",
    "    def toGoatLatin(self, S):\n",
    "        \"\"\"\n",
    "        :type S: str\n",
    "        :rtype: str\n",
    "        \"\"\"\n",
    "        res = ''\n",
    "        for i,w in enumerate(S.split()):\n",
    "            if w[0].lower()=='a' or w[0].lower()=='e' or w[0].lower()=='i' or w[0].lower()=='o' or w[0].lower()=='u':\n",
    "                res = res + w+'ma'+('a'*(i+1))\n",
    "            else:\n",
    "                res = res + w[1:]+w[0]+'ma'+('a'*(i+1))\n",
    "            res = res + ' '\n",
    "        return res.strip()"
   ]
  },
  {
   "cell_type": "code",
   "execution_count": 119,
   "metadata": {},
   "outputs": [
    {
     "data": {
      "text/plain": [
       "'heTmaa uickqmaaa rownbmaaaa oxfmaaaaa umpedjmaaaaaa overmaaaaaaa hetmaaaaaaaa azylmaaaaaaaaa ogdmaaaaaaaaaa'"
      ]
     },
     "execution_count": 119,
     "metadata": {},
     "output_type": "execute_result"
    }
   ],
   "source": [
    "solution = Solution()\n",
    "solution.toGoatLatin(\"The quick brown fox jumped over the lazy dog\")"
   ]
  },
  {
   "cell_type": "code",
   "execution_count": 122,
   "metadata": {},
   "outputs": [],
   "source": [
    "class Solution:\n",
    "    def canWinNim(self, n):\n",
    "        \"\"\"\n",
    "        :type n: int\n",
    "        :rtype: bool\n",
    "        \"\"\"\n",
    "        if n%4==0:\n",
    "            return False\n",
    "        else:\n",
    "            return True"
   ]
  },
  {
   "cell_type": "code",
   "execution_count": 124,
   "metadata": {},
   "outputs": [
    {
     "data": {
      "text/plain": [
       "True"
      ]
     },
     "execution_count": 124,
     "metadata": {},
     "output_type": "execute_result"
    }
   ],
   "source": [
    "solution = Solution()\n",
    "solution.canWinNim(5)"
   ]
  },
  {
   "cell_type": "code",
   "execution_count": 132,
   "metadata": {},
   "outputs": [],
   "source": [
    "class Solution:\n",
    "    def surfaceArea(self, grid):\n",
    "        \"\"\"\n",
    "        :type grid: List[List[int]]\n",
    "        :rtype: int\n",
    "        \"\"\"\n",
    "        r = len(grid)\n",
    "        c = len(grid[0])\n",
    "        \n",
    "        mxR = []\n",
    "        for row in grid:\n",
    "            mxR.append(max(row))\n",
    "        \n",
    "        trns_grid = map(list, zip(*grid))\n",
    "        mxC = []\n",
    "        for row in trns_grid:\n",
    "            mxC.append(max(row))\n",
    "        \n",
    "        print(mxR,mxC)\n",
    "        area = r*c\n",
    "        area = area + sum(mxR) + sum(mxC)\n",
    "        \n",
    "        return area*2"
   ]
  },
  {
   "cell_type": "code",
   "execution_count": 133,
   "metadata": {},
   "outputs": [
    {
     "name": "stdout",
     "output_type": "stream",
     "text": [
      "[1, 2] [1, 2]\n"
     ]
    },
    {
     "data": {
      "text/plain": [
       "20"
      ]
     },
     "execution_count": 133,
     "metadata": {},
     "output_type": "execute_result"
    }
   ],
   "source": [
    "solution = Solution()\n",
    "solution.surfaceArea([[1,0],[0,2]])"
   ]
  },
  {
   "cell_type": "code",
   "execution_count": 139,
   "metadata": {},
   "outputs": [],
   "source": [
    "class Solution:\n",
    "    def isMonotonic(self, A):\n",
    "        \"\"\"\n",
    "        :type A: List[int]\n",
    "        :rtype: bool\n",
    "        \"\"\"\n",
    "        seq = ''\n",
    "        tag = 0\n",
    "        for i in range(1,len(A),1):\n",
    "            if tag==0:\n",
    "                s = A[i]-A[i-1]\n",
    "                if s>0:\n",
    "                    seq='i'\n",
    "                    tag=1\n",
    "                elif s<0:\n",
    "                    seq='d'\n",
    "                    tag=1\n",
    "            else:\n",
    "                s = A[i]-A[i-1]\n",
    "                if s>0 and seq=='d':\n",
    "                    return False\n",
    "                elif s<0 and seq=='i':\n",
    "                    return False\n",
    "        return True"
   ]
  },
  {
   "cell_type": "code",
   "execution_count": 145,
   "metadata": {},
   "outputs": [
    {
     "data": {
      "text/plain": [
       "False"
      ]
     },
     "execution_count": 145,
     "metadata": {},
     "output_type": "execute_result"
    }
   ],
   "source": [
    "solution = Solution()\n",
    "solution.isMonotonic([1,3,2])"
   ]
  },
  {
   "cell_type": "code",
   "execution_count": 177,
   "metadata": {},
   "outputs": [],
   "source": [
    "class Solution:\n",
    "    def fairCandySwap(self, A, B):\n",
    "        \"\"\"\n",
    "        :type A: List[int]\n",
    "        :type B: List[int]\n",
    "        :rtype: List[int]\n",
    "        \"\"\"\n",
    "        inB= {}\n",
    "        for b in B:\n",
    "            inB[b]=True\n",
    "        sB=sum(B)\n",
    "        sA=sum(A)\n",
    "        \n",
    "        for a in A:\n",
    "            need = int((2*a + sB-sA)/2)\n",
    "            #print(need)\n",
    "            if need in inB:\n",
    "                return [a,need]"
   ]
  },
  {
   "cell_type": "code",
   "execution_count": 178,
   "metadata": {},
   "outputs": [
    {
     "data": {
      "text/plain": [
       "[2, 3]"
      ]
     },
     "execution_count": 178,
     "metadata": {},
     "output_type": "execute_result"
    }
   ],
   "source": [
    "solution = Solution()\n",
    "solution.fairCandySwap(A = [2], B = [1,3])"
   ]
  },
  {
   "cell_type": "code",
   "execution_count": 220,
   "metadata": {},
   "outputs": [],
   "source": [
    "import math \n",
    "\n",
    "class Solution:\n",
    "    def largestTriangleArea(self, points):\n",
    "        \"\"\"\n",
    "        :type points: List[List[int]]\n",
    "        :rtype: float\n",
    "        \"\"\"\n",
    "        def distance(p0, p1):\n",
    "            return math.sqrt((p0[0] - p1[0])**2 + (p0[1] - p1[1])**2)\n",
    "        \n",
    "        def area(a,b,c):\n",
    "            s = (a+b+c)/2\n",
    "            return (s*(s-a)*(s-b)*(s-c))\n",
    "        \n",
    "        mx = 0\n",
    "        for i in range(0,len(points)-2,1):\n",
    "            for j in range(i+1,len(points)-1,1):\n",
    "                for k in range(j+1,len(points),1):\n",
    "                    a = distance(points[i],points[j])\n",
    "                    b = distance(points[j],points[k])\n",
    "                    c = distance(points[k],points[i])\n",
    "                    ar = area(a,b,c)\n",
    "                    #print(a,b,c,ar)\n",
    "                    #print(points[i],points[j],points[k],ar)\n",
    "                    if ar > mx: \n",
    "                        mx = ar\n",
    "        \n",
    "        return math.sqrt(mx)"
   ]
  },
  {
   "cell_type": "code",
   "execution_count": 221,
   "metadata": {},
   "outputs": [
    {
     "data": {
      "text/plain": [
       "1799.0000000000005"
      ]
     },
     "execution_count": 221,
     "metadata": {},
     "output_type": "execute_result"
    }
   ],
   "source": [
    "solution = Solution()\n",
    "solution.largestTriangleArea(points = [[-35,19],[40,19],[27,-20],[35,-3],[44,20],[22,-21],[35,33],[-19,42],[11,47],[11,37]])"
   ]
  },
  {
   "cell_type": "code",
   "execution_count": 250,
   "metadata": {},
   "outputs": [],
   "source": [
    "class Solution:\n",
    "    def findMaxConsecutiveOnes(self, nums):\n",
    "        \"\"\"\n",
    "        :type nums: List[int]\n",
    "        :rtype: int\n",
    "        \"\"\"\n",
    "        cnt=0\n",
    "        mx = 0\n",
    "        \n",
    "        if nums[0]==1:\n",
    "            cnt = 1\n",
    "            if cnt > mx: mx=cnt\n",
    "        \n",
    "        for i in range(1,len(nums)):\n",
    "            if nums[i]==1 and nums[i]==nums[i-1]:\n",
    "                cnt += 1\n",
    "            elif nums[i]==1:\n",
    "                cnt=1\n",
    "            if cnt > mx: mx=cnt\n",
    "            #print(cnt)\n",
    "                \n",
    "        return mx    "
   ]
  },
  {
   "cell_type": "code",
   "execution_count": 251,
   "metadata": {},
   "outputs": [
    {
     "data": {
      "text/plain": [
       "1"
      ]
     },
     "execution_count": 251,
     "metadata": {},
     "output_type": "execute_result"
    }
   ],
   "source": [
    "solution = Solution()\n",
    "solution.findMaxConsecutiveOnes([1,0,0,0])"
   ]
  },
  {
   "cell_type": "code",
   "execution_count": 272,
   "metadata": {},
   "outputs": [],
   "source": [
    "class Solution:\n",
    "    def addDigits(self, num):\n",
    "        \"\"\"\n",
    "        :type num: int\n",
    "        :rtype: int\n",
    "        \"\"\"\n",
    "        def add_digit(strn):\n",
    "            cnt = 0\n",
    "            \n",
    "            for c in strn:\n",
    "                cnt = cnt + ord(c)-48\n",
    "            \n",
    "            return cnt\n",
    "        \n",
    "        strn = str(num)\n",
    "        while(len(strn)>1):\n",
    "            strn = str(add_digit(strn))\n",
    "            \n",
    "        return int(strn)"
   ]
  },
  {
   "cell_type": "code",
   "execution_count": 273,
   "metadata": {},
   "outputs": [
    {
     "data": {
      "text/plain": [
       "2"
      ]
     },
     "execution_count": 273,
     "metadata": {},
     "output_type": "execute_result"
    }
   ],
   "source": [
    "solution = Solution()\n",
    "solution.addDigits(38)"
   ]
  }
 ],
 "metadata": {
  "kernelspec": {
   "display_name": "Python 3",
   "language": "python",
   "name": "python3"
  },
  "language_info": {
   "codemirror_mode": {
    "name": "ipython",
    "version": 3
   },
   "file_extension": ".py",
   "mimetype": "text/x-python",
   "name": "python",
   "nbconvert_exporter": "python",
   "pygments_lexer": "ipython3",
   "version": "3.6.4"
  }
 },
 "nbformat": 4,
 "nbformat_minor": 2
}
