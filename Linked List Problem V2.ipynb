{
 "cells": [
  {
   "cell_type": "markdown",
   "metadata": {},
   "source": [
    "## Polynomial Addition\n",
    "Given two polynomial numbers represented by a linked list. The task is to complete the  function addPolynomial that adds these lists meaning adds the coefficients who have same variable powers."
   ]
  },
  {
   "cell_type": "markdown",
   "metadata": {},
   "source": [
    "## Rearrange a linked list\n",
    "Given a singly linked list, rearrange it in a way that all odd position nodes are together and all even positions node are together,"
   ]
  },
  {
   "cell_type": "markdown",
   "metadata": {},
   "source": [
    "## Modify Linked List-1\n",
    "Given a singly linked list containing n nodes. Modify the value of first half nodes such that 1st node’s new value is equal to the last node’s value minus first node’s current value, 2nd node’s new value is equal to the second last node’s value minus 2nd node’s current value, likewise for first half nodes. If n is odd then the value of the middle node remains unchanged.\n",
    "Note: Input in the linked list is like new node will be entered at the head position (1st position)."
   ]
  },
  {
   "cell_type": "markdown",
   "metadata": {},
   "source": [
    "## Move all zeros to the front of the linked list\n",
    "Given a linked list, the task is to move all 0’s to the front of the linked list. The order of all another element except 0 should be same after rearrangement."
   ]
  },
  {
   "cell_type": "markdown",
   "metadata": {},
   "source": [
    "## Reorder List\n",
    "Given a singly linked list: A0→A1→…→An-1→An,\n",
    "reorder it to: A0→An→A1→An-1→A2→An-2→…\n",
    "\n",
    "Given 1->2->3->4->5 its reorder is 1->5->2->4->3."
   ]
  },
  {
   "cell_type": "markdown",
   "metadata": {},
   "source": [
    "## Multiply two polynomials II\n",
    "Given two polynomials represented by two linkedlists that contains the coefficients of poynomials. Your task is to complete the method proOfPolynomials which takes four arguments:  the address of the head of the linked list1, the address of the head of the linked list2, size of linked list1 and size of linked list2. The function returns the head of a linked list formed after multiplication of given polynomials."
   ]
  },
  {
   "cell_type": "markdown",
   "metadata": {},
   "source": [
    "## Length of longest palindrome in linked list\n",
    "Given a linked list, the task is to complete the function maxPalindrome which returns an integer denoting  the length of the longest palindrome list that exist in the given linked list.\n",
    "\n",
    "Examples:\n",
    "\n",
    "Input  : List = 2->3->7->3->2->12->24\n",
    "Output : 5\n",
    "The longest palindrome list is 2->3->7->3->2\n",
    "\n",
    "Input  : List = 12->4->4->3->14\n",
    "Output : 2\n",
    "The longest palindrome list is 4->4"
   ]
  },
  {
   "cell_type": "markdown",
   "metadata": {},
   "source": [
    "## XOR Linked List\n",
    "An ordinary Doubly Linked List requires space for two address fields to store the addresses of previous and next nodes. A memory efficient version of Doubly Linked List can be created using only one space for address field with every node. This memory efficient Doubly Linked List is called XOR Linked List or Memory Efficient as the list uses bit-wise XOR operation to save space for one address.\n",
    "Given stream of data of size N for the linked list, your task is to complete the function insert() and printList(). The insert() function pushes (or inserts at beginning) the given data in the linked list and the printList() function prints the linked list first in forward direction and then in backward direction."
   ]
  },
  {
   "cell_type": "markdown",
   "metadata": {},
   "source": [
    "## Find length of Loop\n",
    "Given a linked list of size N. The task is to complete the function countNodesinLoop() that checks whether a given Linked List contains loop or not and if loop is present then return the count of nodes in loop or else return 0."
   ]
  },
  {
   "cell_type": "markdown",
   "metadata": {},
   "source": [
    "## Delete keys in a Linked list\n",
    "Given a single linked list and an integer x your task is to complete the function deleteAllOccurances  which deletes all occurences of a key x present in the linked list. The function takes two arguments: the head of the linked list and an integer x. The function should return the head of the modified linked list."
   ]
  },
  {
   "cell_type": "markdown",
   "metadata": {},
   "source": [
    "## Reverse a Linked List in groups of given size.\n",
    "Given a linked list, write a function to reverse every k nodes (where k is an input to the function).If a linked list is given as 1->2->3->4->5->6->7->8->NULL and k = 3 then output will be 3->2->1->6->5->4->8->7->NULL."
   ]
  },
  {
   "cell_type": "markdown",
   "metadata": {},
   "source": [
    "## Remove duplicate element from sorted Linked List\n",
    "Given a linked list of N nodes. The task is to remove duplicates from the given list (if exists).\n",
    "\n",
    "For example if the linked list is 11->11->11->21->43->43->60, then linked list should be converted to 11->21->43->60."
   ]
  },
  {
   "cell_type": "markdown",
   "metadata": {},
   "source": [
    "## Detect Loop in linked list\n",
    "Given a linked list of N nodes. The task is to check if the the linked list has a loop. Linked list can contain self loop."
   ]
  },
  {
   "cell_type": "markdown",
   "metadata": {},
   "source": [
    "## Absolute List Sorting\n",
    "Given a linked list L of N nodes, sorted in ascending order based on the absolute values of its data. Sort the linked list according to the actual values.\n",
    "Ex: Input : 1 -> -2 -> -3 -> 4 -> -5 \n",
    "      Output: -5 -> -3 -> -2 -> 1 -> 4"
   ]
  },
  {
   "cell_type": "markdown",
   "metadata": {},
   "source": [
    "## Finding middle element in a linked list\n",
    "Given a singly linked list of N nodes. The task is to find middle of the linked list. For example, if given linked list is 1->2->3->4->5 then output should be 3. \n",
    "\n",
    "If there are even nodes, then there would be two middle nodes, we need to print second middle element. For example, if given linked list is 1->2->3->4->5->6 then output should be 4."
   ]
  },
  {
   "cell_type": "markdown",
   "metadata": {},
   "source": [
    "## Segregate even and odd nodes in a Linked List\n",
    "Given a Linked List of integers, write a function to modify the linked list such that all even numbers appear before all the odd numbers in the modified linked list. Also, keep the order of even and odd numbers same."
   ]
  },
  {
   "cell_type": "markdown",
   "metadata": {},
   "source": [
    "## Remove loop in Linked List\n",
    "Given a linked list of N nodes. The task is to remove the loop in it if present."
   ]
  },
  {
   "cell_type": "markdown",
   "metadata": {},
   "source": [
    "## Split a Circular Linked List into two halves\n",
    "Given a Cirular Linked List split it into two halves circular lists. If there are odd number of nodes in the given circular linked list then out of the resulting two halved lists, first list should have one node more than the second list. The resultant lists should also be circular lists and not linear lists.\n"
   ]
  },
  {
   "cell_type": "markdown",
   "metadata": {},
   "source": [
    "## Reverse a linked list\n",
    "Given pointer to the head node of a linked list, the task is to reverse the linked list."
   ]
  },
  {
   "cell_type": "markdown",
   "metadata": {},
   "source": [
    "## Remove duplicates from an unsorted linked list\n",
    "Remove duplicates from an unsorted linked list"
   ]
  },
  {
   "cell_type": "markdown",
   "metadata": {},
   "source": [
    "## Intersection Point in Y Shapped Linked Lists\n",
    "There are two singly linked lists in a system. By some programming error the end node of one of the linked list got linked into the second list, forming a inverted Y shaped list. Write a program to get the point where two linked lists merge.\n",
    "\n",
    "Y ShapedLinked List\n",
    "Above diagram shows an example with two linked list having 15 as intersection point.\n",
    "Expected time complexity is O(m + n) where m and n are lengths of two linked lists"
   ]
  },
  {
   "cell_type": "markdown",
   "metadata": {},
   "source": [
    "## Implement Stack using Linked List\n",
    "Implement Stack using Linked List"
   ]
  },
  {
   "cell_type": "markdown",
   "metadata": {},
   "source": [
    "## Compare two linked lists\n",
    "Given two string, represented as linked lists (every character is a node in linked list). Write a function compare() that works similar to strcmp(), i.e., it returns 0 if both strings are same, 1 if first linked list is lexicographically greater, and -1 if second is lexicographically greater."
   ]
  },
  {
   "cell_type": "markdown",
   "metadata": {},
   "source": [
    "## Deletion and Reverse in Linked List\n",
    "Given a Circular Linked List of size N, your task is to delete the given node (excluding the first and last node) in circular linked list and then print the reverse of the circular linked list."
   ]
  },
  {
   "cell_type": "markdown",
   "metadata": {},
   "source": [
    "## Circular Linked List\n",
    "Given a singly linked list, find if the linked list is circular or not.  A linked list is called circular if it not NULL terminated and all nodes are connected in the form of a cycle.   An empty linked list is considered as circular.\n",
    "\n",
    "Note  that this problem is different from cycle detection problem, here all nodes have to be part of cycle."
   ]
  },
  {
   "cell_type": "markdown",
   "metadata": {},
   "source": [
    "## Delete Alternate Nodes\n",
    "Given a Singly Linked List of size N, your task is to complete the function deleteAlt(), which starting from the second node delete all alternate nodes of the list.\n",
    "\n",
    "For example:\n",
    "\n",
    "Input: 1->2->3->4->5\n",
    "Output: 1->3->5\n",
    "\n",
    "Input: 1->2->3->4\n",
    "Output: 1->3"
   ]
  },
  {
   "cell_type": "markdown",
   "metadata": {},
   "source": [
    "## Find the Sum of Last N nodes of the Linked List\n",
    "Given a single linked list of size M, your task is to complete the function sumOfLastN_Nodes(), which should return the sum of last N nodes of the linked list."
   ]
  },
  {
   "cell_type": "markdown",
   "metadata": {},
   "source": [
    "## Quick Sort on Linked List\n",
    "Quick Sort on Linked List"
   ]
  },
  {
   "cell_type": "markdown",
   "metadata": {},
   "source": [
    "## Reverse a Doubly Linked List\n",
    "Given a doubly linked list, the task is to Reverse the list. It should be done in-place without altering the nodes' values.\n",
    "\n",
    "In this function problem, the function reverse takes one argument: Address of the head of the linked list. The function should contain the logic to reverse the linked list.\n",
    "\n",
    "The linked list node structure has 3 fields, a data part which stores the data, a next pointer which points to the next element of the linked list and a previous pointer which points to the previous node of the linked list. \n",
    "\n",
    "There are multiple test cases. For each test case, this function will be called individually."
   ]
  },
  {
   "cell_type": "markdown",
   "metadata": {},
   "source": [
    "## linked list of strings forms a palindrome\n",
    "Given a linked list of strings having n nodes check to see whether the combined string formed is palindrome or not. "
   ]
  },
  {
   "cell_type": "markdown",
   "metadata": {},
   "source": [
    "## Occurence of an integer in a Linked List\n",
    "Given a singly linked list and a key, count number of occurrences of given key in linked list. For example, if given linked list is 1->2->1->2->1->3->1 and given key is 1, then output should be 4."
   ]
  },
  {
   "cell_type": "markdown",
   "metadata": {},
   "source": [
    "## Count Pairs whose sum is equal to X\n",
    "Count Pairs whose sum is equal to X"
   ]
  },
  {
   "cell_type": "code",
   "execution_count": null,
   "metadata": {},
   "outputs": [],
   "source": []
  },
  {
   "cell_type": "code",
   "execution_count": null,
   "metadata": {},
   "outputs": [],
   "source": []
  },
  {
   "cell_type": "code",
   "execution_count": null,
   "metadata": {},
   "outputs": [],
   "source": []
  },
  {
   "cell_type": "code",
   "execution_count": null,
   "metadata": {},
   "outputs": [],
   "source": []
  },
  {
   "cell_type": "code",
   "execution_count": null,
   "metadata": {},
   "outputs": [],
   "source": []
  },
  {
   "cell_type": "code",
   "execution_count": null,
   "metadata": {},
   "outputs": [],
   "source": []
  }
 ],
 "metadata": {
  "kernelspec": {
   "display_name": "Python 3",
   "language": "python",
   "name": "python3"
  },
  "language_info": {
   "codemirror_mode": {
    "name": "ipython",
    "version": 3
   },
   "file_extension": ".py",
   "mimetype": "text/x-python",
   "name": "python",
   "nbconvert_exporter": "python",
   "pygments_lexer": "ipython3",
   "version": "3.6.4"
  }
 },
 "nbformat": 4,
 "nbformat_minor": 2
}
