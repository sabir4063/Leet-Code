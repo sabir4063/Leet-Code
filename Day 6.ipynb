{
 "cells": [
  {
   "cell_type": "code",
   "execution_count": null,
   "metadata": {},
   "outputs": [],
   "source": [
    "class Solution(object):\n",
    "    def customSortString(self, S, T):\n",
    "        \"\"\"\n",
    "        :type S: str\n",
    "        :type T: str\n",
    "        :rtype: str\n",
    "        \"\"\"\n",
    "        s = []\n",
    "        t = []\n",
    "        \n",
    "        for i,w in enumerate(S):\n",
    "            s.append(w)\n",
    "            \n",
    "        for i,w in enumerate(T):\n",
    "            t.append(w)\n",
    "        \n",
    "        cmn = ''.join(list(set(t).intersection(set(s))))\n",
    "        \n",
    "        diff = ''\n",
    "        temp = cmn\n",
    "        \n",
    "        for i,w in enumerate(T): \n",
    "            if w in cmn:\n",
    "                cmn = cmn.replace(w,'')\n",
    "            else:\n",
    "                diff = diff+w\n",
    "        \n",
    "        cmn = temp\n",
    "        ans = ''\n",
    "        for i,w in enumerate(S):\n",
    "            if w in cmn:\n",
    "                ans = ans + w\n",
    "        temp_ans = ans + diff\n",
    "        \n",
    "        print(cmn)\n",
    "        print(diff)\n",
    "        \n",
    "        ans = ''\n",
    "        for i,w in enumerate(S):\n",
    "            for j,x in enumerate(temp_ans):\n",
    "                if w==x:\n",
    "                    ans = ans + w\n",
    "\n",
    "        return ans + diff"
   ]
  },
  {
   "cell_type": "code",
   "execution_count": null,
   "metadata": {},
   "outputs": [],
   "source": [
    "solution = Solution()\n",
    "solution.customSortString(S = \"kqep\", T = \"pekeq\")"
   ]
  },
  {
   "cell_type": "code",
   "execution_count": 54,
   "metadata": {},
   "outputs": [],
   "source": [
    "class Solution(object):\n",
    "    def calPoints(self, ops):\n",
    "        \"\"\"\n",
    "        :type ops: List[str]\n",
    "        :rtype: int\n",
    "        \"\"\"\n",
    "        res = 0\n",
    "        pnt = []\n",
    "\n",
    "        for p in ops:\n",
    "            if p.isdigit() or p.lstrip(\"-\").isdigit():\n",
    "                p = int(p)\n",
    "                res = res + p\n",
    "                pnt.append(p)\n",
    "                #print('DIGIT')\n",
    "                #print(p)\n",
    "            elif p=='+':\n",
    "                prev = pnt[-1]\n",
    "                if len(pnt)>1:\n",
    "                    prev_prev = pnt[-2]\n",
    "                else:\n",
    "                    prev_prev = 0\n",
    "                res = res + prev + prev_prev\n",
    "                pnt.append(prev + prev_prev)\n",
    "            elif p=='D':\n",
    "                prev = pnt[-1]\n",
    "                res = res + prev*2\n",
    "                pnt.append(prev*2)\n",
    "            else:\n",
    "                prev = pnt[-1]\n",
    "                res = res - prev\n",
    "                #print(prev)\n",
    "                pnt.remove(prev)\n",
    "            #print(pnt)\n",
    "            #print(res)\n",
    "        return res"
   ]
  },
  {
   "cell_type": "code",
   "execution_count": 55,
   "metadata": {},
   "outputs": [
    {
     "data": {
      "text/plain": [
       "27"
      ]
     },
     "execution_count": 55,
     "metadata": {},
     "output_type": "execute_result"
    }
   ],
   "source": [
    "solution = Solution()\n",
    "solution.calPoints([\"5\",\"-2\",\"4\",\"C\",\"D\",\"9\",\"+\",\"+\"])"
   ]
  }
 ],
 "metadata": {
  "kernelspec": {
   "display_name": "Python 3",
   "language": "python",
   "name": "python3"
  },
  "language_info": {
   "codemirror_mode": {
    "name": "ipython",
    "version": 3
   },
   "file_extension": ".py",
   "mimetype": "text/x-python",
   "name": "python",
   "nbconvert_exporter": "python",
   "pygments_lexer": "ipython3",
   "version": "3.6.4"
  }
 },
 "nbformat": 4,
 "nbformat_minor": 2
}
