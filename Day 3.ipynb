{
 "cells": [
  {
   "cell_type": "code",
   "execution_count": 46,
   "metadata": {},
   "outputs": [],
   "source": [
    "class Solution(object):\n",
    "    def selfDividingNumbers(self, left, right):\n",
    "        \"\"\"\n",
    "        :type left: int\n",
    "        :type right: int\n",
    "        :rtype: List[int]\n",
    "        \"\"\"\n",
    "        res = []\n",
    "        for n in range(left,right+1):\n",
    "            #print(n)\n",
    "            num = str(n)\n",
    "            tag = 0\n",
    "            for i,c in enumerate(num):\n",
    "                if c=='0':\n",
    "                    tag=1\n",
    "                    break\n",
    "                if n%int(c)!=0:\n",
    "                    tag=1\n",
    "                    break\n",
    "            if tag==0:\n",
    "                res.append(n)\n",
    "        #print(res)\n",
    "        return res"
   ]
  },
  {
   "cell_type": "code",
   "execution_count": 47,
   "metadata": {},
   "outputs": [
    {
     "data": {
      "text/plain": [
       "[1, 2, 3, 4, 5, 6, 7, 8, 9, 11, 12, 15, 22]"
      ]
     },
     "execution_count": 47,
     "metadata": {},
     "output_type": "execute_result"
    }
   ],
   "source": [
    "solution = Solution()\n",
    "solution.selfDividingNumbers(left = 1, right = 22)"
   ]
  },
  {
   "cell_type": "code",
   "execution_count": 63,
   "metadata": {},
   "outputs": [],
   "source": [
    "class Solution(object):\n",
    "    def projectionArea(self, grid):\n",
    "        \"\"\"\n",
    "        :type grid: List[List[int]]\n",
    "        :rtype: int\n",
    "        \"\"\"\n",
    "        h_max = []\n",
    "        count = 0\n",
    "        \n",
    "        for i,a in enumerate(grid):\n",
    "            for j,b in enumerate(grid[i]):\n",
    "                if b!=0:\n",
    "                    count +=1 \n",
    "        \n",
    "        for i,a in enumerate(grid):\n",
    "            h_max.append(max(grid[i])) \n",
    "        \n",
    "        v_max = []\n",
    "        grid_t = list(map(list, zip(*grid)))\n",
    "        \n",
    "        for i,a in enumerate(grid_t):\n",
    "            v_max.append(max(grid_t[i]))\n",
    "        \n",
    "        res = sum(v_max)+sum(h_max)+count\n",
    "        return res "
   ]
  },
  {
   "cell_type": "code",
   "execution_count": 64,
   "metadata": {},
   "outputs": [
    {
     "data": {
      "text/plain": [
       "17"
      ]
     },
     "execution_count": 64,
     "metadata": {},
     "output_type": "execute_result"
    }
   ],
   "source": [
    "solution = Solution()\n",
    "solution.projectionArea([[1,2],[3,4]])"
   ]
  },
  {
   "cell_type": "code",
   "execution_count": 98,
   "metadata": {},
   "outputs": [],
   "source": [
    "class Solution(object):\n",
    "    def complexNumberMultiply(self, a, b):\n",
    "        \"\"\"\n",
    "        :type a: str\n",
    "        :type b: str\n",
    "        :rtype: str\n",
    "        \"\"\"\n",
    "        \n",
    "        x1,y1 = a.split('+')\n",
    "        y1 = y1[:-1]\n",
    "        x2,y2 = b.split('+')\n",
    "        y2 = y2[:-1]\n",
    "        \n",
    "        x1=int(x1)\n",
    "        y1=int(y1)\n",
    "        x2=int(x2)\n",
    "        y2=int(y2)\n",
    "        \n",
    "        x1x2 = x1*x2\n",
    "        x1y1 = x1*y2\n",
    "        y1x2 = y1*x2\n",
    "        y1y2 = y1*y2\n",
    "        \n",
    "        rel = x1x2-y1y2\n",
    "        cmp = x1y1+y1x2\n",
    "        \n",
    "        #print(x1,x2,y1,y2)\n",
    "        #print(rel,cmp)\n",
    "        \n",
    "        return str(rel)+\"+\"+str(cmp)+\"i\""
   ]
  },
  {
   "cell_type": "code",
   "execution_count": 97,
   "metadata": {},
   "outputs": [
    {
     "name": "stdout",
     "output_type": "stream",
     "text": [
      "1 0 -1 0\n",
      "0 0\n"
     ]
    },
    {
     "data": {
      "text/plain": [
       "'0+0i'"
      ]
     },
     "execution_count": 97,
     "metadata": {},
     "output_type": "execute_result"
    }
   ],
   "source": [
    "solution = Solution()\n",
    "solution.complexNumberMultiply(\"1+-1i\",\"0+0i\")"
   ]
  },
  {
   "cell_type": "code",
   "execution_count": 100,
   "metadata": {},
   "outputs": [],
   "source": [
    "class Solution(object):\n",
    "    def transpose(self, A):\n",
    "        \"\"\"\n",
    "        :type A: List[List[int]]\n",
    "        :rtype: List[List[int]]\n",
    "        \"\"\"\n",
    "        grid_t = list(map(list, zip(*A)))\n",
    "        \n",
    "        return grid_t"
   ]
  },
  {
   "cell_type": "code",
   "execution_count": 101,
   "metadata": {},
   "outputs": [
    {
     "data": {
      "text/plain": [
       "[[1, 4, 7], [2, 5, 8], [3, 6, 9]]"
      ]
     },
     "execution_count": 101,
     "metadata": {},
     "output_type": "execute_result"
    }
   ],
   "source": [
    "solution = Solution()\n",
    "solution.transpose([[1,2,3],[4,5,6],[7,8,9]])"
   ]
  },
  {
   "cell_type": "code",
   "execution_count": 130,
   "metadata": {},
   "outputs": [],
   "source": [
    "class Solution(object):\n",
    "    def reverseWords(self, S):\n",
    "        \"\"\"\n",
    "        :type S: str\n",
    "        :rtype: str\n",
    "        \"\"\"\n",
    "        res = ''\n",
    "        only_ltr = ''\n",
    "        \n",
    "        for i,c in enumerate(S):\n",
    "            if (c>='a' and c<='z') or (c>='A' and c<='Z'):\n",
    "                only_ltr = only_ltr + c\n",
    "        \n",
    "        j = len(only_ltr)-1\n",
    "        #print(only_ltr)\n",
    "        \n",
    "        for i,c in enumerate(S):\n",
    "            if (c>='a' and c<='z') or (c>='A' and c<='Z'):\n",
    "                res = res + only_ltr[j]\n",
    "                j = j-1\n",
    "            else:\n",
    "                res = res + c\n",
    "        return res"
   ]
  },
  {
   "cell_type": "code",
   "execution_count": 131,
   "metadata": {},
   "outputs": [
    {
     "data": {
      "text/plain": [
       "'Qedo1ct-eeLg=ntse-T!'"
      ]
     },
     "execution_count": 131,
     "metadata": {},
     "output_type": "execute_result"
    }
   ],
   "source": [
    "solution = Solution()\n",
    "solution.reverseOnlyLetters(\"Test1ng-Leet=code-Q!\")"
   ]
  }
 ],
 "metadata": {
  "kernelspec": {
   "display_name": "Python 3",
   "language": "python",
   "name": "python3"
  },
  "language_info": {
   "codemirror_mode": {
    "name": "ipython",
    "version": 3
   },
   "file_extension": ".py",
   "mimetype": "text/x-python",
   "name": "python",
   "nbconvert_exporter": "python",
   "pygments_lexer": "ipython3",
   "version": "3.6.4"
  }
 },
 "nbformat": 4,
 "nbformat_minor": 2
}
