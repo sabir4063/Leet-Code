{
 "cells": [
  {
   "cell_type": "code",
   "execution_count": 16,
   "metadata": {},
   "outputs": [],
   "source": [
    "class Solution(object):\n",
    "    def numUniqueEmails(self, emails):\n",
    "        \"\"\"\n",
    "        :type emails: List[str]\n",
    "        :rtype: int\n",
    "        \"\"\"\n",
    "        names = []\n",
    "        domains = []\n",
    "        res = {}\n",
    "        \n",
    "        for email in emails:\n",
    "            name = email.split('@')[0]\n",
    "            domain = email.split('@')[1]\n",
    "            name = name.replace('.','')\n",
    "            name = name.split('+')[0]\n",
    "            \n",
    "            full_name = name+'@'+domain\n",
    "            \n",
    "            res[full_name] = res.get(full_name, 0) + 1\n",
    "            \n",
    "        return len(res)"
   ]
  },
  {
   "cell_type": "code",
   "execution_count": 17,
   "metadata": {},
   "outputs": [
    {
     "data": {
      "text/plain": [
       "2"
      ]
     },
     "execution_count": 17,
     "metadata": {},
     "output_type": "execute_result"
    }
   ],
   "source": [
    "solution = Solution()\n",
    "solution.numUniqueEmails([\"test.email+alex@leetcode.com\",\"test.e.mail+bob.cathy@leetcode.com\",\"testemail+david@lee.tcode.com\"])"
   ]
  },
  {
   "cell_type": "code",
   "execution_count": 52,
   "metadata": {},
   "outputs": [],
   "source": [
    "class Solution(object):\n",
    "    def minDeletionSize(self, A):\n",
    "        \"\"\"\n",
    "        :type A: List[str]\n",
    "        :rtype: int\n",
    "        \"\"\"\n",
    "        A_t = [*map(list, zip(*A))]\n",
    "        #print(A_t)\n",
    "        res = []\n",
    "        for j,a in enumerate(A_t):\n",
    "            p = a[0]\n",
    "            for i,c in enumerate(a[1:]):\n",
    "                if c<p:\n",
    "                    #print(p,c)\n",
    "                    res.append(j)\n",
    "                    break\n",
    "                p=c\n",
    "                    \n",
    "        return (len(res))"
   ]
  },
  {
   "cell_type": "code",
   "execution_count": 53,
   "metadata": {},
   "outputs": [
    {
     "data": {
      "text/plain": [
       "1"
      ]
     },
     "execution_count": 53,
     "metadata": {},
     "output_type": "execute_result"
    }
   ],
   "source": [
    "solution = Solution()\n",
    "#solution.minDeletionSize([\"zyx\",\"wvu\",\"tsr\"])\n",
    "solution.minDeletionSize([\"cba\",\"daf\",\"ghi\"])\n",
    "#solution.minDeletionSize([\"a\",\"b\"])"
   ]
  },
  {
   "cell_type": "code",
   "execution_count": 68,
   "metadata": {},
   "outputs": [],
   "source": [
    "class Solution:\n",
    "    def diStringMatch(self, S):\n",
    "        \"\"\"\n",
    "        :type S: str\n",
    "        :rtype: List[int]\n",
    "        \"\"\"\n",
    "        hi = len(S)\n",
    "        lo = 1        \n",
    "        res = [0]\n",
    "\n",
    "        for i,c in enumerate(S):\n",
    "            if c=='I':\n",
    "                res.append(lo)\n",
    "                lo += 1\n",
    "            else:\n",
    "                res.append(hi)\n",
    "                hi -= 1\n",
    "            print(c,res)\n",
    "        return res"
   ]
  },
  {
   "cell_type": "code",
   "execution_count": 70,
   "metadata": {},
   "outputs": [
    {
     "name": "stdout",
     "output_type": "stream",
     "text": [
      "I [0, 1]\n",
      "D [0, 1, 4]\n",
      "I [0, 1, 4, 2]\n",
      "D [0, 1, 4, 2, 3]\n"
     ]
    },
    {
     "data": {
      "text/plain": [
       "[0, 1, 4, 2, 3]"
      ]
     },
     "execution_count": 70,
     "metadata": {},
     "output_type": "execute_result"
    }
   ],
   "source": [
    "solution = Solution()\n",
    "solution.diStringMatch(\"IDID\")"
   ]
  },
  {
   "cell_type": "code",
   "execution_count": 34,
   "metadata": {},
   "outputs": [],
   "source": [
    "class Solution:\n",
    "    def sortArrayByParityII(self, A):\n",
    "        \"\"\"\n",
    "        :type A: List[int]\n",
    "        :rtype: List[int]\n",
    "        \"\"\"\n",
    "        O = []\n",
    "        E = []\n",
    "        \n",
    "        for a in A:\n",
    "            if a%2==0:\n",
    "                E.append(a)\n",
    "            else:\n",
    "                O.append(a)\n",
    "        \n",
    "        res = []\n",
    "        n = int(len(A)/2)\n",
    "        \n",
    "        for i in range(n):\n",
    "            res.append(E[i])\n",
    "            res.append(O[i])\n",
    "            \n",
    "        return res"
   ]
  },
  {
   "cell_type": "code",
   "execution_count": 35,
   "metadata": {},
   "outputs": [
    {
     "data": {
      "text/plain": [
       "[4, 5, 2, 7]"
      ]
     },
     "execution_count": 35,
     "metadata": {},
     "output_type": "execute_result"
    }
   ],
   "source": [
    "solution = Solution()\n",
    "solution.sortArrayByParityII([4,2,5,7])"
   ]
  },
  {
   "cell_type": "code",
   "execution_count": 52,
   "metadata": {},
   "outputs": [],
   "source": [
    "class Solution:\n",
    "    def smallestRangeI(self, A, K):\n",
    "        \"\"\"\n",
    "        :type A: List[int]\n",
    "        :type K: int\n",
    "        :rtype: int\n",
    "        \"\"\"\n",
    "        mn = min(A)\n",
    "        mx = max(A)\n",
    "        \n",
    "        mnmx = mn+K\n",
    "        mxmn = mx-K\n",
    "        print(mnmx, mxmn)\n",
    "        if mnmx>=mxmn:\n",
    "            return 0\n",
    "        else:\n",
    "            return mxmn-mnmx"
   ]
  },
  {
   "cell_type": "code",
   "execution_count": 54,
   "metadata": {},
   "outputs": [
    {
     "name": "stdout",
     "output_type": "stream",
     "text": [
      "4 3\n"
     ]
    },
    {
     "data": {
      "text/plain": [
       "0"
      ]
     },
     "execution_count": 54,
     "metadata": {},
     "output_type": "execute_result"
    }
   ],
   "source": [
    "solution = Solution()\n",
    "solution.smallestRangeI(A = [1,3,6], K = 3)"
   ]
  },
  {
   "cell_type": "code",
   "execution_count": 200,
   "metadata": {},
   "outputs": [],
   "source": [
    "class Solution:\n",
    "    def numSpecialEquivGroups(self, A):\n",
    "        \"\"\"\n",
    "        :type A: List[str]\n",
    "        :rtype: int\n",
    "        \"\"\"\n",
    "        def do_swap(S):\n",
    "            s = ''\n",
    "            t = ''\n",
    "\n",
    "            for i,c in enumerate(S):\n",
    "                if i%2==0:\n",
    "                    s=s+c\n",
    "            \n",
    "            s = ''.join(sorted(s))\n",
    "            \n",
    "            for i,c in enumerate(S):\n",
    "                if i%2!=0:\n",
    "                    t=t+c\n",
    "                    \n",
    "            t = ''.join(sorted(t))\n",
    "            res = s\n",
    "            res = res+t \n",
    "\n",
    "            return res\n",
    "            \n",
    "        #print(type(A))\n",
    "        r = []\n",
    "        for i,S in enumerate(A):\n",
    "            r.append(do_swap(S))\n",
    "\n",
    "        return len(list(set(r)))"
   ]
  },
  {
   "cell_type": "code",
   "execution_count": 201,
   "metadata": {},
   "outputs": [
    {
     "data": {
      "text/plain": [
       "6"
      ]
     },
     "execution_count": 201,
     "metadata": {},
     "output_type": "execute_result"
    }
   ],
   "source": [
    "solution = Solution()\n",
    "#solution.numSpecialEquivGroups([\"abc\",\"acb\",\"bac\",\"bca\",\"cab\",\"cba\"])\n",
    "solution.numSpecialEquivGroups([\"n\",\"j\",\"v\",\"r\",\"s\",\"l\",\"r\",\"r\",\"r\",\"r\",\"r\",\"j\",\"v\",\"r\",\"v\",\"r\",\"r\",\"r\",\"r\",\"l\",\"r\",\"v\",\"r\",\"l\",\"j\",\"v\",\"l\",\"r\",\"l\",\"v\",\"v\",\"r\",\"v\",\"v\",\"r\",\"l\",\"r\",\"l\",\"r\",\"l\",\"v\",\"n\",\"v\",\"r\",\"n\",\"r\",\"v\",\"n\",\"r\",\"r\"])"
   ]
  },
  {
   "cell_type": "code",
   "execution_count": 220,
   "metadata": {},
   "outputs": [],
   "source": [
    "class Solution:\n",
    "    def isAlienSorted(self, words, order):\n",
    "        \"\"\"\n",
    "        :type words: List[str]\n",
    "        :type order: str\n",
    "        :rtype: bool\n",
    "        \"\"\"\n",
    "        d = {}\n",
    "        for i,o in enumerate(order):\n",
    "            d[o] = chr(ord('a')+i)\n",
    "            \n",
    "        temp_words = []\n",
    "        for word in words:\n",
    "            s = ''\n",
    "            for c in word:\n",
    "                s=s+d[c]\n",
    "            temp_words.append(s)\n",
    "            \n",
    "        sorted_words = sorted(temp_words)\n",
    "        \n",
    "        for i,word in enumerate(sorted_words):\n",
    "            if sorted_words[i]!=temp_words[i]:\n",
    "                return False\n",
    "        return True"
   ]
  },
  {
   "cell_type": "code",
   "execution_count": 222,
   "metadata": {},
   "outputs": [
    {
     "data": {
      "text/plain": [
       "True"
      ]
     },
     "execution_count": 222,
     "metadata": {},
     "output_type": "execute_result"
    }
   ],
   "source": [
    "solution = Solution()\n",
    "#solution.isAlienSorted(words = [\"word\",\"world\",\"row\"], order = \"worldabcefghijkmnpqstuvxyz\")\n",
    "solution.isAlienSorted(words = [\"hello\",\"leetcode\"], order = \"hlabcdefgijkmnopqrstuvwxyz\")"
   ]
  },
  {
   "cell_type": "code",
   "execution_count": 265,
   "metadata": {},
   "outputs": [],
   "source": [
    "class Solution:\n",
    "    def binaryGap(self, N):\n",
    "        \"\"\"\n",
    "        :type N: int\n",
    "        :rtype: int\n",
    "        \"\"\"\n",
    "        def to_binary(n):\n",
    "            bin_num=''\n",
    "            while n:\n",
    "                m=n%2\n",
    "                r=int(n/2)\n",
    "                n=r\n",
    "                bin_num=bin_num+str(m)\n",
    "                \n",
    "            bin_num = bin_num[::-1]\n",
    "            return bin_num\n",
    "            \n",
    "        bin_num = to_binary(N)\n",
    "        \n",
    "        f=0\n",
    "        for i,c in enumerate(bin_num):\n",
    "            if c=='1': \n",
    "                f=i\n",
    "                break\n",
    "        \n",
    "        m = 0\n",
    "        for i in range(f,len(bin_num),1):\n",
    "            if bin_num[i]=='1':\n",
    "                diff = i-f\n",
    "                if diff>m: m=diff\n",
    "                f=i\n",
    "        return m"
   ]
  },
  {
   "cell_type": "code",
   "execution_count": 268,
   "metadata": {},
   "outputs": [
    {
     "data": {
      "text/plain": [
       "1"
      ]
     },
     "execution_count": 268,
     "metadata": {},
     "output_type": "execute_result"
    }
   ],
   "source": [
    "solution = Solution()\n",
    "#solution.binaryGap(5)\n",
    "solution.binaryGap(6)"
   ]
  },
  {
   "cell_type": "code",
   "execution_count": 275,
   "metadata": {},
   "outputs": [],
   "source": [
    "class Solution:\n",
    "    def nextGreaterElement(self, nums1, nums2):\n",
    "        \"\"\"\n",
    "        :type nums1: List[int]\n",
    "        :type nums2: List[int]\n",
    "        :rtype: List[int]\n",
    "        \"\"\"\n",
    "        pos = {}\n",
    "        for i,n in enumerate(nums2):\n",
    "            pos[n]=i\n",
    "        \n",
    "        res = []\n",
    "        for n in nums1:\n",
    "            p = pos[n]\n",
    "            tag = 0\n",
    "            for i in range(p,len(nums2),1):\n",
    "                if nums2[i]>n:\n",
    "                    tag = 1\n",
    "                    res.append(nums2[i])\n",
    "                    break\n",
    "            if tag==0:\n",
    "                res.append(-1)\n",
    "        return res"
   ]
  },
  {
   "cell_type": "code",
   "execution_count": 277,
   "metadata": {},
   "outputs": [
    {
     "data": {
      "text/plain": [
       "[3, -1]"
      ]
     },
     "execution_count": 277,
     "metadata": {},
     "output_type": "execute_result"
    }
   ],
   "source": [
    "solution = Solution()\n",
    "solution.nextGreaterElement(nums1 = [2,4], nums2 = [1,2,3,4])\n",
    "#solution.nextGreaterElement(nums1 = [4,1,2], nums2 = [1,3,4,2])"
   ]
  },
  {
   "cell_type": "code",
   "execution_count": 280,
   "metadata": {},
   "outputs": [],
   "source": [
    "class Solution:\n",
    "    def hasAlternatingBits(self, n):\n",
    "        \"\"\"\n",
    "        :type n: int\n",
    "        :rtype: bool\n",
    "        \"\"\"\n",
    "        def to_bin(n):\n",
    "            bin_num=''\n",
    "            while n:\n",
    "                m=n%2\n",
    "                r=int(n/2)\n",
    "                n=r\n",
    "                bin_num=bin_num+str(m)\n",
    "                \n",
    "            bin_num = bin_num[::-1]\n",
    "            return bin_num\n",
    "        \n",
    "        bin_num = to_bin(n)\n",
    "        \n",
    "        for i in range(len(bin_num)-1):\n",
    "            if bin_num[i]==bin_num[i+1]:\n",
    "                return False\n",
    "        return True"
   ]
  },
  {
   "cell_type": "code",
   "execution_count": 282,
   "metadata": {},
   "outputs": [
    {
     "data": {
      "text/plain": [
       "False"
      ]
     },
     "execution_count": 282,
     "metadata": {},
     "output_type": "execute_result"
    }
   ],
   "source": [
    "solution = Solution()\n",
    "#solution.hasAlternatingBits(5)\n",
    "solution.hasAlternatingBits(7)"
   ]
  }
 ],
 "metadata": {
  "kernelspec": {
   "display_name": "Python 3",
   "language": "python",
   "name": "python3"
  },
  "language_info": {
   "codemirror_mode": {
    "name": "ipython",
    "version": 3
   },
   "file_extension": ".py",
   "mimetype": "text/x-python",
   "name": "python",
   "nbconvert_exporter": "python",
   "pygments_lexer": "ipython3",
   "version": "3.6.4"
  }
 },
 "nbformat": 4,
 "nbformat_minor": 2
}
