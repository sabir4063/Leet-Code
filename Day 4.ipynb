{
 "cells": [
  {
   "cell_type": "code",
   "execution_count": 6,
   "metadata": {},
   "outputs": [],
   "source": [
    "# Definition for singly-linked list.\n",
    "# class ListNode(object):\n",
    "#     def __init__(self, x):\n",
    "#         self.val = x\n",
    "#         self.next = None\n",
    "\n",
    "class Solution(object):\n",
    "    def middleNode(self, head):\n",
    "        \"\"\"\n",
    "        :type head: ListNode\n",
    "        :rtype: ListNode\n",
    "        \"\"\"\n",
    "        \n",
    "        current = head\n",
    "        a_list = []\n",
    "        print(current.val)\n",
    "        \n",
    "        while current != None:\n",
    "            a_list.append(current.val)\n",
    "            print(current.val)\n",
    "            current = current.next\n",
    "            if current != None:\n",
    "                print(current.val)\n",
    "            \n",
    "        l = len(a_list)+1\n",
    "        print(a_list)\n",
    "        return a_list[l/2]\n",
    "        "
   ]
  },
  {
   "cell_type": "code",
   "execution_count": null,
   "metadata": {},
   "outputs": [],
   "source": [
    "solution = Solution()\n",
    "solution.middleNode([1,2,3,4,5])"
   ]
  },
  {
   "cell_type": "code",
   "execution_count": 26,
   "metadata": {},
   "outputs": [],
   "source": [
    "class Solution(object):\n",
    "    def numberOfLines(self, widths, S):\n",
    "        \"\"\"\n",
    "        :type widths: List[int]\n",
    "        :type S: str\n",
    "        :rtype: List[int]\n",
    "        \"\"\"\n",
    "        count = 0\n",
    "        line = 1\n",
    "        w_dict = {}\n",
    "        c = 'a'\n",
    "        for w in widths:\n",
    "            w_dict[c] = w\n",
    "            c = chr(ord(c) + 1) \n",
    "        \n",
    "        for i,s in enumerate(S):\n",
    "            w = w_dict[s]\n",
    "            count = count + w\n",
    "            if count > 100:\n",
    "                line = line + 1\n",
    "                count = w\n",
    "        \n",
    "        return [line, count]"
   ]
  },
  {
   "cell_type": "code",
   "execution_count": 27,
   "metadata": {},
   "outputs": [
    {
     "data": {
      "text/plain": [
       "[3, 60]"
      ]
     },
     "execution_count": 27,
     "metadata": {},
     "output_type": "execute_result"
    }
   ],
   "source": [
    "solution = Solution()\n",
    "solution.numberOfLines(widths = [10,10,10,10,10,10,10,10,10,10,10,10,10,10,10,10,10,10,10,10,10,10,10,10,10,10],\n",
    "S = \"abcdefghijklmnopqrstuvwxyz\")"
   ]
  },
  {
   "cell_type": "code",
   "execution_count": 47,
   "metadata": {},
   "outputs": [],
   "source": [
    "def to_reverse(s):\n",
    "    rev = ''\n",
    "    for i in reversed(s):\n",
    "        rev = rev + i\n",
    "    return rev\n",
    "class Solution(object):\n",
    "    def reverseWords(self, s):\n",
    "        \"\"\"\n",
    "        :type s: str\n",
    "        :rtype: str\n",
    "        \"\"\"\n",
    "        ans = ''\n",
    "        for w in s.split():\n",
    "            ans = ans + \" \" +to_reverse(w)\n",
    "        \n",
    "        return ans[1:]"
   ]
  },
  {
   "cell_type": "code",
   "execution_count": 48,
   "metadata": {},
   "outputs": [
    {
     "data": {
      "text/plain": [
       "\"s'teL ekat edoCteeL tsetnoc\""
      ]
     },
     "execution_count": 48,
     "metadata": {},
     "output_type": "execute_result"
    }
   ],
   "source": [
    "solution = Solution()\n",
    "solution.reverseWords(\"Let's take LeetCode contest\")"
   ]
  },
  {
   "cell_type": "code",
   "execution_count": 104,
   "metadata": {},
   "outputs": [],
   "source": [
    "class Solution(object):\n",
    "    def reverseString(self, s):\n",
    "        \"\"\"\n",
    "        :type s: str\n",
    "        :rtype: str\n",
    "        \"\"\"\n",
    "        rev = list(s)\n",
    "        lnt = len(s)-1\n",
    "        l = lnt\n",
    "        \n",
    "        for i,c in enumerate(s):\n",
    "            if i==int(lnt/2+1):\n",
    "                break\n",
    "            b = s[l]\n",
    "            rev[i] = b\n",
    "            rev[l] = c\n",
    "            l = l-1\n",
    "            \n",
    "        return \"\".join(rev)"
   ]
  },
  {
   "cell_type": "code",
   "execution_count": 105,
   "metadata": {},
   "outputs": [
    {
     "data": {
      "text/plain": [
       "'amanaP :lanac a ,nalp a ,nam A'"
      ]
     },
     "execution_count": 105,
     "metadata": {},
     "output_type": "execute_result"
    }
   ],
   "source": [
    "solution = Solution()\n",
    "solution.reverseString(\"A man, a plan, a canal: Panama\")"
   ]
  },
  {
   "cell_type": "code",
   "execution_count": 184,
   "metadata": {},
   "outputs": [],
   "source": [
    "class Solution(object):\n",
    "    def findComplement(self, num):\n",
    "        \"\"\"\n",
    "        :type num: int\n",
    "        :rtype: int\n",
    "        \"\"\"\n",
    "        b = ''\n",
    "        while num>0:\n",
    "            if num%2==0:\n",
    "                b = '1' + b \n",
    "            else:\n",
    "                b = '0' + b\n",
    "            num = int(num /2)\n",
    "        \n",
    "        b = b.lstrip('0')\n",
    "        d = 0\n",
    "        l = len(b)-1\n",
    "        \n",
    "        for c in b:\n",
    "            if c == '1':\n",
    "                d = d + pow(2,l)\n",
    "            l = l -1\n",
    "        \n",
    "        return d"
   ]
  },
  {
   "cell_type": "code",
   "execution_count": 187,
   "metadata": {},
   "outputs": [
    {
     "data": {
      "text/plain": [
       "3"
      ]
     },
     "execution_count": 187,
     "metadata": {},
     "output_type": "execute_result"
    }
   ],
   "source": [
    "solution = Solution()\n",
    "solution.findComplement(4)"
   ]
  },
  {
   "cell_type": "code",
   "execution_count": 212,
   "metadata": {},
   "outputs": [],
   "source": [
    "class Solution(object):\n",
    "    def subdomainVisits(self, cpdomains):\n",
    "        \"\"\"\n",
    "        :type cpdomains: List[str]\n",
    "        :rtype: List[str]\n",
    "        \"\"\"\n",
    "        sub_domain = {}\n",
    "        for domain in cpdomains:\n",
    "            cnt,name = domain.split()\n",
    "            sub = ''\n",
    "            cnt = int(cnt)\n",
    "            print(name)\n",
    "            for c in name[::-1]:\n",
    "                if c=='.': \n",
    "                    print(sub)\n",
    "                    if sub in sub_domain:\n",
    "                        sub_domain[sub] = sub_domain[sub] + cnt\n",
    "                    else:\n",
    "                        sub_domain[sub] = cnt\n",
    "                sub = c + sub\n",
    "            if sub in sub_domain:\n",
    "                sub_domain[sub] = sub_domain[sub] + cnt\n",
    "            else:\n",
    "                sub_domain[sub] = cnt\n",
    "        \n",
    "        ans = []\n",
    "        \n",
    "        for k in sub_domain.keys():\n",
    "            v = sub_domain[k]\n",
    "            ans.append((str(v) + \" \" + str(k)))\n",
    "        \n",
    "        return ans"
   ]
  },
  {
   "cell_type": "code",
   "execution_count": 213,
   "metadata": {},
   "outputs": [
    {
     "name": "stdout",
     "output_type": "stream",
     "text": [
      "google.mail.com\n",
      "com\n",
      "mail.com\n",
      "yahoo.com\n",
      "com\n",
      "intel.mail.com\n",
      "com\n",
      "mail.com\n",
      "wiki.org\n",
      "org\n"
     ]
    },
    {
     "data": {
      "text/plain": [
       "['951 com',\n",
       " '901 mail.com',\n",
       " '900 google.mail.com',\n",
       " '50 yahoo.com',\n",
       " '1 intel.mail.com',\n",
       " '5 org',\n",
       " '5 wiki.org']"
      ]
     },
     "execution_count": 213,
     "metadata": {},
     "output_type": "execute_result"
    }
   ],
   "source": [
    "solution = Solution()\n",
    "solution.subdomainVisits([\"900 google.mail.com\", \"50 yahoo.com\", \"1 intel.mail.com\", \"5 wiki.org\"])"
   ]
  },
  {
   "cell_type": "code",
   "execution_count": 225,
   "metadata": {},
   "outputs": [],
   "source": [
    "class Solution(object):\n",
    "    def sortColors(self, nums):\n",
    "        \"\"\"\n",
    "        :type nums: List[int]\n",
    "        :rtype: void Do not return anything, modify nums in-place instead.\n",
    "        \"\"\"\n",
    "        l = len(nums)-1\n",
    "        \n",
    "        for i,n in enumerate(nums):\n",
    "            if i==int(l/2):\n",
    "                break\n",
    "            t = nums[l]\n",
    "            if n==2 and t==0:\n",
    "                tmp = nums[l]\n",
    "                nums[l]=nums[i]\n",
    "                nums[i]=tmp\n",
    "            if n==2 and t==1:\n",
    "                tmp = nums[l]\n",
    "                nums[l]=nums[i]\n",
    "                nums[i]=tmp\n",
    "            \n",
    "        print(nums)"
   ]
  },
  {
   "cell_type": "code",
   "execution_count": 226,
   "metadata": {},
   "outputs": [
    {
     "name": "stdout",
     "output_type": "stream",
     "text": [
      "[0, 0, 2, 1, 1, 2]\n"
     ]
    }
   ],
   "source": [
    "solution = Solution()\n",
    "solution.sortColors([2,0,2,1,1,0])"
   ]
  }
 ],
 "metadata": {
  "kernelspec": {
   "display_name": "Python 3",
   "language": "python",
   "name": "python3"
  },
  "language_info": {
   "codemirror_mode": {
    "name": "ipython",
    "version": 3
   },
   "file_extension": ".py",
   "mimetype": "text/x-python",
   "name": "python",
   "nbconvert_exporter": "python",
   "pygments_lexer": "ipython3",
   "version": "3.6.4"
  }
 },
 "nbformat": 4,
 "nbformat_minor": 2
}
