{
 "cells": [
  {
   "cell_type": "code",
   "execution_count": 27,
   "metadata": {},
   "outputs": [],
   "source": [
    "class Solution(object):\n",
    "    def islandPerimeter(self, grid):\n",
    "        \"\"\"\n",
    "        :type grid: List[List[int]]\n",
    "        :rtype: int\n",
    "        \"\"\"\n",
    "        cnt = 0\n",
    "        for rows in grid:\n",
    "            prev = 0\n",
    "            for r in rows:\n",
    "                if r==1:\n",
    "                    if prev==0:\n",
    "                        cnt = cnt + 1\n",
    "                prev = r\n",
    "                \n",
    "        for rows in grid:\n",
    "            prev = 0\n",
    "            for r in rows[::-1]:\n",
    "                if r==1:\n",
    "                    if prev==0:\n",
    "                        cnt = cnt + 1\n",
    "                prev = r\n",
    "                \n",
    "        t_grid = list(map(list, zip(*grid)))\n",
    "        \n",
    "        for rows in t_grid:\n",
    "            prev = 0\n",
    "            for r in rows:\n",
    "                if r==1:\n",
    "                    if prev==0:\n",
    "                        cnt = cnt + 1\n",
    "                prev = r\n",
    "                \n",
    "        for rows in t_grid:\n",
    "            prev = 0\n",
    "            for r in rows[::-1]:\n",
    "                if r==1:\n",
    "                    if prev==0:\n",
    "                        cnt = cnt + 1\n",
    "                prev = r\n",
    "                \n",
    "        return cnt"
   ]
  },
  {
   "cell_type": "code",
   "execution_count": 28,
   "metadata": {},
   "outputs": [
    {
     "data": {
      "text/plain": [
       "16"
      ]
     },
     "execution_count": 28,
     "metadata": {},
     "output_type": "execute_result"
    }
   ],
   "source": [
    "solution = Solution()\n",
    "solution.islandPerimeter(\n",
    "[[0,1,0,0],\n",
    " [1,1,1,0],\n",
    " [0,1,0,0],\n",
    " [1,1,0,0]])"
   ]
  }
 ],
 "metadata": {
  "kernelspec": {
   "display_name": "Python 3",
   "language": "python",
   "name": "python3"
  },
  "language_info": {
   "codemirror_mode": {
    "name": "ipython",
    "version": 3
   },
   "file_extension": ".py",
   "mimetype": "text/x-python",
   "name": "python",
   "nbconvert_exporter": "python",
   "pygments_lexer": "ipython3",
   "version": "3.6.4"
  }
 },
 "nbformat": 4,
 "nbformat_minor": 2
}
