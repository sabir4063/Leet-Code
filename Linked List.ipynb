{
 "cells": [
  {
   "cell_type": "code",
   "execution_count": 51,
   "metadata": {},
   "outputs": [],
   "source": [
    "class Node(object):\n",
    "    \n",
    "    def __init__(self,value):\n",
    "        \n",
    "        self.value = value\n",
    "        self.next = None"
   ]
  },
  {
   "cell_type": "code",
   "execution_count": 52,
   "metadata": {},
   "outputs": [],
   "source": [
    "def print_value(head):\n",
    "\n",
    "    curr = head\n",
    "    while(curr != None):\n",
    "        \n",
    "        print(curr.value)\n",
    "        curr = curr.next"
   ]
  },
  {
   "cell_type": "code",
   "execution_count": 55,
   "metadata": {},
   "outputs": [],
   "source": [
    "def print_reverse(head):\n",
    "    \n",
    "    curr = head\n",
    "    previous = None\n",
    "    next_node = None\n",
    "    \n",
    "    while(curr != None):\n",
    "        next_node = curr.next\n",
    "        curr.next = previous\n",
    "        previous = curr\n",
    "        curr = next_node\n",
    "        \n",
    "    return previous"
   ]
  },
  {
   "cell_type": "code",
   "execution_count": 203,
   "metadata": {},
   "outputs": [
    {
     "name": "stdout",
     "output_type": "stream",
     "text": [
      "0\n",
      "1\n",
      "2\n",
      "3\n",
      "4\n",
      "4\n",
      "3\n",
      "2\n",
      "1\n",
      "0\n"
     ]
    }
   ],
   "source": [
    "head = Node(0)\n",
    "current = head\n",
    "\n",
    "for i in range(1,5,1):\n",
    "    \n",
    "    temp = Node(i)\n",
    "    current.next = temp\n",
    "    current = temp\n",
    "    \n",
    "print_value(head)\n",
    "print_value(print_reverse(head))"
   ]
  },
  {
   "cell_type": "code",
   "execution_count": 204,
   "metadata": {},
   "outputs": [
    {
     "name": "stdout",
     "output_type": "stream",
     "text": [
      "0\n",
      "1\n",
      "2\n",
      "3\n",
      "4\n",
      "5\n",
      "6\n",
      "7\n",
      "1\n",
      "2\n",
      "1\n",
      "2\n",
      "3\n",
      "4\n",
      "5\n",
      "6\n",
      "7\n",
      "8\n"
     ]
    }
   ],
   "source": [
    "head = Node(0)\n",
    "current = head\n",
    "\n",
    "for i in range(1,8):\n",
    "    temp = Node(i)\n",
    "    current.next = temp\n",
    "    current = temp\n",
    "for i in range(1,3):\n",
    "    temp = Node(i)\n",
    "    current.next = temp\n",
    "    current = temp\n",
    "for i in range(1,9):\n",
    "    temp = Node(i)\n",
    "    current.next = temp\n",
    "    current = temp\n",
    "print_value(head)  "
   ]
  },
  {
   "cell_type": "code",
   "execution_count": 205,
   "metadata": {},
   "outputs": [],
   "source": [
    "def delete_duplicate(head):\n",
    "    \n",
    "    current = head\n",
    "    temp = None\n",
    "    \n",
    "    while(current):\n",
    "        value = current.value\n",
    "        temp = current.next\n",
    "        prev = current\n",
    "        if temp==None: break\n",
    "        #print(value, temp.value)\n",
    "        while(temp):\n",
    "            #print('---------', temp.value, value)\n",
    "            if temp.value == value:\n",
    "                #print('here')\n",
    "                #print(value)\n",
    "                prev.next = temp.next\n",
    "                #prev = temp.next\n",
    "            else:\n",
    "                prev = temp\n",
    "            temp = temp.next\n",
    "            #print('------------')\n",
    "        current = current.next\n"
   ]
  },
  {
   "cell_type": "code",
   "execution_count": null,
   "metadata": {},
   "outputs": [],
   "source": [
    "delete_duplicate(head)"
   ]
  },
  {
   "cell_type": "code",
   "execution_count": 207,
   "metadata": {},
   "outputs": [
    {
     "name": "stdout",
     "output_type": "stream",
     "text": [
      "0\n",
      "1\n",
      "2\n",
      "3\n",
      "4\n",
      "5\n",
      "6\n",
      "7\n",
      "8\n"
     ]
    }
   ],
   "source": [
    "print_value(head)"
   ]
  },
  {
   "cell_type": "code",
   "execution_count": null,
   "metadata": {},
   "outputs": [],
   "source": [
    "def split_data(head, value):\n",
    "    \n",
    "    left = None\n",
    "    l_head =None\n",
    "    right = None\n",
    "    r_head = None\n",
    "\n",
    "    current = head\n",
    "    \n",
    "    while(current):\n",
    "    \n",
    "        if current.value > value:\n",
    "            if r_head == None:\n",
    "                r_head = current\n",
    "                r_head.next = None\n",
    "            right = r_head\n",
    "            right.next = current\n",
    "            right = current\n",
    "        else:\n",
    "            "
   ]
  },
  {
   "cell_type": "code",
   "execution_count": 226,
   "metadata": {},
   "outputs": [
    {
     "name": "stdout",
     "output_type": "stream",
     "text": [
      "7\n",
      "1\n",
      "6\n",
      "5\n",
      "9\n",
      "2\n"
     ]
    }
   ],
   "source": [
    "current1 = Node(6)\n",
    "b = Node(1)\n",
    "c = Node(7)\n",
    "current1.next = b\n",
    "b.next = c\n",
    "#print_value(current1)\n",
    "current1 = print_reverse(current1)\n",
    "print_value(current1)\n",
    "\n",
    "current2 = Node(2)\n",
    "b = Node(9)\n",
    "c = Node(5)\n",
    "current2.next = b\n",
    "b.next = c\n",
    "#print_value(current2)\n",
    "current2 = print_reverse(current2)\n",
    "print_value(current2)"
   ]
  },
  {
   "cell_type": "code",
   "execution_count": 227,
   "metadata": {},
   "outputs": [],
   "source": [
    "def add(current1, current2):\n",
    "    res_head = None\n",
    "    res = None\n",
    "    c = 0\n",
    "    \n",
    "    while(current1):\n",
    "        a = current1.value\n",
    "        b = current2.value\n",
    "        print(a,b)\n",
    "        s = a + b +c\n",
    "        if s>10:\n",
    "            c = 1\n",
    "            s = s%10\n",
    "        \n",
    "        if res_head == None:\n",
    "            res_head = Node(s)\n",
    "            res = res_head\n",
    "        else:\n",
    "            temp = Node(s)\n",
    "            res.next = temp\n",
    "            res = temp\n",
    "            \n",
    "        current1 = current1.next\n",
    "        current2 = current2.next\n",
    "\n",
    "    return res_head"
   ]
  },
  {
   "cell_type": "code",
   "execution_count": 229,
   "metadata": {},
   "outputs": [
    {
     "name": "stdout",
     "output_type": "stream",
     "text": [
      "7 5\n",
      "1 9\n",
      "6 2\n",
      "9\n",
      "1\n",
      "2\n"
     ]
    }
   ],
   "source": [
    "head = add(current1,current2)\n",
    "head = print_reverse(head)\n",
    "print_value(head)"
   ]
  },
  {
   "cell_type": "code",
   "execution_count": null,
   "metadata": {},
   "outputs": [],
   "source": []
  }
 ],
 "metadata": {
  "kernelspec": {
   "display_name": "Python 3",
   "language": "python",
   "name": "python3"
  },
  "language_info": {
   "codemirror_mode": {
    "name": "ipython",
    "version": 3
   },
   "file_extension": ".py",
   "mimetype": "text/x-python",
   "name": "python",
   "nbconvert_exporter": "python",
   "pygments_lexer": "ipython3",
   "version": "3.6.4"
  }
 },
 "nbformat": 4,
 "nbformat_minor": 2
}
