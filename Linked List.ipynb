{
 "cells": [
  {
   "cell_type": "code",
   "execution_count": null,
   "metadata": {},
   "outputs": [],
   "source": [
    "class LinkedListNode(object):\n",
    "    \n",
    "    def __init__(self,value):\n",
    "        \n",
    "        self.value = value\n",
    "        self.nextnode = None"
   ]
  },
  {
   "cell_type": "code",
   "execution_count": null,
   "metadata": {},
   "outputs": [],
   "source": [
    "def print_value(head):\n",
    "\n",
    "    curr = head\n",
    "    while(curr != None):\n",
    "        \n",
    "        print(curr.value)\n",
    "        curr = curr.nextnode"
   ]
  },
  {
   "cell_type": "code",
   "execution_count": 24,
   "metadata": {},
   "outputs": [],
   "source": [
    "def print_reverse(head):\n",
    "    \n",
    "    curr = head\n",
    "    previous = None\n",
    "    next_node = None\n",
    "    \n",
    "    while(curr != None):\n",
    "        next_node = curr.nextnode\n",
    "        curr.nextnode = previous\n",
    "        previous = curr\n",
    "        curr = next_node\n",
    "        \n",
    "    return previous"
   ]
  },
  {
   "cell_type": "code",
   "execution_count": 25,
   "metadata": {},
   "outputs": [
    {
     "name": "stdout",
     "output_type": "stream",
     "text": [
      "0\n",
      "0\n",
      "1\n",
      "2\n",
      "3\n",
      "4\n",
      "4\n",
      "3\n",
      "2\n",
      "1\n",
      "0\n",
      "0\n"
     ]
    }
   ],
   "source": [
    "head = LinkedListNode(0)\n",
    "current = head\n",
    "\n",
    "for i in range(5):\n",
    "    \n",
    "    temp = LinkedListNode(i)\n",
    "    current.nextnode = temp\n",
    "    current = temp\n",
    "    \n",
    "print_value(head)\n",
    "print_value(print_reverse(head))"
   ]
  }
 ],
 "metadata": {
  "kernelspec": {
   "display_name": "Python 3",
   "language": "python",
   "name": "python3"
  },
  "language_info": {
   "codemirror_mode": {
    "name": "ipython",
    "version": 3
   },
   "file_extension": ".py",
   "mimetype": "text/x-python",
   "name": "python",
   "nbconvert_exporter": "python",
   "pygments_lexer": "ipython3",
   "version": "3.6.4"
  }
 },
 "nbformat": 4,
 "nbformat_minor": 2
}
