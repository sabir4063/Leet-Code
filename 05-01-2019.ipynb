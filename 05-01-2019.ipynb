{
 "cells": [
  {
   "cell_type": "code",
   "execution_count": 67,
   "metadata": {},
   "outputs": [],
   "source": [
    "class Solution(object):\n",
    "    def maxDistToClosest(self, seats):\n",
    "        \"\"\"\n",
    "        :type seats: List[int]\n",
    "        :rtype: int\n",
    "        \"\"\"\n",
    "        \n",
    "        ind = -1\n",
    "        mx = 0\n",
    "        left = -1\n",
    "        \n",
    "        if sum(seats)==1:\n",
    "            ind = seats.index(1)\n",
    "            if ind-0>len(seats)-1-ind:\n",
    "                return ind-0\n",
    "            else:\n",
    "                return len(seats)-1-ind\n",
    "            \n",
    "        for i,n in enumerate(seats):\n",
    "            if n==1:\n",
    "                if left==-1:\n",
    "                    left = i\n",
    "                else:\n",
    "                    dist = i - left\n",
    "                    if dist > mx:\n",
    "                        mx = dist\n",
    "                        if (i-left-1)%2==0:\n",
    "                            ind = i - int((i+left)/2)-1\n",
    "                        else:\n",
    "                            ind = i - int((i+left)/2)\n",
    "                    left = i\n",
    "        return ind"
   ]
  },
  {
   "cell_type": "code",
   "execution_count": 68,
   "metadata": {},
   "outputs": [
    {
     "data": {
      "text/plain": [
       "1"
      ]
     },
     "execution_count": 68,
     "metadata": {},
     "output_type": "execute_result"
    }
   ],
   "source": [
    "solution = Solution()\n",
    "solution.maxDistToClosest([0,0,1,0,1,1])"
   ]
  }
 ],
 "metadata": {
  "kernelspec": {
   "display_name": "Python 3",
   "language": "python",
   "name": "python3"
  },
  "language_info": {
   "codemirror_mode": {
    "name": "ipython",
    "version": 3
   },
   "file_extension": ".py",
   "mimetype": "text/x-python",
   "name": "python",
   "nbconvert_exporter": "python",
   "pygments_lexer": "ipython3",
   "version": "3.6.4"
  }
 },
 "nbformat": 4,
 "nbformat_minor": 2
}
