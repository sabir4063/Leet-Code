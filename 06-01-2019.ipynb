{
 "cells": [
  {
   "cell_type": "code",
   "execution_count": 12,
   "metadata": {},
   "outputs": [],
   "source": [
    "class Solution:\n",
    "    def hasGroupsSizeX(self, deck):\n",
    "        \"\"\"\n",
    "        :type deck: List[int]\n",
    "        :rtype: bool\n",
    "        \"\"\"\n",
    "        \n",
    "        d = {}\n",
    "        for c in deck:\n",
    "            d[c] = d.get(c,0)+1\n",
    "            \n",
    "        mn = 10001\n",
    "        for k in d.keys():\n",
    "            if d[k]<2:\n",
    "                return False\n",
    "            if d[k]<mn:\n",
    "                mn = d[k]\n",
    "                \n",
    "        for i in range(2,mn+1,1):\n",
    "            tag = True\n",
    "            for k in d.keys():\n",
    "                if d[k]%i!=0:\n",
    "                    tag =False\n",
    "                    break\n",
    "            \n",
    "            if tag==True:\n",
    "                return True\n",
    "        \n",
    "        return False"
   ]
  },
  {
   "cell_type": "code",
   "execution_count": 13,
   "metadata": {},
   "outputs": [
    {
     "data": {
      "text/plain": [
       "False"
      ]
     },
     "execution_count": 13,
     "metadata": {},
     "output_type": "execute_result"
    }
   ],
   "source": [
    "solution = Solution()\n",
    "solution.hasGroupsSizeX([1,1,1,2,2,2,3,3])"
   ]
  },
  {
   "cell_type": "code",
   "execution_count": 74,
   "metadata": {},
   "outputs": [],
   "source": [
    "#Definition for singly-linked list.\n",
    "class ListNode:\n",
    "    def __init__(self, x):\n",
    "        self.val = x\n",
    "        self.next = None\n",
    "\n",
    "class Solution:\n",
    "    def isPalindrome(self, head):\n",
    "        \"\"\"\n",
    "        :type head: ListNode\n",
    "        :rtype: bool\n",
    "        \"\"\"\n",
    "        \n",
    "        if head==None: return True\n",
    "        rev_head = None\n",
    "        current = head.next\n",
    "        prev = head\n",
    "        rev_prev = ListNode(head.val)\n",
    "        temp = None\n",
    "        \n",
    "        while(current):\n",
    "            temp = ListNode(current.val)\n",
    "            temp.next = rev_prev\n",
    "            rev_prev = temp\n",
    "            current = current.next\n",
    "        \n",
    "        if temp==None: return True\n",
    "        rev_head = temp\n",
    "        r = rev_head\n",
    "        f = head\n",
    "        while f:\n",
    "            if f.val != r.val:\n",
    "                return False\n",
    "            f = f.next\n",
    "            r = r.next\n",
    "            \n",
    "        return True"
   ]
  },
  {
   "cell_type": "code",
   "execution_count": 75,
   "metadata": {},
   "outputs": [],
   "source": [
    "a = ListNode(1)\n",
    "# b = ListNode(2)\n",
    "# c = ListNode(2)\n",
    "# d = ListNode(1)\n",
    "head = a\n",
    "# a.next = b\n",
    "# b.next = c\n",
    "# c.next = d"
   ]
  },
  {
   "cell_type": "code",
   "execution_count": 76,
   "metadata": {},
   "outputs": [
    {
     "data": {
      "text/plain": [
       "True"
      ]
     },
     "execution_count": 76,
     "metadata": {},
     "output_type": "execute_result"
    }
   ],
   "source": [
    "solution = Solution()\n",
    "solution.isPalindrome(head)"
   ]
  },
  {
   "cell_type": "code",
   "execution_count": 91,
   "metadata": {},
   "outputs": [],
   "source": [
    "# Definition for singly-linked list.\n",
    "class ListNode:\n",
    "    def __init__(self, x):\n",
    "        self.val = x\n",
    "        self.next = None\n",
    "\n",
    "class Solution:\n",
    "    def removeElements(self, head, val):\n",
    "        \"\"\"\n",
    "        :type head: ListNode\n",
    "        :type val: int\n",
    "        :rtype: ListNode\n",
    "        \"\"\"\n",
    "        \n",
    "        if head == None: return head\n",
    "        while head and head.val==val:\n",
    "            head = head.next\n",
    "        \n",
    "        if head == None: return head\n",
    "        prev = head\n",
    "        curr = head.next\n",
    "        \n",
    "        while(curr):\n",
    "            if curr.val == val:\n",
    "                prev.next = curr.next\n",
    "            else:\n",
    "                prev = curr\n",
    "            curr = curr.next\n",
    "            \n",
    "#         curr = head\n",
    "#         while(curr):\n",
    "#             print(curr.val)\n",
    "#             curr = curr.next\n",
    "        return head"
   ]
  },
  {
   "cell_type": "code",
   "execution_count": 92,
   "metadata": {},
   "outputs": [
    {
     "name": "stdout",
     "output_type": "stream",
     "text": [
      "1\n"
     ]
    },
    {
     "data": {
      "text/plain": [
       "<__main__.ListNode at 0x1ad8e949f60>"
      ]
     },
     "execution_count": 92,
     "metadata": {},
     "output_type": "execute_result"
    }
   ],
   "source": [
    "a = ListNode(1)\n",
    "# b = ListNode(2)\n",
    "# c = ListNode(6)\n",
    "# d = ListNode(3)\n",
    "# e = ListNode(4)\n",
    "# f = ListNode(5)\n",
    "# g = ListNode(6)\n",
    "head = a\n",
    "# a.next = b\n",
    "# b.next = c\n",
    "# c.next = d\n",
    "# d.next = e\n",
    "# e.next = f\n",
    "# f.next = g\n",
    "\n",
    "solution = Solution()\n",
    "solution.removeElements(head, 6)"
   ]
  },
  {
   "cell_type": "code",
   "execution_count": 115,
   "metadata": {},
   "outputs": [],
   "source": [
    "# Definition for singly-linked list.\n",
    "class ListNode(object):\n",
    "    def __init__(self, x):\n",
    "        self.val = x\n",
    "        self.next = None\n",
    "\n",
    "class Solution(object):\n",
    "    def hasCycle(self, head):\n",
    "        \"\"\"\n",
    "        :type head: ListNode\n",
    "        :rtype: bool\n",
    "        \"\"\"\n",
    "        \n",
    "        run_one = head\n",
    "        if head == None:\n",
    "            return False\n",
    "        if head.next == None:\n",
    "            return False\n",
    "        if head.next.next == None:\n",
    "            if head == head.next: \n",
    "                return True\n",
    "            else: \n",
    "                return False\n",
    "            \n",
    "        run_double = head.next.next\n",
    "        \n",
    "        while(run_one.next and run_double.next and run_double.next.next):\n",
    "            #print(run_one.val, run_double.val)\n",
    "            if run_one == run_double:\n",
    "                return True\n",
    "            \n",
    "            run_one = run_one.next\n",
    "            run_double = run_double.next.next\n",
    "        \n",
    "        return False"
   ]
  },
  {
   "cell_type": "code",
   "execution_count": 117,
   "metadata": {},
   "outputs": [
    {
     "data": {
      "text/plain": [
       "True"
      ]
     },
     "execution_count": 117,
     "metadata": {},
     "output_type": "execute_result"
    }
   ],
   "source": [
    "a = ListNode(1)\n",
    "b = ListNode(2)\n",
    "# c = ListNode(6)\n",
    "# d = ListNode(3)\n",
    "# e = ListNode(4)\n",
    "# f = ListNode(5)\n",
    "# g = ListNode(6)\n",
    "head = a\n",
    "a.next = a\n",
    "# b.next = c\n",
    "# c.next = d\n",
    "# d.next = e\n",
    "# e.next = f\n",
    "# f.next = d\n",
    "\n",
    "solution = Solution()\n",
    "solution.hasCycle(head)"
   ]
  },
  {
   "cell_type": "code",
   "execution_count": 128,
   "metadata": {},
   "outputs": [],
   "source": [
    "class Solution(object):\n",
    "    def checkPerfectNumber(self, s):\n",
    "        \"\"\"\n",
    "        :type s: str\n",
    "        :rtype: bool\n",
    "        \"\"\"\n",
    "        if s<6: return False\n",
    "        \n",
    "        add = 0\n",
    "        sq = int(pow(s,0.5))\n",
    "        for i in range(1,sq+1,1):\n",
    "            if s%i == 0:\n",
    "                add = add + i\n",
    "                add = add + int(s/i)\n",
    "            #print(add)\n",
    "        \n",
    "        if s+s==add:\n",
    "            return True\n",
    "        return False"
   ]
  },
  {
   "cell_type": "code",
   "execution_count": 131,
   "metadata": {},
   "outputs": [
    {
     "data": {
      "text/plain": [
       "False"
      ]
     },
     "execution_count": 131,
     "metadata": {},
     "output_type": "execute_result"
    }
   ],
   "source": [
    "solution = Solution()\n",
    "solution.checkPerfectNumber(7)"
   ]
  },
  {
   "cell_type": "code",
   "execution_count": 140,
   "metadata": {},
   "outputs": [],
   "source": [
    "class Solution:\n",
    "    def containsNearbyDuplicate(self, nums, k):\n",
    "        \"\"\"\n",
    "        :type nums: List[int]\n",
    "        :type k: int\n",
    "        :rtype: bool\n",
    "        \"\"\"\n",
    "        \n",
    "        d = {}\n",
    "        diff = 0\n",
    "        tag = True\n",
    "        for i, n in enumerate(nums):\n",
    "            if n in d:\n",
    "                diff = i - d[n]\n",
    "                #print(i,d[n])\n",
    "                if diff <= k:\n",
    "                    return True\n",
    "                d[n] = i\n",
    "            else:\n",
    "                d[n] = i\n",
    "            #print(d)\n",
    "            \n",
    "        return False"
   ]
  },
  {
   "cell_type": "code",
   "execution_count": 141,
   "metadata": {},
   "outputs": [
    {
     "data": {
      "text/plain": [
       "True"
      ]
     },
     "execution_count": 141,
     "metadata": {},
     "output_type": "execute_result"
    }
   ],
   "source": [
    "solution = Solution()\n",
    "solution.containsNearbyDuplicate(nums = [1,0,1,1], k = 1)"
   ]
  },
  {
   "cell_type": "code",
   "execution_count": 217,
   "metadata": {},
   "outputs": [],
   "source": [
    "class Solution:\n",
    "    def judgeSquareSum(self, c):\n",
    "        \"\"\"\n",
    "        :type c: int\n",
    "        :rtype: bool\n",
    "        \"\"\"\n",
    "        \n",
    "        a = int(pow(c,0.5))+1\n",
    "        b = int(pow(c,0.5))+1\n",
    "        \n",
    "        for i in range(0,a,1):\n",
    "            aa = i ** 2\n",
    "            bb = c - aa\n",
    "            s_b = int(pow(bb,0.5))\n",
    "            if s_b*s_b==bb:\n",
    "                return True\n",
    "            \n",
    "        return False"
   ]
  },
  {
   "cell_type": "code",
   "execution_count": 222,
   "metadata": {},
   "outputs": [
    {
     "data": {
      "text/plain": [
       "True"
      ]
     },
     "execution_count": 222,
     "metadata": {},
     "output_type": "execute_result"
    }
   ],
   "source": [
    "solution = Solution()\n",
    "solution.judgeSquareSum(50)"
   ]
  },
  {
   "cell_type": "code",
   "execution_count": 283,
   "metadata": {},
   "outputs": [],
   "source": [
    "class Solution:\n",
    "    def longestCommonPrefix(self, strs):\n",
    "        \"\"\"\n",
    "        :type strs: List[str]\n",
    "        :rtype: str\n",
    "        \"\"\"\n",
    "        \n",
    "        for x in zip(*strs): \n",
    "            print(x)\n",
    "            \n",
    "        if strs==[]: return \"\"\n",
    "        if len(strs)==1: return strs[0]\n",
    "        tries = {}\n",
    "        l = []\n",
    "        \n",
    "        for str in strs:\n",
    "            l.append(len(str))\n",
    "        \n",
    "        mn = min(l)\n",
    "        mx = 0\n",
    "        res = ''\n",
    "        for i in range(mn):\n",
    "            temp = strs[0][0:i+1]\n",
    "            count = 0\n",
    "            for s in strs:\n",
    "                if temp == s[0:i+1]:\n",
    "                    count += 1\n",
    "                else:\n",
    "                    temp = ''\n",
    "                \n",
    "            #print(count, len(strs), mx)\n",
    "            if count >= len(strs) and count > mx:\n",
    "                #print(res)\n",
    "                mx = i\n",
    "                res = temp\n",
    "            else:\n",
    "                return res\n",
    "            \n",
    "        return res"
   ]
  },
  {
   "cell_type": "code",
   "execution_count": null,
   "metadata": {},
   "outputs": [],
   "source": [
    " def longestCommonPrefix(self, strs):        \n",
    "        i = 0\n",
    "        for x in zip(*strs):            \n",
    "            if len(set(x)) > 1: return strs[0][:i]            \n",
    "            i += 1            \n",
    "        return strs[0][:i] if strs else ''"
   ]
  },
  {
   "cell_type": "code",
   "execution_count": 284,
   "metadata": {},
   "outputs": [
    {
     "name": "stdout",
     "output_type": "stream",
     "text": [
      "('f', 'f', 'f')\n",
      "('l', 'l', 'l')\n",
      "('o', 'o', 'i')\n",
      "('w', 'w', 'g')\n"
     ]
    },
    {
     "data": {
      "text/plain": [
       "'fl'"
      ]
     },
     "execution_count": 284,
     "metadata": {},
     "output_type": "execute_result"
    }
   ],
   "source": [
    "solution = Solution()\n",
    "solution.longestCommonPrefix([\"flower\",\"flow\",\"flight\"])"
   ]
  },
  {
   "cell_type": "code",
   "execution_count": 349,
   "metadata": {},
   "outputs": [],
   "source": [
    "class Solution:\n",
    "    def lengthOfLastWord(self, s):\n",
    "        \"\"\"\n",
    "        :type s: str\n",
    "        :rtype: int\n",
    "        \"\"\"\n",
    "        \n",
    "        if s==\"\": return 0\n",
    "        l = len(s.split())\n",
    "        if l==0: return 0\n",
    "        \n",
    "        return len(s.split()[-1])"
   ]
  },
  {
   "cell_type": "code",
   "execution_count": 350,
   "metadata": {},
   "outputs": [
    {
     "data": {
      "text/plain": [
       "0"
      ]
     },
     "execution_count": 350,
     "metadata": {},
     "output_type": "execute_result"
    }
   ],
   "source": [
    "solution = Solution()\n",
    "solution.lengthOfLastWord(\" \")"
   ]
  },
  {
   "cell_type": "code",
   "execution_count": null,
   "metadata": {},
   "outputs": [],
   "source": [
    "\"abcbc\"\n",
    "\"cabcbca\""
   ]
  },
  {
   "cell_type": "code",
   "execution_count": 466,
   "metadata": {},
   "outputs": [],
   "source": [
    "class Solution:\n",
    "    def repeatedStringMatch(self, A, B):\n",
    "        \"\"\"\n",
    "        :type A: str\n",
    "        :type B: str\n",
    "        :rtype: int\n",
    "        \"\"\"\n",
    "        \n",
    "        if A == \"\": return -1\n",
    "        if B in A: return 1\n",
    "        if B in A+A: return 2\n",
    "        \n",
    "        count = 0\n",
    "        lenA = len(A)\n",
    "        lenB = len(B)\n",
    "        temp = A\n",
    "        \n",
    "        while lenA<=lenB*3:\n",
    "           # print(A)\n",
    "            count += 1\n",
    "            if B in A:\n",
    "                return count\n",
    "                break\n",
    "            A = A + temp\n",
    "            lenA = len(A)\n",
    "            \n",
    "            \n",
    "        return -1"
   ]
  },
  {
   "cell_type": "code",
   "execution_count": 467,
   "metadata": {},
   "outputs": [
    {
     "name": "stdout",
     "output_type": "stream",
     "text": [
      "abcbc\n",
      "abcbcabcbc\n",
      "abcbcabcbcabcbc\n"
     ]
    },
    {
     "data": {
      "text/plain": [
       "3"
      ]
     },
     "execution_count": 467,
     "metadata": {},
     "output_type": "execute_result"
    }
   ],
   "source": [
    "solution = Solution()\n",
    "solution.repeatedStringMatch(A = \"abcbc\", B = \"cabcbca\")"
   ]
  },
  {
   "cell_type": "code",
   "execution_count": 507,
   "metadata": {},
   "outputs": [],
   "source": [
    "# Definition for singly-linked list.\n",
    "class ListNode(object):\n",
    "    def __init__(self, x):\n",
    "        self.val = x\n",
    "        self.next = None\n",
    "\n",
    "class Solution(object):\n",
    "    def getIntersectionNode(self, headA, headB):\n",
    "        \"\"\"\n",
    "        :type head1, head1: ListNode\n",
    "        :rtype: ListNode\n",
    "        \"\"\"\n",
    "        \n",
    "        current1 = headA\n",
    "        current2 = headB\n",
    "        d = {}\n",
    "        \n",
    "        while current1 or current2:\n",
    "            \n",
    "            if current1==current2: return current1\n",
    "            #print(current1.val, current2.val)\n",
    "            if current1 in d:\n",
    "                return current1\n",
    "            if current2 in d:\n",
    "                return current2\n",
    "            \n",
    "            if current1 != None:\n",
    "                d[current1] = True\n",
    "                current1 = current1.next\n",
    "                \n",
    "            if current2 != None:\n",
    "                d[current2] = None\n",
    "                current2 = current2.next\n",
    "            \n",
    "        return None"
   ]
  },
  {
   "cell_type": "code",
   "execution_count": 509,
   "metadata": {},
   "outputs": [],
   "source": [
    "# Definition for singly-linked list.\n",
    "class ListNode(object):\n",
    "    def __init__(self, x):\n",
    "        self.val = x\n",
    "        self.next = None\n",
    "\n",
    "class Solution(object):\n",
    "    def getIntersectionNode(self, headA, headB):\n",
    "        \"\"\"\n",
    "        :type head1, head1: ListNode\n",
    "        :rtype: ListNode\n",
    "        \"\"\"\n",
    "        \n",
    "        current1 = headA\n",
    "        current2 = headB\n",
    "        \n",
    "        while current1 or current2:\n",
    "            \n",
    "            if current1==current2: return current1\n",
    "            \n",
    "            if current1 != None:\n",
    "                current1 = current1.next\n",
    "            else:\n",
    "                current1 = headB\n",
    "                \n",
    "            if current2 != None:\n",
    "                current2 = current2.next\n",
    "            else:\n",
    "                current2 = headA\n",
    "            \n",
    "        return None"
   ]
  },
  {
   "cell_type": "code",
   "execution_count": 510,
   "metadata": {},
   "outputs": [
    {
     "data": {
      "text/plain": [
       "<__main__.ListNode at 0x1ad8e918278>"
      ]
     },
     "execution_count": 510,
     "metadata": {},
     "output_type": "execute_result"
    }
   ],
   "source": [
    "a = ListNode(1)\n",
    "# b = ListNode(1)\n",
    "# c = ListNode(8)\n",
    "# d = ListNode(4)\n",
    "# e = ListNode(5)\n",
    "\n",
    "# f = ListNode(1)\n",
    "# g = ListNode(0)\n",
    "# h = ListNode(1)\n",
    "\n",
    "head1 = a\n",
    "# a.next = b\n",
    "# b.next = c\n",
    "# c.next = d\n",
    "# d.next = e\n",
    "\n",
    "head2 = a\n",
    "# f.next = g\n",
    "# g.next = h\n",
    "# h.next = c\n",
    "\n",
    "solution = Solution()\n",
    "solution.getIntersectionNode(head1, head2)"
   ]
  },
  {
   "cell_type": "code",
   "execution_count": 516,
   "metadata": {},
   "outputs": [],
   "source": [
    "class Solution:\n",
    "    def strStr(self, haystack, needle):\n",
    "        \"\"\"\n",
    "        :type haystack: str\n",
    "        :type needle: str\n",
    "        :rtype: int\n",
    "        \"\"\"\n",
    "        \n",
    "        if needle==\"\": return 0\n",
    "        \n",
    "        if needle in haystack:\n",
    "            ind = haystack.index(needle)\n",
    "            return ind\n",
    "        return -1"
   ]
  },
  {
   "cell_type": "code",
   "execution_count": 517,
   "metadata": {},
   "outputs": [
    {
     "data": {
      "text/plain": [
       "-1"
      ]
     },
     "execution_count": 517,
     "metadata": {},
     "output_type": "execute_result"
    }
   ],
   "source": [
    "solution = Solution()\n",
    "solution.strStr(haystack = \"hello\", needle = \"lle\")"
   ]
  },
  {
   "cell_type": "code",
   "execution_count": 571,
   "metadata": {},
   "outputs": [],
   "source": [
    "class Solution:\n",
    "    def canPlaceFlowers(self, flowerbed, n):\n",
    "        \"\"\"\n",
    "        :type houses: List[int]\n",
    "        :type heaters: List[int]\n",
    "        :rtype: int\n",
    "        \"\"\"\n",
    "        \n",
    "        if flowerbed==[0]:\n",
    "            if n<=1: return True\n",
    "            else: return False\n",
    "        if n==0: return True\n",
    "        \n",
    "        tag = False\n",
    "        for i in range(len(flowerbed)):\n",
    "            if flowerbed[i]==0:\n",
    "                if i-1>=0  and i+1<len(flowerbed) and flowerbed[i-1]==0 and flowerbed[i+1]==0:\n",
    "                    n -= 1\n",
    "                    flowerbed[i] = 1\n",
    "                elif i==0 and flowerbed[i+1]==0:\n",
    "                    n -= 1\n",
    "                    flowerbed[i] = 1\n",
    "                elif i==len(flowerbed)-1 and flowerbed[i-1]==0:\n",
    "                    n -= 1\n",
    "                    flowerbed[i] = 1\n",
    "            if n==0: return True\n",
    "            #print(flowerbed,i )\n",
    "            \n",
    "        #print(n)\n",
    "        if n==0 : return True\n",
    "        else: return False"
   ]
  },
  {
   "cell_type": "code",
   "execution_count": 572,
   "metadata": {},
   "outputs": [
    {
     "data": {
      "text/plain": [
       "True"
      ]
     },
     "execution_count": 572,
     "metadata": {},
     "output_type": "execute_result"
    }
   ],
   "source": [
    "solution = Solution()\n",
    "solution.canPlaceFlowers([0,0,0,0,0,1,0,0], n = 0)"
   ]
  },
  {
   "cell_type": "code",
   "execution_count": 582,
   "metadata": {},
   "outputs": [],
   "source": [
    "import re\n",
    "\n",
    "class Solution:\n",
    "    def isPalindrome(self, s):\n",
    "        \"\"\"\n",
    "        :type s: str\n",
    "        :rtype: bool\n",
    "        \"\"\"\n",
    "        \n",
    "        s = s.lower()\n",
    "        regex = r'\\b\\w+\\b'\n",
    "        s=''.join(re.findall(regex,s))\n",
    "        rev = s[::-1]\n",
    "        \n",
    "        if rev==s:return True\n",
    "        else: return False"
   ]
  },
  {
   "cell_type": "code",
   "execution_count": 583,
   "metadata": {},
   "outputs": [
    {
     "data": {
      "text/plain": [
       "True"
      ]
     },
     "execution_count": 583,
     "metadata": {},
     "output_type": "execute_result"
    }
   ],
   "source": [
    "solution = Solution()\n",
    "solution.isPalindrome(\"A man, a plan, a canal: Panama\")"
   ]
  },
  {
   "cell_type": "code",
   "execution_count": 601,
   "metadata": {},
   "outputs": [],
   "source": [
    "class Solution:\n",
    "    def findUnsortedSubarray(self, nums):\n",
    "        \"\"\"\n",
    "        :type nums: List[int]\n",
    "        :rtype: int\n",
    "        \"\"\"\n",
    "        \n",
    "        sort = sorted(nums)\n",
    "        start = 0\n",
    "        for i in range(len(nums)):\n",
    "            if sort[i]!=nums[i]:\n",
    "                break\n",
    "        start = i\n",
    "        \n",
    "        end = 0\n",
    "        for i in range(len(nums)-1,-1,-1):\n",
    "            if sort[i]!=nums[i]:\n",
    "                break\n",
    "        end = i\n",
    "        \n",
    "        if start>=end: return 0\n",
    "        else: return end-start+1"
   ]
  },
  {
   "cell_type": "code",
   "execution_count": 602,
   "metadata": {},
   "outputs": [
    {
     "data": {
      "text/plain": [
       "5"
      ]
     },
     "execution_count": 602,
     "metadata": {},
     "output_type": "execute_result"
    }
   ],
   "source": [
    "solution = Solution()\n",
    "solution.findUnsortedSubarray([2, 6, 4, 8, 10, 9, 15])"
   ]
  },
  {
   "cell_type": "code",
   "execution_count": 669,
   "metadata": {},
   "outputs": [],
   "source": [
    "import collections\n",
    "\n",
    "class Solution:\n",
    "    def findPairs(self, nums, k):\n",
    "        \"\"\"\n",
    "        :type nums: List[int]\n",
    "        :type k: int\n",
    "        :rtype: int\n",
    "        \"\"\"\n",
    "        \n",
    "        c = collections.Counter(nums)\n",
    "        print(c)\n",
    "        nums = sorted(list(nums))\n",
    "        d = {}\n",
    "        n = len(nums)\n",
    "        \n",
    "        for i in range(n-1):\n",
    "            for j in range(i+1,n,1):\n",
    "                if nums[j]-nums[i]>k:\n",
    "                    break\n",
    "                if nums[j]-nums[i]==k:\n",
    "                    a = nums[j]\n",
    "                    b = nums[i]\n",
    "                    tpl = (a,b)\n",
    "                    if tpl not in d:\n",
    "                        d[tpl] = True\n",
    "                    \n",
    "        return len(d)"
   ]
  },
  {
   "cell_type": "code",
   "execution_count": 683,
   "metadata": {},
   "outputs": [
    {
     "name": "stdout",
     "output_type": "stream",
     "text": [
      "Counter({1: 2, 3: 1, 5: 1, 4: 1})\n"
     ]
    },
    {
     "data": {
      "text/plain": [
       "2"
      ]
     },
     "execution_count": 683,
     "metadata": {},
     "output_type": "execute_result"
    }
   ],
   "source": [
    "solution = Solution()\n",
    "solution.findPairs([1,3,1,5,4], k = 2)"
   ]
  },
  {
   "cell_type": "code",
   "execution_count": 699,
   "metadata": {},
   "outputs": [],
   "source": [
    "class Solution:\n",
    "    def thirdMax(self, nums):\n",
    "        \"\"\"\n",
    "        :type nums: List[int]\n",
    "        :rtype: int\n",
    "        \"\"\"\n",
    "        \n",
    "        mx0=mx1=mx2=-1\n",
    "        \n",
    "        for i in range(3):\n",
    "            if len(nums)==0: break\n",
    "            if i==0:\n",
    "                mx0 = max(nums)\n",
    "                mx=mx0\n",
    "            if i==1:\n",
    "                mx1 = max(nums)\n",
    "                mx=mx1\n",
    "            if i==2:\n",
    "                mx2 = max(nums)\n",
    "                mx=mx2\n",
    "            temp = [i for i in nums if i != mx]\n",
    "            nums = temp\n",
    "            \n",
    "        #print(mx0,mx1,mx2)\n",
    "        if mx2==-1: return mx0\n",
    "        return mx2"
   ]
  },
  {
   "cell_type": "code",
   "execution_count": 701,
   "metadata": {},
   "outputs": [
    {
     "data": {
      "text/plain": [
       "2"
      ]
     },
     "execution_count": 701,
     "metadata": {},
     "output_type": "execute_result"
    }
   ],
   "source": [
    "solution = Solution()\n",
    "solution.thirdMax([2, 2, 1])"
   ]
  },
  {
   "cell_type": "code",
   "execution_count": 743,
   "metadata": {},
   "outputs": [],
   "source": [
    "class Solution:\n",
    "    def rotate(self, nums, k):\n",
    "        \"\"\"\n",
    "        :type nums: List[int]\n",
    "        :type k: int\n",
    "        :rtype: void Do not return anything, modify nums in-place instead.\n",
    "        \"\"\"\n",
    "        \n",
    "        for i in range(k):\n",
    "            temp = nums[len(nums)-1]\n",
    "            nums.pop()\n",
    "            nums.insert(0,temp)\n",
    "            #print(nums)\n",
    "            \n",
    "        #return nums"
   ]
  },
  {
   "cell_type": "code",
   "execution_count": 745,
   "metadata": {},
   "outputs": [
    {
     "name": "stdout",
     "output_type": "stream",
     "text": [
      "[7, 1, 2, 3, 4, 5, 6]\n",
      "[6, 7, 1, 2, 3, 4, 5]\n",
      "[5, 6, 7, 1, 2, 3, 4]\n"
     ]
    },
    {
     "data": {
      "text/plain": [
       "[5, 6, 7, 1, 2, 3, 4]"
      ]
     },
     "execution_count": 745,
     "metadata": {},
     "output_type": "execute_result"
    }
   ],
   "source": [
    "solution = Solution()\n",
    "solution.rotate([1,2,3,4,5,6,7], k = 3)"
   ]
  },
  {
   "cell_type": "code",
   "execution_count": 771,
   "metadata": {},
   "outputs": [],
   "source": [
    "class Solution:\n",
    "    def countPrimes(self, n):\n",
    "        \"\"\"\n",
    "        :type n: int\n",
    "        :rtype: int\n",
    "        \"\"\"\n",
    "        \n",
    "        if n<=2: return 0\n",
    "        n -= 1\n",
    "        is_prime = [1]*(n+1)\n",
    "        is_prime[0] = 0\n",
    "        is_prime[1] = 0\n",
    "        is_prime[2] = 1\n",
    "        \n",
    "        sq = int(pow(n,0.5))\n",
    "        for i in range(2,sq+1,1):\n",
    "            j = 2*i\n",
    "            while is_prime[i] and (j<=n):\n",
    "                is_prime[j] = 0\n",
    "                j += i\n",
    "        \n",
    "        return sum(is_prime)"
   ]
  },
  {
   "cell_type": "code",
   "execution_count": 772,
   "metadata": {},
   "outputs": [
    {
     "data": {
      "text/plain": [
       "10"
      ]
     },
     "execution_count": 772,
     "metadata": {},
     "output_type": "execute_result"
    }
   ],
   "source": [
    "solution = Solution()\n",
    "solution.countPrimes(30)"
   ]
  },
  {
   "cell_type": "code",
   "execution_count": 796,
   "metadata": {},
   "outputs": [],
   "source": [
    "class Solution:\n",
    "    def buddyStrings(self, A, B):\n",
    "        \"\"\"\n",
    "        :type A: str\n",
    "        :type B: str\n",
    "        :rtype: bool\n",
    "        \"\"\"\n",
    "        \n",
    "        lenA = len(A)\n",
    "        lenB = len(B)\n",
    "        \n",
    "        if lenA != lenB: return False\n",
    "        if (sorted(A)) != (sorted(B)): return False\n",
    "        #print(set(sorted(A)), set(sorted(B)))\n",
    "        \n",
    "        count = 0\n",
    "        for i in range(lenA):\n",
    "            if A[i]!=B[i]:\n",
    "                count += 1\n",
    "            \n",
    "            if count>2: return False\n",
    "        \n",
    "        if count == 2:\n",
    "            return True\n",
    "        elif count == 0:\n",
    "            cntA = collections.Counter(A)\n",
    "            cntB = collections.Counter(B)\n",
    "            for k in cntA.keys():\n",
    "                if cntA[k]>=2:\n",
    "                    return True\n",
    "            return False\n",
    "        else:\n",
    "            return False"
   ]
  },
  {
   "cell_type": "code",
   "execution_count": 797,
   "metadata": {},
   "outputs": [
    {
     "data": {
      "text/plain": [
       "False"
      ]
     },
     "execution_count": 797,
     "metadata": {},
     "output_type": "execute_result"
    }
   ],
   "source": [
    "solution = Solution()\n",
    "solution.buddyStrings(A = \"abcaa\", B = \"abcbb\")"
   ]
  }
 ],
 "metadata": {
  "kernelspec": {
   "display_name": "Python 3",
   "language": "python",
   "name": "python3"
  },
  "language_info": {
   "codemirror_mode": {
    "name": "ipython",
    "version": 3
   },
   "file_extension": ".py",
   "mimetype": "text/x-python",
   "name": "python",
   "nbconvert_exporter": "python",
   "pygments_lexer": "ipython3",
   "version": "3.6.4"
  }
 },
 "nbformat": 4,
 "nbformat_minor": 2
}
