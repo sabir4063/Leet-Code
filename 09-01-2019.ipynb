{
 "cells": [
  {
   "cell_type": "code",
   "execution_count": 85,
   "metadata": {},
   "outputs": [],
   "source": [
    "# Definition for singly-linked list.\n",
    "class ListNode(object):\n",
    "    def __init__(self, x):\n",
    "        self.val = x\n",
    "        self.next = None\n",
    "\n",
    "class Solution(object):\n",
    "    def oddEvenList(self, head):\n",
    "        \"\"\"\n",
    "        :type head: ListNode\n",
    "        :rtype: ListNode\n",
    "        \"\"\"\n",
    "        \n",
    "        \n",
    "        oddHead = None\n",
    "        evenHead = None\n",
    "        odd = None\n",
    "        even = None\n",
    "        \n",
    "        current = head\n",
    "        count = 1\n",
    "        while current:\n",
    "            #print(count, current.val)\n",
    "            if count%2==1:\n",
    "                if oddHead is None: \n",
    "                    oddHead = current\n",
    "                    odd = current\n",
    "                else:\n",
    "                    odd.next = current\n",
    "                    odd = odd.next\n",
    "            else:\n",
    "                if evenHead is None: \n",
    "                    evenHead = current\n",
    "                    even = current\n",
    "                else:\n",
    "                    even.next = current\n",
    "                    even = even.next\n",
    "            \n",
    "            current = current.next\n",
    "            count += 1\n",
    "        \n",
    "        if evenHead == None: return oddHead\n",
    "        odd.next = evenHead\n",
    "        even.next = None\n",
    "        current = oddHead\n",
    "        while(current):\n",
    "            print(current.val)\n",
    "            current = current.next\n",
    "        return oddHead"
   ]
  },
  {
   "cell_type": "code",
   "execution_count": 87,
   "metadata": {},
   "outputs": [
    {
     "data": {
      "text/plain": [
       "<__main__.ListNode at 0x244eb556128>"
      ]
     },
     "execution_count": 87,
     "metadata": {},
     "output_type": "execute_result"
    }
   ],
   "source": [
    "solution = Solution()\n",
    "solution.oddEvenList(head)"
   ]
  },
  {
   "cell_type": "code",
   "execution_count": 91,
   "metadata": {},
   "outputs": [],
   "source": [
    "head = ListNode(3)\n",
    "a = ListNode(2)\n",
    "b = ListNode(0)\n",
    "c = ListNode(-4)\n",
    "#d = ListNode(5)\n",
    "\n",
    "head.next = a\n",
    "a.next = b\n",
    "b.next = a"
   ]
  },
  {
   "cell_type": "code",
   "execution_count": 94,
   "metadata": {},
   "outputs": [],
   "source": [
    "# Definition for singly-linked list.\n",
    "class ListNode(object):\n",
    "    def __init__(self, x):\n",
    "        self.val = x\n",
    "        self.next = None\n",
    "\n",
    "class Solution(object):\n",
    "    def detectCycle(self, head):\n",
    "        \"\"\"\n",
    "        :type head: ListNode\n",
    "        :rtype: ListNode\n",
    "        \"\"\"\n",
    "        \n",
    "        d = {}\n",
    "        current = head\n",
    "        pos = 0\n",
    "        \n",
    "        while(current):\n",
    "            if current in d:\n",
    "                return d[current]\n",
    "            d[current] = pos\n",
    "            current = current.next\n",
    "            pos = pos + 1\n",
    "            \n",
    "        return -1"
   ]
  },
  {
   "cell_type": "code",
   "execution_count": 95,
   "metadata": {},
   "outputs": [
    {
     "data": {
      "text/plain": [
       "1"
      ]
     },
     "execution_count": 95,
     "metadata": {},
     "output_type": "execute_result"
    }
   ],
   "source": [
    "solution = Solution()\n",
    "solution.detectCycle(head)"
   ]
  }
 ],
 "metadata": {
  "kernelspec": {
   "display_name": "Python 3",
   "language": "python",
   "name": "python3"
  },
  "language_info": {
   "codemirror_mode": {
    "name": "ipython",
    "version": 3
   },
   "file_extension": ".py",
   "mimetype": "text/x-python",
   "name": "python",
   "nbconvert_exporter": "python",
   "pygments_lexer": "ipython3",
   "version": "3.6.4"
  }
 },
 "nbformat": 4,
 "nbformat_minor": 2
}
