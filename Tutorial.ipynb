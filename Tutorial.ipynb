{
 "cells": [
  {
   "cell_type": "code",
   "execution_count": 1,
   "metadata": {},
   "outputs": [],
   "source": [
    "class Node:\n",
    "    def __init__(self,val):\n",
    "        self.val = val\n",
    "        self.next = None # the pointer initially points to nothing\n",
    "        \n",
    "    def traverse(self):\n",
    "        node = self # start from the head node\n",
    "        while node != None:\n",
    "            print node.val # access the node value\n",
    "            node = node.next # move on to the next node"
   ]
  },
  {
   "cell_type": "code",
   "execution_count": 3,
   "metadata": {},
   "outputs": [],
   "source": [
    "node1 = Node(12) \n",
    "node2 = Node(99) \n",
    "node3 = Node(37) \n",
    "node1.next = node2 # 12->99\n",
    "node2.next = node3 # 99->37\n",
    "# the entire linked list now looks like: 12->99->37"
   ]
  },
  {
   "cell_type": "code",
   "execution_count": 7,
   "metadata": {},
   "outputs": [],
   "source": [
    "header = Node(100)\n",
    "current = header\n",
    "\n",
    "for i in range(5):\n",
    "    temp_node = Node(i)\n",
    "    current.next = temp_node\n",
    "    current = temp_node"
   ]
  },
  {
   "cell_type": "code",
   "execution_count": 8,
   "metadata": {},
   "outputs": [
    {
     "name": "stdout",
     "output_type": "stream",
     "text": [
      "100\n",
      "0\n",
      "1\n",
      "2\n",
      "3\n",
      "4\n"
     ]
    }
   ],
   "source": [
    "current = header\n",
    "\n",
    "while current != None:\n",
    "    v = current.val\n",
    "    print(v)\n",
    "    current = current.next"
   ]
  }
 ],
 "metadata": {
  "kernelspec": {
   "display_name": "Python 3",
   "language": "python",
   "name": "python3"
  },
  "language_info": {
   "codemirror_mode": {
    "name": "ipython",
    "version": 3
   },
   "file_extension": ".py",
   "mimetype": "text/x-python",
   "name": "python",
   "nbconvert_exporter": "python",
   "pygments_lexer": "ipython3",
   "version": "3.6.4"
  }
 },
 "nbformat": 4,
 "nbformat_minor": 2
}
